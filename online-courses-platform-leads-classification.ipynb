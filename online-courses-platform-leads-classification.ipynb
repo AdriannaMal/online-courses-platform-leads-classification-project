{
 "cells": [
  {
   "cell_type": "markdown",
   "id": "3db9f805",
   "metadata": {},
   "source": [
    "**Online courses platform leads classification**"
   ]
  },
  {
   "cell_type": "markdown",
   "id": "f8b78fe1",
   "metadata": {
    "toc": true
   },
   "source": [
    "<h1>Table of Contents<span class=\"tocSkip\"></span></h1>\n",
    "<div class=\"toc\"><ul class=\"toc-item\"><li><span><a href=\"#Research-problem\" data-toc-modified-id=\"Research-problem-1\"><span class=\"toc-item-num\">1&nbsp;&nbsp;</span>Research problem</a></span></li><li><span><a href=\"#Packages-Import\" data-toc-modified-id=\"Packages-Import-2\"><span class=\"toc-item-num\">2&nbsp;&nbsp;</span>Packages Import</a></span></li><li><span><a href=\"#Data-Import\" data-toc-modified-id=\"Data-Import-3\"><span class=\"toc-item-num\">3&nbsp;&nbsp;</span>Data Import</a></span></li><li><span><a href=\"#Exploratory-Data-Analysis\" data-toc-modified-id=\"Exploratory-Data-Analysis-4\"><span class=\"toc-item-num\">4&nbsp;&nbsp;</span>Exploratory Data Analysis</a></span><ul class=\"toc-item\"><li><span><a href=\"#Selecting-Categorical-and-Numerical-Data\" data-toc-modified-id=\"Selecting-Categorical-and-Numerical-Data-4.1\"><span class=\"toc-item-num\">4.1&nbsp;&nbsp;</span>Selecting Categorical and Numerical Data</a></span></li><li><span><a href=\"#Handling-columns-with-high-%-of-missing-data-and-rows-with-low-%-of-missing-data\" data-toc-modified-id=\"Handling-columns-with-high-%-of-missing-data-and-rows-with-low-%-of-missing-data-4.2\"><span class=\"toc-item-num\">4.2&nbsp;&nbsp;</span>Handling columns with high % of missing data and rows with low % of missing data</a></span></li><li><span><a href=\"#Handling-Outliers\" data-toc-modified-id=\"Handling-Outliers-4.3\"><span class=\"toc-item-num\">4.3&nbsp;&nbsp;</span>Handling Outliers</a></span><ul class=\"toc-item\"><li><span><a href=\"#Total-Visits-column\" data-toc-modified-id=\"Total-Visits-column-4.3.1\"><span class=\"toc-item-num\">4.3.1&nbsp;&nbsp;</span>Total Visits column</a></span></li><li><span><a href=\"#Total-Time-Spent-on-Website-column\" data-toc-modified-id=\"Total-Time-Spent-on-Website-column-4.3.2\"><span class=\"toc-item-num\">4.3.2&nbsp;&nbsp;</span>Total Time Spent on Website column</a></span></li><li><span><a href=\"#Page-Views-Per-Visit-column\" data-toc-modified-id=\"Page-Views-Per-Visit-column-4.3.3\"><span class=\"toc-item-num\">4.3.3&nbsp;&nbsp;</span>Page Views Per Visit column</a></span></li></ul></li><li><span><a href=\"#Preparing-train-dataset\" data-toc-modified-id=\"Preparing-train-dataset-4.4\"><span class=\"toc-item-num\">4.4&nbsp;&nbsp;</span>Preparing train dataset</a></span><ul class=\"toc-item\"><li><span><a href=\"#Train-test-split\" data-toc-modified-id=\"Train-test-split-4.4.1\"><span class=\"toc-item-num\">4.4.1&nbsp;&nbsp;</span>Train test split</a></span></li><li><span><a href=\"#Data-cleaning-in-categorical-columns\" data-toc-modified-id=\"Data-cleaning-in-categorical-columns-4.4.2\"><span class=\"toc-item-num\">4.4.2&nbsp;&nbsp;</span>Data cleaning in categorical columns</a></span><ul class=\"toc-item\"><li><span><a href=\"#Lead-Origin-Column\" data-toc-modified-id=\"Lead-Origin-Column-4.4.2.1\"><span class=\"toc-item-num\">4.4.2.1&nbsp;&nbsp;</span>Lead Origin Column</a></span></li><li><span><a href=\"#Lead-Source-Column\" data-toc-modified-id=\"Lead-Source-Column-4.4.2.2\"><span class=\"toc-item-num\">4.4.2.2&nbsp;&nbsp;</span>Lead Source Column</a></span></li><li><span><a href=\"#Do-Not-Email-Column\" data-toc-modified-id=\"Do-Not-Email-Column-4.4.2.3\"><span class=\"toc-item-num\">4.4.2.3&nbsp;&nbsp;</span>Do Not Email Column</a></span></li><li><span><a href=\"#Do-Not-Call-column\" data-toc-modified-id=\"Do-Not-Call-column-4.4.2.4\"><span class=\"toc-item-num\">4.4.2.4&nbsp;&nbsp;</span>Do Not Call column</a></span></li><li><span><a href=\"#Last-Activity-column\" data-toc-modified-id=\"Last-Activity-column-4.4.2.5\"><span class=\"toc-item-num\">4.4.2.5&nbsp;&nbsp;</span>Last Activity column</a></span></li><li><span><a href=\"#Country-column\" data-toc-modified-id=\"Country-column-4.4.2.6\"><span class=\"toc-item-num\">4.4.2.6&nbsp;&nbsp;</span>Country column</a></span></li><li><span><a href=\"#Specialization-column\" data-toc-modified-id=\"Specialization-column-4.4.2.7\"><span class=\"toc-item-num\">4.4.2.7&nbsp;&nbsp;</span>Specialization column</a></span></li><li><span><a href=\"#What-is-your-current-occupation-column\" data-toc-modified-id=\"What-is-your-current-occupation-column-4.4.2.8\"><span class=\"toc-item-num\">4.4.2.8&nbsp;&nbsp;</span>What is your current occupation column</a></span></li><li><span><a href=\"#What-matters-most-to-you-in-choosing-a-course-column\" data-toc-modified-id=\"What-matters-most-to-you-in-choosing-a-course-column-4.4.2.9\"><span class=\"toc-item-num\">4.4.2.9&nbsp;&nbsp;</span>What matters most to you in choosing a course column</a></span></li><li><span><a href=\"#Search-column\" data-toc-modified-id=\"Search-column-4.4.2.10\"><span class=\"toc-item-num\">4.4.2.10&nbsp;&nbsp;</span>Search column</a></span></li><li><span><a href=\"#Newspaper-Article-column\" data-toc-modified-id=\"Newspaper-Article-column-4.4.2.11\"><span class=\"toc-item-num\">4.4.2.11&nbsp;&nbsp;</span>Newspaper Article column</a></span></li><li><span><a href=\"#X-Education-Forums-column\" data-toc-modified-id=\"X-Education-Forums-column-4.4.2.12\"><span class=\"toc-item-num\">4.4.2.12&nbsp;&nbsp;</span>X Education Forums column</a></span></li><li><span><a href=\"#Newspaper-column\" data-toc-modified-id=\"Newspaper-column-4.4.2.13\"><span class=\"toc-item-num\">4.4.2.13&nbsp;&nbsp;</span>Newspaper column</a></span></li><li><span><a href=\"#Digital-Advertisement-column\" data-toc-modified-id=\"Digital-Advertisement-column-4.4.2.14\"><span class=\"toc-item-num\">4.4.2.14&nbsp;&nbsp;</span>Digital Advertisement column</a></span></li><li><span><a href=\"#Through-Recommendations-column\" data-toc-modified-id=\"Through-Recommendations-column-4.4.2.15\"><span class=\"toc-item-num\">4.4.2.15&nbsp;&nbsp;</span>Through Recommendations column</a></span></li><li><span><a href=\"#City-column\" data-toc-modified-id=\"City-column-4.4.2.16\"><span class=\"toc-item-num\">4.4.2.16&nbsp;&nbsp;</span>City column</a></span></li><li><span><a href=\"#A-free-copy-of-Mastering-The-Interview-column\" data-toc-modified-id=\"A-free-copy-of-Mastering-The-Interview-column-4.4.2.17\"><span class=\"toc-item-num\">4.4.2.17&nbsp;&nbsp;</span>A free copy of Mastering The Interview column</a></span></li><li><span><a href=\"#Last-Notable-Activity-column\" data-toc-modified-id=\"Last-Notable-Activity-column-4.4.2.18\"><span class=\"toc-item-num\">4.4.2.18&nbsp;&nbsp;</span>Last Notable Activity column</a></span></li></ul></li></ul></li><li><span><a href=\"#Data-Cleaning-in-numerical-columns\" data-toc-modified-id=\"Data-Cleaning-in-numerical-columns-4.5\"><span class=\"toc-item-num\">4.5&nbsp;&nbsp;</span>Data Cleaning in numerical columns</a></span></li><li><span><a href=\"#Binary-and-Dummy-variables\" data-toc-modified-id=\"Binary-and-Dummy-variables-4.6\"><span class=\"toc-item-num\">4.6&nbsp;&nbsp;</span>Binary and Dummy variables</a></span><ul class=\"toc-item\"><li><span><a href=\"#Binary-Variables\" data-toc-modified-id=\"Binary-Variables-4.6.1\"><span class=\"toc-item-num\">4.6.1&nbsp;&nbsp;</span>Binary Variables</a></span></li><li><span><a href=\"#Dummy-Variables\" data-toc-modified-id=\"Dummy-Variables-4.6.2\"><span class=\"toc-item-num\">4.6.2&nbsp;&nbsp;</span>Dummy Variables</a></span></li></ul></li><li><span><a href=\"#Preparing-test-dataset\" data-toc-modified-id=\"Preparing-test-dataset-4.7\"><span class=\"toc-item-num\">4.7&nbsp;&nbsp;</span>Preparing test dataset</a></span></li></ul></li><li><span><a href=\"#Baseline-Model\" data-toc-modified-id=\"Baseline-Model-5\"><span class=\"toc-item-num\">5&nbsp;&nbsp;</span>Baseline Model</a></span></li><li><span><a href=\"#Logistic-Regression\" data-toc-modified-id=\"Logistic-Regression-6\"><span class=\"toc-item-num\">6&nbsp;&nbsp;</span>Logistic Regression</a></span><ul class=\"toc-item\"><li><span><a href=\"#Feature-Selection\" data-toc-modified-id=\"Feature-Selection-6.1\"><span class=\"toc-item-num\">6.1&nbsp;&nbsp;</span>Feature Selection</a></span><ul class=\"toc-item\"><li><span><a href=\"#RFECV\" data-toc-modified-id=\"RFECV-6.1.1\"><span class=\"toc-item-num\">6.1.1&nbsp;&nbsp;</span>RFECV</a></span></li></ul></li><li><span><a href=\"#Logistic-Regression\" data-toc-modified-id=\"Logistic-Regression-6.2\"><span class=\"toc-item-num\">6.2&nbsp;&nbsp;</span>Logistic Regression</a></span><ul class=\"toc-item\"><li><span><a href=\"#Basic-Logistic-Regression\" data-toc-modified-id=\"Basic-Logistic-Regression-6.2.1\"><span class=\"toc-item-num\">6.2.1&nbsp;&nbsp;</span>Basic Logistic Regression</a></span></li><li><span><a href=\"#Scaling-the-data\" data-toc-modified-id=\"Scaling-the-data-6.2.2\"><span class=\"toc-item-num\">6.2.2&nbsp;&nbsp;</span>Scaling the data</a></span></li><li><span><a href=\"#Grid-Search\" data-toc-modified-id=\"Grid-Search-6.2.3\"><span class=\"toc-item-num\">6.2.3&nbsp;&nbsp;</span>Grid Search</a></span></li><li><span><a href=\"#Logistic-Regression-after-GridSearchCV\" data-toc-modified-id=\"Logistic-Regression-after-GridSearchCV-6.2.4\"><span class=\"toc-item-num\">6.2.4&nbsp;&nbsp;</span>Logistic Regression after GridSearchCV</a></span></li></ul></li></ul></li><li><span><a href=\"#Decision-Tree-Classifier\" data-toc-modified-id=\"Decision-Tree-Classifier-7\"><span class=\"toc-item-num\">7&nbsp;&nbsp;</span>Decision Tree Classifier</a></span><ul class=\"toc-item\"><li><ul class=\"toc-item\"><li><span><a href=\"#RFECV\" data-toc-modified-id=\"RFECV-7.0.1\"><span class=\"toc-item-num\">7.0.1&nbsp;&nbsp;</span>RFECV</a></span></li><li><span><a href=\"#Basic-Decision-Tree-Classifier\" data-toc-modified-id=\"Basic-Decision-Tree-Classifier-7.0.2\"><span class=\"toc-item-num\">7.0.2&nbsp;&nbsp;</span>Basic Decision Tree Classifier</a></span></li><li><span><a href=\"#Grid-Search\" data-toc-modified-id=\"Grid-Search-7.0.3\"><span class=\"toc-item-num\">7.0.3&nbsp;&nbsp;</span>Grid Search</a></span></li><li><span><a href=\"#Decition-Tree-Classifier-after-Grid-Search\" data-toc-modified-id=\"Decition-Tree-Classifier-after-Grid-Search-7.0.4\"><span class=\"toc-item-num\">7.0.4&nbsp;&nbsp;</span>Decition Tree Classifier after Grid Search</a></span></li></ul></li></ul></li><li><span><a href=\"#Random-Forest-Classifier\" data-toc-modified-id=\"Random-Forest-Classifier-8\"><span class=\"toc-item-num\">8&nbsp;&nbsp;</span>Random Forest Classifier</a></span><ul class=\"toc-item\"><li><span><a href=\"#Feature-Selection\" data-toc-modified-id=\"Feature-Selection-8.1\"><span class=\"toc-item-num\">8.1&nbsp;&nbsp;</span>Feature Selection</a></span><ul class=\"toc-item\"><li><span><a href=\"#RFECV\" data-toc-modified-id=\"RFECV-8.1.1\"><span class=\"toc-item-num\">8.1.1&nbsp;&nbsp;</span>RFECV</a></span></li><li><span><a href=\"#Basic-Random-Forest-Classifier\" data-toc-modified-id=\"Basic-Random-Forest-Classifier-8.1.2\"><span class=\"toc-item-num\">8.1.2&nbsp;&nbsp;</span>Basic Random Forest Classifier</a></span></li><li><span><a href=\"#Grid-Search\" data-toc-modified-id=\"Grid-Search-8.1.3\"><span class=\"toc-item-num\">8.1.3&nbsp;&nbsp;</span>Grid Search</a></span></li><li><span><a href=\"#Random-Forest-Classifier-after-Grid-Search\" data-toc-modified-id=\"Random-Forest-Classifier-after-Grid-Search-8.1.4\"><span class=\"toc-item-num\">8.1.4&nbsp;&nbsp;</span>Random Forest Classifier after Grid Search</a></span></li></ul></li></ul></li><li><span><a href=\"#Summary\" data-toc-modified-id=\"Summary-9\"><span class=\"toc-item-num\">9&nbsp;&nbsp;</span>Summary</a></span><ul class=\"toc-item\"><li><span><a href=\"#The-best-classificator\" data-toc-modified-id=\"The-best-classificator-9.1\"><span class=\"toc-item-num\">9.1&nbsp;&nbsp;</span>The best classificator</a></span></li><li><span><a href=\"#What-could-have-been-done-differently\" data-toc-modified-id=\"What-could-have-been-done-differently-9.2\"><span class=\"toc-item-num\">9.2&nbsp;&nbsp;</span>What could have been done differently</a></span></li></ul></li></ul></div>"
   ]
  },
  {
   "cell_type": "markdown",
   "id": "bb603504",
   "metadata": {},
   "source": [
    "# Research problem"
   ]
  },
  {
   "cell_type": "markdown",
   "id": "1dee2947",
   "metadata": {},
   "source": [
    "**In this notebook we examine online courses platform leads. Description of the dataset can be found under this link: https://www.kaggle.com/datasets/amritachatterjee09/lead-scoring-dataset**\n",
    "\n",
    "**The goal is to find best classifier which uses information about lead to classify it as converted and not converted. The puprose of building such classifier is to help prioritize contact from sales team with leads who are probably going to convert. We are going to use Logistic Regression, Decition Tree Classifier and Random Forest Classifier. Let's find out which of the listed classifier works the best in this case.**\n",
    "\n",
    "**As what we care about is to find all leads that might convert and also be precise, we will use F1 score for evaluation of the model.**"
   ]
  },
  {
   "cell_type": "markdown",
   "id": "7ee1dfaa",
   "metadata": {},
   "source": [
    "# Packages Import"
   ]
  },
  {
   "cell_type": "code",
   "execution_count": 1,
   "id": "f0043d3c",
   "metadata": {},
   "outputs": [],
   "source": [
    "import pandas as pd\n",
    "import matplotlib.pyplot as plt\n",
    "import numpy as np\n",
    "import seaborn as sns\n",
    "from sklearn.impute import SimpleImputer\n",
    "from sklearn.linear_model import LogisticRegression\n",
    "from sklearn.tree import DecisionTreeClassifier\n",
    "from sklearn.ensemble import RandomForestClassifier\n",
    "from sklearn.dummy import DummyClassifier\n",
    "from sklearn.model_selection import GridSearchCV\n",
    "from sklearn.metrics import confusion_matrix\n",
    "from sklearn.model_selection import cross_val_score\n",
    "from sklearn.metrics import recall_score\n",
    "from sklearn.metrics import accuracy_score\n",
    "from sklearn.metrics import precision_score\n",
    "from sklearn.metrics import f1_score\n",
    "from sklearn.metrics import roc_curve\n",
    "from sklearn.preprocessing import StandardScaler\n",
    "from sklearn.model_selection import train_test_split\n",
    "from sklearn.feature_selection import SelectFromModel\n",
    "from sklearn.feature_selection import RFECV\n",
    "from sklearn.pipeline import make_pipeline"
   ]
  },
  {
   "cell_type": "markdown",
   "id": "c25601e5",
   "metadata": {},
   "source": [
    "# Data Import "
   ]
  },
  {
   "cell_type": "markdown",
   "id": "346de20d",
   "metadata": {},
   "source": [
    "**Let's read the dataset at first**"
   ]
  },
  {
   "cell_type": "code",
   "execution_count": 2,
   "id": "44b3efcc",
   "metadata": {},
   "outputs": [],
   "source": [
    "pd.set_option('display.max_columns', None)"
   ]
  },
  {
   "cell_type": "code",
   "execution_count": 3,
   "id": "673863ff",
   "metadata": {},
   "outputs": [],
   "source": [
    "data=pd.read_csv(\"Lead_Scoring.csv\")"
   ]
  },
  {
   "cell_type": "code",
   "execution_count": 4,
   "id": "61dcb8fc",
   "metadata": {
    "scrolled": true
   },
   "outputs": [
    {
     "data": {
      "text/html": [
       "<div>\n",
       "<style scoped>\n",
       "    .dataframe tbody tr th:only-of-type {\n",
       "        vertical-align: middle;\n",
       "    }\n",
       "\n",
       "    .dataframe tbody tr th {\n",
       "        vertical-align: top;\n",
       "    }\n",
       "\n",
       "    .dataframe thead th {\n",
       "        text-align: right;\n",
       "    }\n",
       "</style>\n",
       "<table border=\"1\" class=\"dataframe\">\n",
       "  <thead>\n",
       "    <tr style=\"text-align: right;\">\n",
       "      <th></th>\n",
       "      <th>Prospect ID</th>\n",
       "      <th>Lead Number</th>\n",
       "      <th>Lead Origin</th>\n",
       "      <th>Lead Source</th>\n",
       "      <th>Do Not Email</th>\n",
       "      <th>Do Not Call</th>\n",
       "      <th>Converted</th>\n",
       "      <th>TotalVisits</th>\n",
       "      <th>Total Time Spent on Website</th>\n",
       "      <th>Page Views Per Visit</th>\n",
       "      <th>Last Activity</th>\n",
       "      <th>Country</th>\n",
       "      <th>Specialization</th>\n",
       "      <th>How did you hear about X Education</th>\n",
       "      <th>What is your current occupation</th>\n",
       "      <th>What matters most to you in choosing a course</th>\n",
       "      <th>Search</th>\n",
       "      <th>Magazine</th>\n",
       "      <th>Newspaper Article</th>\n",
       "      <th>X Education Forums</th>\n",
       "      <th>Newspaper</th>\n",
       "      <th>Digital Advertisement</th>\n",
       "      <th>Through Recommendations</th>\n",
       "      <th>Receive More Updates About Our Courses</th>\n",
       "      <th>Tags</th>\n",
       "      <th>Lead Quality</th>\n",
       "      <th>Update me on Supply Chain Content</th>\n",
       "      <th>Get updates on DM Content</th>\n",
       "      <th>Lead Profile</th>\n",
       "      <th>City</th>\n",
       "      <th>Asymmetrique Activity Index</th>\n",
       "      <th>Asymmetrique Profile Index</th>\n",
       "      <th>Asymmetrique Activity Score</th>\n",
       "      <th>Asymmetrique Profile Score</th>\n",
       "      <th>I agree to pay the amount through cheque</th>\n",
       "      <th>A free copy of Mastering The Interview</th>\n",
       "      <th>Last Notable Activity</th>\n",
       "    </tr>\n",
       "  </thead>\n",
       "  <tbody>\n",
       "    <tr>\n",
       "      <th>0</th>\n",
       "      <td>7927b2df-8bba-4d29-b9a2-b6e0beafe620</td>\n",
       "      <td>660737</td>\n",
       "      <td>API</td>\n",
       "      <td>Olark Chat</td>\n",
       "      <td>No</td>\n",
       "      <td>No</td>\n",
       "      <td>0</td>\n",
       "      <td>0.0</td>\n",
       "      <td>0</td>\n",
       "      <td>0.0</td>\n",
       "      <td>Page Visited on Website</td>\n",
       "      <td>NaN</td>\n",
       "      <td>Select</td>\n",
       "      <td>Select</td>\n",
       "      <td>Unemployed</td>\n",
       "      <td>Better Career Prospects</td>\n",
       "      <td>No</td>\n",
       "      <td>No</td>\n",
       "      <td>No</td>\n",
       "      <td>No</td>\n",
       "      <td>No</td>\n",
       "      <td>No</td>\n",
       "      <td>No</td>\n",
       "      <td>No</td>\n",
       "      <td>Interested in other courses</td>\n",
       "      <td>Low in Relevance</td>\n",
       "      <td>No</td>\n",
       "      <td>No</td>\n",
       "      <td>Select</td>\n",
       "      <td>Select</td>\n",
       "      <td>02.Medium</td>\n",
       "      <td>02.Medium</td>\n",
       "      <td>15.0</td>\n",
       "      <td>15.0</td>\n",
       "      <td>No</td>\n",
       "      <td>No</td>\n",
       "      <td>Modified</td>\n",
       "    </tr>\n",
       "    <tr>\n",
       "      <th>1</th>\n",
       "      <td>2a272436-5132-4136-86fa-dcc88c88f482</td>\n",
       "      <td>660728</td>\n",
       "      <td>API</td>\n",
       "      <td>Organic Search</td>\n",
       "      <td>No</td>\n",
       "      <td>No</td>\n",
       "      <td>0</td>\n",
       "      <td>5.0</td>\n",
       "      <td>674</td>\n",
       "      <td>2.5</td>\n",
       "      <td>Email Opened</td>\n",
       "      <td>India</td>\n",
       "      <td>Select</td>\n",
       "      <td>Select</td>\n",
       "      <td>Unemployed</td>\n",
       "      <td>Better Career Prospects</td>\n",
       "      <td>No</td>\n",
       "      <td>No</td>\n",
       "      <td>No</td>\n",
       "      <td>No</td>\n",
       "      <td>No</td>\n",
       "      <td>No</td>\n",
       "      <td>No</td>\n",
       "      <td>No</td>\n",
       "      <td>Ringing</td>\n",
       "      <td>NaN</td>\n",
       "      <td>No</td>\n",
       "      <td>No</td>\n",
       "      <td>Select</td>\n",
       "      <td>Select</td>\n",
       "      <td>02.Medium</td>\n",
       "      <td>02.Medium</td>\n",
       "      <td>15.0</td>\n",
       "      <td>15.0</td>\n",
       "      <td>No</td>\n",
       "      <td>No</td>\n",
       "      <td>Email Opened</td>\n",
       "    </tr>\n",
       "    <tr>\n",
       "      <th>2</th>\n",
       "      <td>8cc8c611-a219-4f35-ad23-fdfd2656bd8a</td>\n",
       "      <td>660727</td>\n",
       "      <td>Landing Page Submission</td>\n",
       "      <td>Direct Traffic</td>\n",
       "      <td>No</td>\n",
       "      <td>No</td>\n",
       "      <td>1</td>\n",
       "      <td>2.0</td>\n",
       "      <td>1532</td>\n",
       "      <td>2.0</td>\n",
       "      <td>Email Opened</td>\n",
       "      <td>India</td>\n",
       "      <td>Business Administration</td>\n",
       "      <td>Select</td>\n",
       "      <td>Student</td>\n",
       "      <td>Better Career Prospects</td>\n",
       "      <td>No</td>\n",
       "      <td>No</td>\n",
       "      <td>No</td>\n",
       "      <td>No</td>\n",
       "      <td>No</td>\n",
       "      <td>No</td>\n",
       "      <td>No</td>\n",
       "      <td>No</td>\n",
       "      <td>Will revert after reading the email</td>\n",
       "      <td>Might be</td>\n",
       "      <td>No</td>\n",
       "      <td>No</td>\n",
       "      <td>Potential Lead</td>\n",
       "      <td>Mumbai</td>\n",
       "      <td>02.Medium</td>\n",
       "      <td>01.High</td>\n",
       "      <td>14.0</td>\n",
       "      <td>20.0</td>\n",
       "      <td>No</td>\n",
       "      <td>Yes</td>\n",
       "      <td>Email Opened</td>\n",
       "    </tr>\n",
       "    <tr>\n",
       "      <th>3</th>\n",
       "      <td>0cc2df48-7cf4-4e39-9de9-19797f9b38cc</td>\n",
       "      <td>660719</td>\n",
       "      <td>Landing Page Submission</td>\n",
       "      <td>Direct Traffic</td>\n",
       "      <td>No</td>\n",
       "      <td>No</td>\n",
       "      <td>0</td>\n",
       "      <td>1.0</td>\n",
       "      <td>305</td>\n",
       "      <td>1.0</td>\n",
       "      <td>Unreachable</td>\n",
       "      <td>India</td>\n",
       "      <td>Media and Advertising</td>\n",
       "      <td>Word Of Mouth</td>\n",
       "      <td>Unemployed</td>\n",
       "      <td>Better Career Prospects</td>\n",
       "      <td>No</td>\n",
       "      <td>No</td>\n",
       "      <td>No</td>\n",
       "      <td>No</td>\n",
       "      <td>No</td>\n",
       "      <td>No</td>\n",
       "      <td>No</td>\n",
       "      <td>No</td>\n",
       "      <td>Ringing</td>\n",
       "      <td>Not Sure</td>\n",
       "      <td>No</td>\n",
       "      <td>No</td>\n",
       "      <td>Select</td>\n",
       "      <td>Mumbai</td>\n",
       "      <td>02.Medium</td>\n",
       "      <td>01.High</td>\n",
       "      <td>13.0</td>\n",
       "      <td>17.0</td>\n",
       "      <td>No</td>\n",
       "      <td>No</td>\n",
       "      <td>Modified</td>\n",
       "    </tr>\n",
       "    <tr>\n",
       "      <th>4</th>\n",
       "      <td>3256f628-e534-4826-9d63-4a8b88782852</td>\n",
       "      <td>660681</td>\n",
       "      <td>Landing Page Submission</td>\n",
       "      <td>Google</td>\n",
       "      <td>No</td>\n",
       "      <td>No</td>\n",
       "      <td>1</td>\n",
       "      <td>2.0</td>\n",
       "      <td>1428</td>\n",
       "      <td>1.0</td>\n",
       "      <td>Converted to Lead</td>\n",
       "      <td>India</td>\n",
       "      <td>Select</td>\n",
       "      <td>Other</td>\n",
       "      <td>Unemployed</td>\n",
       "      <td>Better Career Prospects</td>\n",
       "      <td>No</td>\n",
       "      <td>No</td>\n",
       "      <td>No</td>\n",
       "      <td>No</td>\n",
       "      <td>No</td>\n",
       "      <td>No</td>\n",
       "      <td>No</td>\n",
       "      <td>No</td>\n",
       "      <td>Will revert after reading the email</td>\n",
       "      <td>Might be</td>\n",
       "      <td>No</td>\n",
       "      <td>No</td>\n",
       "      <td>Select</td>\n",
       "      <td>Mumbai</td>\n",
       "      <td>02.Medium</td>\n",
       "      <td>01.High</td>\n",
       "      <td>15.0</td>\n",
       "      <td>18.0</td>\n",
       "      <td>No</td>\n",
       "      <td>No</td>\n",
       "      <td>Modified</td>\n",
       "    </tr>\n",
       "  </tbody>\n",
       "</table>\n",
       "</div>"
      ],
      "text/plain": [
       "                            Prospect ID  Lead Number              Lead Origin  \\\n",
       "0  7927b2df-8bba-4d29-b9a2-b6e0beafe620       660737                      API   \n",
       "1  2a272436-5132-4136-86fa-dcc88c88f482       660728                      API   \n",
       "2  8cc8c611-a219-4f35-ad23-fdfd2656bd8a       660727  Landing Page Submission   \n",
       "3  0cc2df48-7cf4-4e39-9de9-19797f9b38cc       660719  Landing Page Submission   \n",
       "4  3256f628-e534-4826-9d63-4a8b88782852       660681  Landing Page Submission   \n",
       "\n",
       "      Lead Source Do Not Email Do Not Call  Converted  TotalVisits  \\\n",
       "0      Olark Chat           No          No          0          0.0   \n",
       "1  Organic Search           No          No          0          5.0   \n",
       "2  Direct Traffic           No          No          1          2.0   \n",
       "3  Direct Traffic           No          No          0          1.0   \n",
       "4          Google           No          No          1          2.0   \n",
       "\n",
       "   Total Time Spent on Website  Page Views Per Visit            Last Activity  \\\n",
       "0                            0                   0.0  Page Visited on Website   \n",
       "1                          674                   2.5             Email Opened   \n",
       "2                         1532                   2.0             Email Opened   \n",
       "3                          305                   1.0              Unreachable   \n",
       "4                         1428                   1.0        Converted to Lead   \n",
       "\n",
       "  Country           Specialization How did you hear about X Education  \\\n",
       "0     NaN                   Select                             Select   \n",
       "1   India                   Select                             Select   \n",
       "2   India  Business Administration                             Select   \n",
       "3   India    Media and Advertising                      Word Of Mouth   \n",
       "4   India                   Select                              Other   \n",
       "\n",
       "  What is your current occupation  \\\n",
       "0                      Unemployed   \n",
       "1                      Unemployed   \n",
       "2                         Student   \n",
       "3                      Unemployed   \n",
       "4                      Unemployed   \n",
       "\n",
       "  What matters most to you in choosing a course Search Magazine  \\\n",
       "0                       Better Career Prospects     No       No   \n",
       "1                       Better Career Prospects     No       No   \n",
       "2                       Better Career Prospects     No       No   \n",
       "3                       Better Career Prospects     No       No   \n",
       "4                       Better Career Prospects     No       No   \n",
       "\n",
       "  Newspaper Article X Education Forums Newspaper Digital Advertisement  \\\n",
       "0                No                 No        No                    No   \n",
       "1                No                 No        No                    No   \n",
       "2                No                 No        No                    No   \n",
       "3                No                 No        No                    No   \n",
       "4                No                 No        No                    No   \n",
       "\n",
       "  Through Recommendations Receive More Updates About Our Courses  \\\n",
       "0                      No                                     No   \n",
       "1                      No                                     No   \n",
       "2                      No                                     No   \n",
       "3                      No                                     No   \n",
       "4                      No                                     No   \n",
       "\n",
       "                                  Tags      Lead Quality  \\\n",
       "0          Interested in other courses  Low in Relevance   \n",
       "1                              Ringing               NaN   \n",
       "2  Will revert after reading the email          Might be   \n",
       "3                              Ringing          Not Sure   \n",
       "4  Will revert after reading the email          Might be   \n",
       "\n",
       "  Update me on Supply Chain Content Get updates on DM Content    Lead Profile  \\\n",
       "0                                No                        No          Select   \n",
       "1                                No                        No          Select   \n",
       "2                                No                        No  Potential Lead   \n",
       "3                                No                        No          Select   \n",
       "4                                No                        No          Select   \n",
       "\n",
       "     City Asymmetrique Activity Index Asymmetrique Profile Index  \\\n",
       "0  Select                   02.Medium                  02.Medium   \n",
       "1  Select                   02.Medium                  02.Medium   \n",
       "2  Mumbai                   02.Medium                    01.High   \n",
       "3  Mumbai                   02.Medium                    01.High   \n",
       "4  Mumbai                   02.Medium                    01.High   \n",
       "\n",
       "   Asymmetrique Activity Score  Asymmetrique Profile Score  \\\n",
       "0                         15.0                        15.0   \n",
       "1                         15.0                        15.0   \n",
       "2                         14.0                        20.0   \n",
       "3                         13.0                        17.0   \n",
       "4                         15.0                        18.0   \n",
       "\n",
       "  I agree to pay the amount through cheque  \\\n",
       "0                                       No   \n",
       "1                                       No   \n",
       "2                                       No   \n",
       "3                                       No   \n",
       "4                                       No   \n",
       "\n",
       "  A free copy of Mastering The Interview Last Notable Activity  \n",
       "0                                     No              Modified  \n",
       "1                                     No          Email Opened  \n",
       "2                                    Yes          Email Opened  \n",
       "3                                     No              Modified  \n",
       "4                                     No              Modified  "
      ]
     },
     "execution_count": 4,
     "metadata": {},
     "output_type": "execute_result"
    }
   ],
   "source": [
    "data.head()"
   ]
  },
  {
   "cell_type": "markdown",
   "id": "ecb21391",
   "metadata": {},
   "source": [
    "**Let's note that some of the columns have \"Select\" as a value, which means that the user did not select any value, these values are going to be treated as missing values**"
   ]
  },
  {
   "cell_type": "code",
   "execution_count": 5,
   "id": "a9cea257",
   "metadata": {},
   "outputs": [],
   "source": [
    "columns_with_select_values=[\"Specialization\",\"How did you hear about X Education\",\"Lead Profile\",\"City\"]"
   ]
  },
  {
   "cell_type": "code",
   "execution_count": 6,
   "id": "27cd9b5a",
   "metadata": {},
   "outputs": [],
   "source": [
    "for i in data:\n",
    "    if i in columns_with_select_values:\n",
    "        data[i].replace(\"Select\",np.nan,inplace=True)"
   ]
  },
  {
   "cell_type": "markdown",
   "id": "a035dcf7",
   "metadata": {},
   "source": [
    "**In \"Lead Source\" column there is \"Google\" and \"google\" value which are the same source, let's put it all under one \"Google\" category.**"
   ]
  },
  {
   "cell_type": "code",
   "execution_count": 7,
   "id": "977aaebf",
   "metadata": {},
   "outputs": [],
   "source": [
    "data[\"Lead Source\"].replace(\"google\",\"Google\",inplace=True)"
   ]
  },
  {
   "cell_type": "code",
   "execution_count": 8,
   "id": "7d5b3772",
   "metadata": {
    "scrolled": false
   },
   "outputs": [
    {
     "data": {
      "text/plain": [
       "(9240, 37)"
      ]
     },
     "execution_count": 8,
     "metadata": {},
     "output_type": "execute_result"
    }
   ],
   "source": [
    "data.shape"
   ]
  },
  {
   "cell_type": "markdown",
   "id": "5a31bfd4",
   "metadata": {},
   "source": [
    "**This dataset has 9240 rows and 37 columns. Let's explore this dataset in next steps.**"
   ]
  },
  {
   "cell_type": "markdown",
   "id": "469e6673",
   "metadata": {},
   "source": [
    "# Exploratory Data Analysis"
   ]
  },
  {
   "cell_type": "markdown",
   "id": "8c272a1d",
   "metadata": {},
   "source": [
    "## Selecting Categorical and Numerical Data"
   ]
  },
  {
   "cell_type": "markdown",
   "id": "7f8ce5bb",
   "metadata": {},
   "source": [
    "**At first let's divide columns into two groups based on the type of data they hold. These two groups are: categorical and numerical data.**"
   ]
  },
  {
   "cell_type": "code",
   "execution_count": 9,
   "id": "bb4398fa",
   "metadata": {
    "scrolled": true
   },
   "outputs": [
    {
     "data": {
      "text/plain": [
       "['Prospect ID',\n",
       " 'Lead Origin',\n",
       " 'Lead Source',\n",
       " 'Do Not Email',\n",
       " 'Do Not Call',\n",
       " 'Last Activity',\n",
       " 'Country',\n",
       " 'Specialization',\n",
       " 'How did you hear about X Education',\n",
       " 'What is your current occupation',\n",
       " 'What matters most to you in choosing a course',\n",
       " 'Search',\n",
       " 'Magazine',\n",
       " 'Newspaper Article',\n",
       " 'X Education Forums',\n",
       " 'Newspaper',\n",
       " 'Digital Advertisement',\n",
       " 'Through Recommendations',\n",
       " 'Receive More Updates About Our Courses',\n",
       " 'Tags',\n",
       " 'Lead Quality',\n",
       " 'Update me on Supply Chain Content',\n",
       " 'Get updates on DM Content',\n",
       " 'Lead Profile',\n",
       " 'City',\n",
       " 'Asymmetrique Activity Index',\n",
       " 'Asymmetrique Profile Index',\n",
       " 'I agree to pay the amount through cheque',\n",
       " 'A free copy of Mastering The Interview',\n",
       " 'Last Notable Activity']"
      ]
     },
     "execution_count": 9,
     "metadata": {},
     "output_type": "execute_result"
    }
   ],
   "source": [
    "cat_columns= data.select_dtypes(exclude=np.number).columns.tolist()\n",
    "cat_columns"
   ]
  },
  {
   "cell_type": "markdown",
   "id": "eae4e389",
   "metadata": {},
   "source": [
    "**Let's check if there are any columns that can be removed right from the start, because they will obviously bring no value to the models.**"
   ]
  },
  {
   "cell_type": "markdown",
   "id": "e9025dc6",
   "metadata": {},
   "source": [
    "**As the solution we are looking for will be based on data collected before sales team makes first contact, let's remove columns that are filled by sales person after making the call. Let's remove columns: Lead Quality,Lead Profile,Tags**"
   ]
  },
  {
   "cell_type": "code",
   "execution_count": 10,
   "id": "f611a93b",
   "metadata": {},
   "outputs": [],
   "source": [
    "cat_columns_to_remove=[\"Tags\",\"Lead Profile\",\"Lead Quality\"]"
   ]
  },
  {
   "cell_type": "code",
   "execution_count": 11,
   "id": "d2019cd7",
   "metadata": {},
   "outputs": [],
   "source": [
    "cat_columns.remove(\"Tags\")\n",
    "cat_columns.remove(\"Lead Profile\")\n",
    "cat_columns.remove(\"Lead Quality\")"
   ]
  },
  {
   "cell_type": "code",
   "execution_count": 12,
   "id": "d8344d5a",
   "metadata": {},
   "outputs": [],
   "source": [
    "data.drop(cat_columns_to_remove,axis=1,inplace=True)"
   ]
  },
  {
   "cell_type": "markdown",
   "id": "218ea7e3",
   "metadata": {},
   "source": [
    "**Let's check how many unique values are in each column.**"
   ]
  },
  {
   "cell_type": "code",
   "execution_count": 13,
   "id": "2f436831",
   "metadata": {},
   "outputs": [
    {
     "name": "stdout",
     "output_type": "stream",
     "text": [
      "Prospect ID, object\n",
      "9240\n",
      "\n",
      "Lead Origin, object\n",
      "5\n",
      "\n",
      "Lead Source, object\n",
      "20\n",
      "\n",
      "Do Not Email, object\n",
      "2\n",
      "\n",
      "Do Not Call, object\n",
      "2\n",
      "\n",
      "Last Activity, object\n",
      "17\n",
      "\n",
      "Country, object\n",
      "38\n",
      "\n",
      "Specialization, object\n",
      "18\n",
      "\n",
      "How did you hear about X Education, object\n",
      "9\n",
      "\n",
      "What is your current occupation, object\n",
      "6\n",
      "\n",
      "What matters most to you in choosing a course, object\n",
      "3\n",
      "\n",
      "Search, object\n",
      "2\n",
      "\n",
      "Magazine, object\n",
      "1\n",
      "\n",
      "Newspaper Article, object\n",
      "2\n",
      "\n",
      "X Education Forums, object\n",
      "2\n",
      "\n",
      "Newspaper, object\n",
      "2\n",
      "\n",
      "Digital Advertisement, object\n",
      "2\n",
      "\n",
      "Through Recommendations, object\n",
      "2\n",
      "\n",
      "Receive More Updates About Our Courses, object\n",
      "1\n",
      "\n",
      "Update me on Supply Chain Content, object\n",
      "1\n",
      "\n",
      "Get updates on DM Content, object\n",
      "1\n",
      "\n",
      "City, object\n",
      "6\n",
      "\n",
      "Asymmetrique Activity Index, object\n",
      "3\n",
      "\n",
      "Asymmetrique Profile Index, object\n",
      "3\n",
      "\n",
      "I agree to pay the amount through cheque, object\n",
      "1\n",
      "\n",
      "A free copy of Mastering The Interview, object\n",
      "2\n",
      "\n",
      "Last Notable Activity, object\n",
      "16\n",
      "\n"
     ]
    }
   ],
   "source": [
    "for col in cat_columns:\n",
    "    print(f'{col}, {data[col].dtype}')\n",
    "    print(data[col].nunique())\n",
    "    print()"
   ]
  },
  {
   "cell_type": "markdown",
   "id": "41e12652",
   "metadata": {},
   "source": [
    "**As we can see the \"Prospect ID\" columns is highly cardinal, in this column there are only identification numbers, they will bring no value to the models, so let's delete this column. There are also some columns that have only one unique value, these columns will bring no value to the models, so let's delete them either.**"
   ]
  },
  {
   "cell_type": "markdown",
   "id": "b083f3be",
   "metadata": {},
   "source": [
    "**Some of the columns are highly cardinal, but we will not delete them, we will group rare values into one category later on.**"
   ]
  },
  {
   "cell_type": "code",
   "execution_count": 14,
   "id": "3fdbd2e6",
   "metadata": {},
   "outputs": [],
   "source": [
    "cat_columns_to_delete=[\"Prospect ID\",\"Magazine\",\"Receive More Updates About Our Courses\",\"Update me on Supply Chain Content\",\n",
    "                   \"Get updates on DM Content\",\"I agree to pay the amount through cheque\"]"
   ]
  },
  {
   "cell_type": "code",
   "execution_count": 15,
   "id": "6a5749ed",
   "metadata": {},
   "outputs": [],
   "source": [
    "data.drop(cat_columns_to_delete,axis=1,inplace=True)"
   ]
  },
  {
   "cell_type": "code",
   "execution_count": 16,
   "id": "e90978f4",
   "metadata": {},
   "outputs": [],
   "source": [
    "for i in cat_columns_to_delete:\n",
    "    cat_columns.remove(i)"
   ]
  },
  {
   "cell_type": "markdown",
   "id": "f42f4cb4",
   "metadata": {},
   "source": [
    "**Let's have a list of columns with numerical data**"
   ]
  },
  {
   "cell_type": "code",
   "execution_count": 17,
   "id": "a4da0dc0",
   "metadata": {
    "scrolled": true
   },
   "outputs": [
    {
     "data": {
      "text/plain": [
       "['Lead Number',\n",
       " 'Converted',\n",
       " 'TotalVisits',\n",
       " 'Total Time Spent on Website',\n",
       " 'Page Views Per Visit',\n",
       " 'Asymmetrique Activity Score',\n",
       " 'Asymmetrique Profile Score']"
      ]
     },
     "execution_count": 17,
     "metadata": {},
     "output_type": "execute_result"
    }
   ],
   "source": [
    "num_columns= data.select_dtypes(include=np.number).columns.tolist()\n",
    "num_columns"
   ]
  },
  {
   "cell_type": "markdown",
   "id": "d4d4207a",
   "metadata": {},
   "source": [
    "**Let's delete column \"Lead Number\" as this is just a identification number and will bring no value to the model**"
   ]
  },
  {
   "cell_type": "code",
   "execution_count": 18,
   "id": "f084e6a7",
   "metadata": {},
   "outputs": [],
   "source": [
    "data.drop(\"Lead Number\",axis=1,inplace=True)"
   ]
  },
  {
   "cell_type": "code",
   "execution_count": 19,
   "id": "7bc76ec9",
   "metadata": {},
   "outputs": [],
   "source": [
    "num_columns.remove(\"Lead Number\")"
   ]
  },
  {
   "cell_type": "markdown",
   "id": "ee7c20ef",
   "metadata": {},
   "source": [
    "## Handling columns with high % of missing data and rows with low % of missing data"
   ]
  },
  {
   "cell_type": "markdown",
   "id": "8fe03b2e",
   "metadata": {},
   "source": [
    "**Let's calculate the percentage of missing data in each column. Then let's delete columns where the percentage of missing data is more than 40%. Observations in columns with percentage of missing data less than 2% are going to be also deleted.**"
   ]
  },
  {
   "cell_type": "code",
   "execution_count": 20,
   "id": "dcbd6859",
   "metadata": {
    "scrolled": true
   },
   "outputs": [
    {
     "data": {
      "text/html": [
       "<div>\n",
       "<style scoped>\n",
       "    .dataframe tbody tr th:only-of-type {\n",
       "        vertical-align: middle;\n",
       "    }\n",
       "\n",
       "    .dataframe tbody tr th {\n",
       "        vertical-align: top;\n",
       "    }\n",
       "\n",
       "    .dataframe thead th {\n",
       "        text-align: right;\n",
       "    }\n",
       "</style>\n",
       "<table border=\"1\" class=\"dataframe\">\n",
       "  <thead>\n",
       "    <tr style=\"text-align: right;\">\n",
       "      <th></th>\n",
       "      <th>Percentage</th>\n",
       "    </tr>\n",
       "  </thead>\n",
       "  <tbody>\n",
       "    <tr>\n",
       "      <th>Lead Origin</th>\n",
       "      <td>0.00</td>\n",
       "    </tr>\n",
       "    <tr>\n",
       "      <th>Lead Source</th>\n",
       "      <td>0.39</td>\n",
       "    </tr>\n",
       "    <tr>\n",
       "      <th>Do Not Email</th>\n",
       "      <td>0.00</td>\n",
       "    </tr>\n",
       "    <tr>\n",
       "      <th>Do Not Call</th>\n",
       "      <td>0.00</td>\n",
       "    </tr>\n",
       "    <tr>\n",
       "      <th>Converted</th>\n",
       "      <td>0.00</td>\n",
       "    </tr>\n",
       "    <tr>\n",
       "      <th>TotalVisits</th>\n",
       "      <td>1.48</td>\n",
       "    </tr>\n",
       "    <tr>\n",
       "      <th>Total Time Spent on Website</th>\n",
       "      <td>0.00</td>\n",
       "    </tr>\n",
       "    <tr>\n",
       "      <th>Page Views Per Visit</th>\n",
       "      <td>1.48</td>\n",
       "    </tr>\n",
       "    <tr>\n",
       "      <th>Last Activity</th>\n",
       "      <td>1.11</td>\n",
       "    </tr>\n",
       "    <tr>\n",
       "      <th>Country</th>\n",
       "      <td>26.63</td>\n",
       "    </tr>\n",
       "    <tr>\n",
       "      <th>Specialization</th>\n",
       "      <td>36.58</td>\n",
       "    </tr>\n",
       "    <tr>\n",
       "      <th>How did you hear about X Education</th>\n",
       "      <td>78.46</td>\n",
       "    </tr>\n",
       "    <tr>\n",
       "      <th>What is your current occupation</th>\n",
       "      <td>29.11</td>\n",
       "    </tr>\n",
       "    <tr>\n",
       "      <th>What matters most to you in choosing a course</th>\n",
       "      <td>29.32</td>\n",
       "    </tr>\n",
       "    <tr>\n",
       "      <th>Search</th>\n",
       "      <td>0.00</td>\n",
       "    </tr>\n",
       "    <tr>\n",
       "      <th>Newspaper Article</th>\n",
       "      <td>0.00</td>\n",
       "    </tr>\n",
       "    <tr>\n",
       "      <th>X Education Forums</th>\n",
       "      <td>0.00</td>\n",
       "    </tr>\n",
       "    <tr>\n",
       "      <th>Newspaper</th>\n",
       "      <td>0.00</td>\n",
       "    </tr>\n",
       "    <tr>\n",
       "      <th>Digital Advertisement</th>\n",
       "      <td>0.00</td>\n",
       "    </tr>\n",
       "    <tr>\n",
       "      <th>Through Recommendations</th>\n",
       "      <td>0.00</td>\n",
       "    </tr>\n",
       "    <tr>\n",
       "      <th>City</th>\n",
       "      <td>39.71</td>\n",
       "    </tr>\n",
       "    <tr>\n",
       "      <th>Asymmetrique Activity Index</th>\n",
       "      <td>45.65</td>\n",
       "    </tr>\n",
       "    <tr>\n",
       "      <th>Asymmetrique Profile Index</th>\n",
       "      <td>45.65</td>\n",
       "    </tr>\n",
       "    <tr>\n",
       "      <th>Asymmetrique Activity Score</th>\n",
       "      <td>45.65</td>\n",
       "    </tr>\n",
       "    <tr>\n",
       "      <th>Asymmetrique Profile Score</th>\n",
       "      <td>45.65</td>\n",
       "    </tr>\n",
       "    <tr>\n",
       "      <th>A free copy of Mastering The Interview</th>\n",
       "      <td>0.00</td>\n",
       "    </tr>\n",
       "    <tr>\n",
       "      <th>Last Notable Activity</th>\n",
       "      <td>0.00</td>\n",
       "    </tr>\n",
       "  </tbody>\n",
       "</table>\n",
       "</div>"
      ],
      "text/plain": [
       "                                               Percentage\n",
       "Lead Origin                                          0.00\n",
       "Lead Source                                          0.39\n",
       "Do Not Email                                         0.00\n",
       "Do Not Call                                          0.00\n",
       "Converted                                            0.00\n",
       "TotalVisits                                          1.48\n",
       "Total Time Spent on Website                          0.00\n",
       "Page Views Per Visit                                 1.48\n",
       "Last Activity                                        1.11\n",
       "Country                                             26.63\n",
       "Specialization                                      36.58\n",
       "How did you hear about X Education                  78.46\n",
       "What is your current occupation                     29.11\n",
       "What matters most to you in choosing a course       29.32\n",
       "Search                                               0.00\n",
       "Newspaper Article                                    0.00\n",
       "X Education Forums                                   0.00\n",
       "Newspaper                                            0.00\n",
       "Digital Advertisement                                0.00\n",
       "Through Recommendations                              0.00\n",
       "City                                                39.71\n",
       "Asymmetrique Activity Index                         45.65\n",
       "Asymmetrique Profile Index                          45.65\n",
       "Asymmetrique Activity Score                         45.65\n",
       "Asymmetrique Profile Score                          45.65\n",
       "A free copy of Mastering The Interview               0.00\n",
       "Last Notable Activity                                0.00"
      ]
     },
     "execution_count": 20,
     "metadata": {},
     "output_type": "execute_result"
    }
   ],
   "source": [
    "null_values_percentage={}\n",
    "for i in data:\n",
    "    null_values_percentage[i]=round(100*((data[i].isna().sum())/len(data[i])),2)\n",
    "\n",
    "pd.DataFrame.from_dict(null_values_percentage,orient=\"index\",columns=[\"Percentage\"])"
   ]
  },
  {
   "cell_type": "markdown",
   "id": "e2ed243d",
   "metadata": {},
   "source": [
    "**Let's delete columns with percentage of missing values more than 40%.**"
   ]
  },
  {
   "cell_type": "code",
   "execution_count": 21,
   "id": "1a56c7fb",
   "metadata": {},
   "outputs": [],
   "source": [
    "data.drop([\"How did you hear about X Education\",\"Asymmetrique Activity Index\",\"Asymmetrique Profile Index\",\n",
    "           \"Asymmetrique Activity Score\",\"Asymmetrique Profile Score\"],axis=1,inplace=True)"
   ]
  },
  {
   "cell_type": "code",
   "execution_count": 22,
   "id": "0fd35c82",
   "metadata": {},
   "outputs": [],
   "source": [
    "for i in [\"How did you hear about X Education\",\"Asymmetrique Activity Index\",\"Asymmetrique Profile Index\"]:\n",
    "    cat_columns.remove(i)"
   ]
  },
  {
   "cell_type": "code",
   "execution_count": 23,
   "id": "71a67ada",
   "metadata": {},
   "outputs": [],
   "source": [
    "for i in [\"Asymmetrique Activity Score\",\"Asymmetrique Profile Score\"]:\n",
    "    num_columns.remove(i)"
   ]
  },
  {
   "cell_type": "markdown",
   "id": "13655434",
   "metadata": {},
   "source": [
    "**Let's delete rows with missing values in columns with percentage of missing values less than 2%.**"
   ]
  },
  {
   "cell_type": "code",
   "execution_count": 24,
   "id": "c38d1553",
   "metadata": {},
   "outputs": [],
   "source": [
    "data.dropna(axis=0,subset=[\"Lead Source\",\"TotalVisits\",\"Page Views Per Visit\",\"Last Activity\"],inplace=True)"
   ]
  },
  {
   "cell_type": "markdown",
   "id": "15fd8415",
   "metadata": {},
   "source": [
    "## Handling Outliers"
   ]
  },
  {
   "cell_type": "code",
   "execution_count": 25,
   "id": "9d053c13",
   "metadata": {
    "scrolled": false
   },
   "outputs": [
    {
     "data": {
      "text/plain": [
       "['Converted',\n",
       " 'TotalVisits',\n",
       " 'Total Time Spent on Website',\n",
       " 'Page Views Per Visit']"
      ]
     },
     "execution_count": 25,
     "metadata": {},
     "output_type": "execute_result"
    }
   ],
   "source": [
    "num_columns"
   ]
  },
  {
   "cell_type": "markdown",
   "id": "cdd62de0",
   "metadata": {},
   "source": [
    "### Total Visits column"
   ]
  },
  {
   "cell_type": "code",
   "execution_count": 26,
   "id": "c021f707",
   "metadata": {
    "scrolled": false
   },
   "outputs": [
    {
     "data": {
      "text/plain": [
       "count    9074.000000\n",
       "mean        3.456028\n",
       "std         4.858802\n",
       "min         0.000000\n",
       "25%         1.000000\n",
       "50%         3.000000\n",
       "75%         5.000000\n",
       "max       251.000000\n",
       "Name: TotalVisits, dtype: float64"
      ]
     },
     "execution_count": 26,
     "metadata": {},
     "output_type": "execute_result"
    }
   ],
   "source": [
    "data[\"TotalVisits\"].describe()"
   ]
  },
  {
   "cell_type": "markdown",
   "id": "60d5f392",
   "metadata": {},
   "source": [
    "**There is a very big difference between 75 percentile and maximum value, so there must be some outliers. Let's look for them.**"
   ]
  },
  {
   "cell_type": "code",
   "execution_count": 27,
   "id": "5895dded",
   "metadata": {
    "scrolled": false
   },
   "outputs": [
    {
     "data": {
      "text/plain": [
       "<Figure size 720x720 with 0 Axes>"
      ]
     },
     "metadata": {},
     "output_type": "display_data"
    },
    {
     "data": {
      "image/png": "[encoded data removed]",
      "text/plain": [
       "<Figure size 432x288 with 2 Axes>"
      ]
     },
     "metadata": {
      "needs_background": "light"
     },
     "output_type": "display_data"
    }
   ],
   "source": [
    "plt.figure(figsize=(10,10))\n",
    "fig,ax=plt.subplots(2)\n",
    "ax[0].boxplot(data[\"TotalVisits\"])\n",
    "ax[0].set_title(\"TotalVisits Boxplot\")\n",
    "ax[1].hist(data[\"TotalVisits\"],np.arange(0,260,3))\n",
    "ax[1].set_title(\"TotalVisits Histogram\")\n",
    "\n",
    "plt.show()\n"
   ]
  },
  {
   "cell_type": "markdown",
   "id": "3815f620",
   "metadata": {},
   "source": [
    "**The are outliers the right side of the distribution. Let's check the values in percentiles from 95 to 99 percentile**"
   ]
  },
  {
   "cell_type": "code",
   "execution_count": 28,
   "id": "88f7d6b2",
   "metadata": {
    "scrolled": true
   },
   "outputs": [
    {
     "name": "stdout",
     "output_type": "stream",
     "text": [
      "Percentile 0.95: 11.0\n",
      "Percentile 0.96: 11.0\n",
      "Percentile 0.97: 12.0\n",
      "Percentile 0.98: 14.0\n",
      "Percentile 0.99: 18.0\n"
     ]
    }
   ],
   "source": [
    "for i in np.arange(0.95,0.99,0.01):\n",
    "    print(f\"Percentile {i}: {data['TotalVisits'].iloc[np.where(data['TotalVisits'] > np.quantile(data['TotalVisits'],i))].min()}\")"
   ]
  },
  {
   "cell_type": "markdown",
   "id": "3f093411",
   "metadata": {},
   "source": [
    "**It's hard to decide which percentile to choose, because the number of visits looks like made by human. Visiting 18 times a website is realistic for a human.**"
   ]
  },
  {
   "cell_type": "code",
   "execution_count": 29,
   "id": "571d72a6",
   "metadata": {},
   "outputs": [
    {
     "data": {
      "image/png": "[encoded data removed]",
      "text/plain": [
       "<Figure size 432x288 with 1 Axes>"
      ]
     },
     "metadata": {
      "needs_background": "light"
     },
     "output_type": "display_data"
    }
   ],
   "source": [
    "sns.countplot(x=\"TotalVisits\",hue=\"Converted\",data=data.iloc[np.where(data[\"TotalVisits\"] >=15)])\n",
    "plt.xticks(rotation=90)\n",
    "plt.show()"
   ]
  },
  {
   "cell_type": "markdown",
   "id": "b27f7682",
   "metadata": {},
   "source": [
    "**There are a lot of users that have visited the site 15 or more times and converted. What we can see on the plot, that there are almost no conversion when the number of visits is 28 or more, so that might be leads generated by bots. Let's delete rows where total visits value is 28 or more.**"
   ]
  },
  {
   "cell_type": "code",
   "execution_count": 30,
   "id": "c7e68da5",
   "metadata": {},
   "outputs": [
    {
     "data": {
      "text/plain": [
       "6.5"
      ]
     },
     "execution_count": 30,
     "metadata": {},
     "output_type": "execute_result"
    }
   ],
   "source": [
    "data[\"Page Views Per Visit\"].iloc[np.where(data[\"Page Views Per Visit\"] >3* np.std(data[\"Page Views Per Visit\"],ddof=1))].min()"
   ]
  },
  {
   "cell_type": "code",
   "execution_count": 30,
   "id": "203e064b",
   "metadata": {},
   "outputs": [],
   "source": [
    "data.drop(data.iloc[np.where(data[\"TotalVisits\"] >=28)].index,axis=0,inplace=True)"
   ]
  },
  {
   "cell_type": "markdown",
   "id": "bb60eb77",
   "metadata": {},
   "source": [
    "### Total Time Spent on Website column"
   ]
  },
  {
   "cell_type": "code",
   "execution_count": 31,
   "id": "0f78d95c",
   "metadata": {
    "scrolled": true
   },
   "outputs": [
    {
     "data": {
      "text/plain": [
       "count    9059.000000\n",
       "mean      482.991279\n",
       "std       545.416748\n",
       "min         0.000000\n",
       "25%        10.500000\n",
       "50%       246.000000\n",
       "75%       923.500000\n",
       "max      2272.000000\n",
       "Name: Total Time Spent on Website, dtype: float64"
      ]
     },
     "execution_count": 31,
     "metadata": {},
     "output_type": "execute_result"
    }
   ],
   "source": [
    "data[\"Total Time Spent on Website\"].describe()"
   ]
  },
  {
   "cell_type": "code",
   "execution_count": 32,
   "id": "33d8eae9",
   "metadata": {
    "scrolled": true
   },
   "outputs": [
    {
     "data": {
      "text/plain": [
       "<Figure size 1440x1440 with 0 Axes>"
      ]
     },
     "metadata": {},
     "output_type": "display_data"
    },
    {
     "data": {
      "image/png": "[encoded data removed]",
      "text/plain": [
       "<Figure size 432x288 with 2 Axes>"
      ]
     },
     "metadata": {
      "needs_background": "light"
     },
     "output_type": "display_data"
    }
   ],
   "source": [
    "plt.figure(figsize=(20,20))\n",
    "fig,ax=plt.subplots(2)\n",
    "ax[0].boxplot(data[\"Total Time Spent on Website\"])\n",
    "ax[0].set_title(\"Total Time Spent on Website Boxplot\")\n",
    "ax[1].hist(data[\"Total Time Spent on Website\"],bins=np.arange(0,2500,60))\n",
    "ax[1].set_title(\"Total Time Spent on Website Histogram\")\n",
    "\n",
    "plt.show()"
   ]
  },
  {
   "cell_type": "markdown",
   "id": "27a50b7e",
   "metadata": {},
   "source": [
    "**The box plot shows that there are no outliers.**"
   ]
  },
  {
   "cell_type": "markdown",
   "id": "546b127b",
   "metadata": {},
   "source": [
    "### Page Views Per Visit column"
   ]
  },
  {
   "cell_type": "code",
   "execution_count": 33,
   "id": "4531170d",
   "metadata": {
    "scrolled": true
   },
   "outputs": [
    {
     "data": {
      "text/plain": [
       "count    9059.000000\n",
       "mean        2.359308\n",
       "std         2.080856\n",
       "min         0.000000\n",
       "25%         1.000000\n",
       "50%         2.000000\n",
       "75%         3.000000\n",
       "max        24.000000\n",
       "Name: Page Views Per Visit, dtype: float64"
      ]
     },
     "execution_count": 33,
     "metadata": {},
     "output_type": "execute_result"
    }
   ],
   "source": [
    "data[\"Page Views Per Visit\"].describe()"
   ]
  },
  {
   "cell_type": "code",
   "execution_count": 34,
   "id": "fe1e2a5f",
   "metadata": {},
   "outputs": [
    {
     "data": {
      "text/plain": [
       "<Figure size 720x720 with 0 Axes>"
      ]
     },
     "metadata": {},
     "output_type": "display_data"
    },
    {
     "data": {
      "image/png": "[encoded data removed]",
      "text/plain": [
       "<Figure size 432x288 with 2 Axes>"
      ]
     },
     "metadata": {
      "needs_background": "light"
     },
     "output_type": "display_data"
    }
   ],
   "source": [
    "plt.figure(figsize=(10,10))\n",
    "fig,ax=plt.subplots(2)\n",
    "ax[0].boxplot(data[\"Page Views Per Visit\"])\n",
    "ax[0].set_title(\"Page Views Per Visit Boxplot\")\n",
    "ax[1].hist(data[\"Page Views Per Visit\"])\n",
    "ax[1].set_title(\"Page Views Per Visit Histogram\")\n",
    "\n",
    "plt.show()"
   ]
  },
  {
   "cell_type": "markdown",
   "id": "81c8a0ae",
   "metadata": {},
   "source": [
    "**The are outliers the right side of the distribution. Let's check the values in percentiles from 95 to 99 percentile**"
   ]
  },
  {
   "cell_type": "code",
   "execution_count": 35,
   "id": "2d35b2ce",
   "metadata": {
    "scrolled": true
   },
   "outputs": [
    {
     "name": "stdout",
     "output_type": "stream",
     "text": [
      "Percentile 0.95 : 6.33\n",
      "Percentile 0.96 : 6.33\n",
      "Percentile 0.97 : 7.5\n",
      "Percentile 0.98 : 8.33\n",
      "Percentile 0.99 : 10.0\n"
     ]
    }
   ],
   "source": [
    "for i in np.arange(0.95,0.99,0.01):\n",
    "    print(f\"Percentile {i} : {data['Page Views Per Visit'].iloc[np.where(data['Page Views Per Visit'] > np.quantile(data['Page Views Per Visit'],i))].min()}\")"
   ]
  },
  {
   "cell_type": "markdown",
   "id": "9555e5aa",
   "metadata": {},
   "source": [
    "**We could delete values above 95 percentile, but it's seems like viewing more than 6.33 pages per one visit is an outlier, but maybe some users need more information to convert and they visit more pages per visit. If we delete all rows with page per visit above 6.33 we might loose some important data.**"
   ]
  },
  {
   "cell_type": "code",
   "execution_count": 36,
   "id": "14122e25",
   "metadata": {},
   "outputs": [
    {
     "data": {
      "image/png": "[encoded data removed]",
      "text/plain": [
       "<Figure size 432x288 with 1 Axes>"
      ]
     },
     "metadata": {
      "needs_background": "light"
     },
     "output_type": "display_data"
    }
   ],
   "source": [
    "sns.countplot(x=\"Page Views Per Visit\",hue=\"Converted\",data=data.iloc[np.where(data[\"Page Views Per Visit\"] >=6.33)])\n",
    "plt.xticks(rotation=90)\n",
    "plt.show()"
   ]
  },
  {
   "cell_type": "markdown",
   "id": "4582fdc7",
   "metadata": {},
   "source": [
    "**There are a lot of leads that converted with more than 6.33 pages per visit. Let's leave this rows as they might give us some important insights.**"
   ]
  },
  {
   "cell_type": "markdown",
   "id": "8587d3c6",
   "metadata": {},
   "source": [
    "## Preparing train dataset"
   ]
  },
  {
   "cell_type": "markdown",
   "id": "a3fcfdaf",
   "metadata": {},
   "source": [
    "### Train test split"
   ]
  },
  {
   "cell_type": "markdown",
   "id": "bc727a45",
   "metadata": {},
   "source": [
    "**Our target is \"Converted\" column, which indicates if lead has bought an online course or not**"
   ]
  },
  {
   "cell_type": "code",
   "execution_count": 37,
   "id": "ec4df3c1",
   "metadata": {
    "scrolled": true
   },
   "outputs": [
    {
     "data": {
      "text/plain": [
       "0    0.620929\n",
       "1    0.379071\n",
       "Name: Converted, dtype: float64"
      ]
     },
     "execution_count": 37,
     "metadata": {},
     "output_type": "execute_result"
    }
   ],
   "source": [
    "data[\"Converted\"].value_counts(normalize=True)"
   ]
  },
  {
   "cell_type": "markdown",
   "id": "b3ba8ba5",
   "metadata": {},
   "source": [
    "**There is a slight inbalance in this dataset, but it is not extreme, so there should be no noticeable performance reduction.** "
   ]
  },
  {
   "cell_type": "code",
   "execution_count": 38,
   "id": "17f1e04d",
   "metadata": {},
   "outputs": [],
   "source": [
    "X=data.drop(\"Converted\",axis=1)\n",
    "y=data[\"Converted\"]"
   ]
  },
  {
   "cell_type": "code",
   "execution_count": 39,
   "id": "360076a2",
   "metadata": {},
   "outputs": [],
   "source": [
    "X_train,X_test,y_train,y_test=train_test_split(X,y,test_size=0.33,random_state=42)"
   ]
  },
  {
   "cell_type": "code",
   "execution_count": 40,
   "id": "20b6849e",
   "metadata": {
    "scrolled": true
   },
   "outputs": [
    {
     "data": {
      "text/plain": [
       "0    0.619212\n",
       "1    0.380788\n",
       "Name: Converted, dtype: float64"
      ]
     },
     "execution_count": 40,
     "metadata": {},
     "output_type": "execute_result"
    }
   ],
   "source": [
    "y_train.value_counts(normalize=True)"
   ]
  },
  {
   "cell_type": "code",
   "execution_count": 41,
   "id": "abfdab23",
   "metadata": {
    "scrolled": false
   },
   "outputs": [
    {
     "data": {
      "text/plain": [
       "0    0.624415\n",
       "1    0.375585\n",
       "Name: Converted, dtype: float64"
      ]
     },
     "execution_count": 41,
     "metadata": {},
     "output_type": "execute_result"
    }
   ],
   "source": [
    "y_test.value_counts(normalize=True)"
   ]
  },
  {
   "cell_type": "markdown",
   "id": "9dd9459e",
   "metadata": {},
   "source": [
    "**Let's create imputer that we are going to use for missing values in the rest of the categorical columns. As we have only missing values in categorical columns left, we are going to fill the missing values in categorical columns with most frequent strategy**"
   ]
  },
  {
   "cell_type": "code",
   "execution_count": 42,
   "id": "bc676144",
   "metadata": {},
   "outputs": [],
   "source": [
    "imputer=SimpleImputer(missing_values=np.nan,strategy=\"most_frequent\")"
   ]
  },
  {
   "cell_type": "code",
   "execution_count": 43,
   "id": "bd305d79",
   "metadata": {
    "scrolled": true
   },
   "outputs": [
    {
     "data": {
      "text/html": [
       "<style>#sk-container-id-1 {color: black;background-color: white;}#sk-container-id-1 pre{padding: 0;}#sk-container-id-1 div.sk-toggleable {background-color: white;}#sk-container-id-1 label.sk-toggleable__label {cursor: pointer;display: block;width: 100%;margin-bottom: 0;padding: 0.3em;box-sizing: border-box;text-align: center;}#sk-container-id-1 label.sk-toggleable__label-arrow:before {content: \"▸\";float: left;margin-right: 0.25em;color: #696969;}#sk-container-id-1 label.sk-toggleable__label-arrow:hover:before {color: black;}#sk-container-id-1 div.sk-estimator:hover label.sk-toggleable__label-arrow:before {color: black;}#sk-container-id-1 div.sk-toggleable__content {max-height: 0;max-width: 0;overflow: hidden;text-align: left;background-color: #f0f8ff;}#sk-container-id-1 div.sk-toggleable__content pre {margin: 0.2em;color: black;border-radius: 0.25em;background-color: #f0f8ff;}#sk-container-id-1 input.sk-toggleable__control:checked~div.sk-toggleable__content {max-height: 200px;max-width: 100%;overflow: auto;}#sk-container-id-1 input.sk-toggleable__control:checked~label.sk-toggleable__label-arrow:before {content: \"▾\";}#sk-container-id-1 div.sk-estimator input.sk-toggleable__control:checked~label.sk-toggleable__label {background-color: #d4ebff;}#sk-container-id-1 div.sk-label input.sk-toggleable__control:checked~label.sk-toggleable__label {background-color: #d4ebff;}#sk-container-id-1 input.sk-hidden--visually {border: 0;clip: rect(1px 1px 1px 1px);clip: rect(1px, 1px, 1px, 1px);height: 1px;margin: -1px;overflow: hidden;padding: 0;position: absolute;width: 1px;}#sk-container-id-1 div.sk-estimator {font-family: monospace;background-color: #f0f8ff;border: 1px dotted black;border-radius: 0.25em;box-sizing: border-box;margin-bottom: 0.5em;}#sk-container-id-1 div.sk-estimator:hover {background-color: #d4ebff;}#sk-container-id-1 div.sk-parallel-item::after {content: \"\";width: 100%;border-bottom: 1px solid gray;flex-grow: 1;}#sk-container-id-1 div.sk-label:hover label.sk-toggleable__label {background-color: #d4ebff;}#sk-container-id-1 div.sk-serial::before {content: \"\";position: absolute;border-left: 1px solid gray;box-sizing: border-box;top: 0;bottom: 0;left: 50%;z-index: 0;}#sk-container-id-1 div.sk-serial {display: flex;flex-direction: column;align-items: center;background-color: white;padding-right: 0.2em;padding-left: 0.2em;position: relative;}#sk-container-id-1 div.sk-item {position: relative;z-index: 1;}#sk-container-id-1 div.sk-parallel {display: flex;align-items: stretch;justify-content: center;background-color: white;position: relative;}#sk-container-id-1 div.sk-item::before, #sk-container-id-1 div.sk-parallel-item::before {content: \"\";position: absolute;border-left: 1px solid gray;box-sizing: border-box;top: 0;bottom: 0;left: 50%;z-index: -1;}#sk-container-id-1 div.sk-parallel-item {display: flex;flex-direction: column;z-index: 1;position: relative;background-color: white;}#sk-container-id-1 div.sk-parallel-item:first-child::after {align-self: flex-end;width: 50%;}#sk-container-id-1 div.sk-parallel-item:last-child::after {align-self: flex-start;width: 50%;}#sk-container-id-1 div.sk-parallel-item:only-child::after {width: 0;}#sk-container-id-1 div.sk-dashed-wrapped {border: 1px dashed gray;margin: 0 0.4em 0.5em 0.4em;box-sizing: border-box;padding-bottom: 0.4em;background-color: white;}#sk-container-id-1 div.sk-label label {font-family: monospace;font-weight: bold;display: inline-block;line-height: 1.2em;}#sk-container-id-1 div.sk-label-container {text-align: center;}#sk-container-id-1 div.sk-container {/* jupyter's `normalize.less` sets `[hidden] { display: none; }` but bootstrap.min.css set `[hidden] { display: none !important; }` so we also need the `!important` here to be able to override the default hidden behavior on the sphinx rendered scikit-learn.org. See: https://github.com/scikit-learn/scikit-learn/issues/21755 */display: inline-block !important;position: relative;}#sk-container-id-1 div.sk-text-repr-fallback {display: none;}</style><div id=\"sk-container-id-1\" class=\"sk-top-container\"><div class=\"sk-text-repr-fallback\"><pre>SimpleImputer(strategy=&#x27;most_frequent&#x27;)</pre><b>In a Jupyter environment, please rerun this cell to show the HTML representation or trust the notebook. <br />On GitHub, the HTML representation is unable to render, please try loading this page with nbviewer.org.</b></div><div class=\"sk-container\" hidden><div class=\"sk-item\"><div class=\"sk-estimator sk-toggleable\"><input class=\"sk-toggleable__control sk-hidden--visually\" id=\"sk-estimator-id-1\" type=\"checkbox\" checked><label for=\"sk-estimator-id-1\" class=\"sk-toggleable__label sk-toggleable__label-arrow\">SimpleImputer</label><div class=\"sk-toggleable__content\"><pre>SimpleImputer(strategy=&#x27;most_frequent&#x27;)</pre></div></div></div></div></div>"
      ],
      "text/plain": [
       "SimpleImputer(strategy='most_frequent')"
      ]
     },
     "execution_count": 43,
     "metadata": {},
     "output_type": "execute_result"
    }
   ],
   "source": [
    "imputer.fit(X_train)"
   ]
  },
  {
   "cell_type": "code",
   "execution_count": 44,
   "id": "81bacb20",
   "metadata": {},
   "outputs": [],
   "source": [
    "X_train_imputer=imputer.transform(X_train)"
   ]
  },
  {
   "cell_type": "code",
   "execution_count": 45,
   "id": "7000520e",
   "metadata": {},
   "outputs": [],
   "source": [
    "df_temp = pd.DataFrame(X_train_imputer)"
   ]
  },
  {
   "cell_type": "code",
   "execution_count": 46,
   "id": "b9339d79",
   "metadata": {},
   "outputs": [],
   "source": [
    "df_temp.columns = X_train.columns"
   ]
  },
  {
   "cell_type": "code",
   "execution_count": 47,
   "id": "d0898e62",
   "metadata": {},
   "outputs": [],
   "source": [
    "X_train=df_temp"
   ]
  },
  {
   "cell_type": "markdown",
   "id": "b88d1f30",
   "metadata": {},
   "source": [
    "### Data cleaning in categorical columns"
   ]
  },
  {
   "cell_type": "markdown",
   "id": "7ea916a3",
   "metadata": {},
   "source": [
    "#### Lead Origin Column"
   ]
  },
  {
   "cell_type": "markdown",
   "id": "ce29f069",
   "metadata": {},
   "source": [
    "**Defining function that will be used for visualizing each column**"
   ]
  },
  {
   "cell_type": "code",
   "execution_count": 48,
   "id": "45e9df09",
   "metadata": {},
   "outputs": [],
   "source": [
    "def visualize_column(column_name,X_train):\n",
    "    plt.figure(figsize = (15,5))\n",
    "    ax= sns.countplot(x=column_name,data=X_train)\n",
    "    for p in ax.patches:\n",
    "        ax.annotate(str(p.get_height()), (p.get_x() , p.get_height()))\n",
    "    plt.xticks(rotation = 90)\n",
    "    plt.show()"
   ]
  },
  {
   "cell_type": "code",
   "execution_count": 49,
   "id": "370d9035",
   "metadata": {},
   "outputs": [
    {
     "data": {
      "image/png": "[encoded data removed]",
      "text/plain": [
       "<Figure size 1080x360 with 1 Axes>"
      ]
     },
     "metadata": {
      "needs_background": "light"
     },
     "output_type": "display_data"
    }
   ],
   "source": [
    "visualize_column(\"Lead Origin\",X_train)"
   ]
  },
  {
   "cell_type": "code",
   "execution_count": 50,
   "id": "2286d169",
   "metadata": {},
   "outputs": [
    {
     "data": {
      "text/plain": [
       "Landing Page Submission    0.539792\n",
       "API                        0.930302\n",
       "Lead Add Form              0.996375\n",
       "Lead Import                1.000000\n",
       "Name: Lead Origin, dtype: float64"
      ]
     },
     "execution_count": 50,
     "metadata": {},
     "output_type": "execute_result"
    }
   ],
   "source": [
    "X_train[\"Lead Origin\"].value_counts(normalize=True).cumsum()"
   ]
  },
  {
   "cell_type": "markdown",
   "id": "117085df",
   "metadata": {},
   "source": [
    "**Landing Page Submission and API are 91% of all values, let's keep this two as separate categories and let's put other values to \"Other\" category.**"
   ]
  },
  {
   "cell_type": "code",
   "execution_count": 51,
   "id": "9598c426",
   "metadata": {},
   "outputs": [],
   "source": [
    "lead_orgins = ['Landing Page Submission', 'API']\n",
    "\n",
    "def map_lead_orgins(x):\n",
    "    if x in lead_orgins:\n",
    "        return x\n",
    "    else:\n",
    "        return \"Other\""
   ]
  },
  {
   "cell_type": "code",
   "execution_count": 52,
   "id": "322bfbb6",
   "metadata": {},
   "outputs": [],
   "source": [
    "X_train[\"Lead Origin\"]=X_train[\"Lead Origin\"].apply(map_lead_orgins)"
   ]
  },
  {
   "cell_type": "markdown",
   "id": "0f3310d5",
   "metadata": {},
   "source": [
    "#### Lead Source Column"
   ]
  },
  {
   "cell_type": "code",
   "execution_count": 53,
   "id": "b83be111",
   "metadata": {},
   "outputs": [
    {
     "data": {
      "image/png": "[encoded data removed]",
      "text/plain": [
       "<Figure size 1080x360 with 1 Axes>"
      ]
     },
     "metadata": {
      "needs_background": "light"
     },
     "output_type": "display_data"
    }
   ],
   "source": [
    "visualize_column(\"Lead Source\",X_train)"
   ]
  },
  {
   "cell_type": "code",
   "execution_count": 54,
   "id": "eadfbfb0",
   "metadata": {},
   "outputs": [
    {
     "data": {
      "text/plain": [
       "Google               0.320646\n",
       "Direct Traffic       0.597298\n",
       "Olark Chat           0.785797\n",
       "Organic Search       0.914154\n",
       "Reference            0.963421\n",
       "Welingak Website     0.979239\n",
       "Referral Sites       0.993574\n",
       "Facebook             0.997364\n",
       "Click2call           0.998023\n",
       "bing                 0.998517\n",
       "Press_Release        0.998847\n",
       "Social Media         0.999176\n",
       "Live Chat            0.999341\n",
       "WeLearn              0.999506\n",
       "Pay per Click Ads    0.999670\n",
       "NC_EDM               0.999835\n",
       "testone              1.000000\n",
       "Name: Lead Source, dtype: float64"
      ]
     },
     "execution_count": 54,
     "metadata": {},
     "output_type": "execute_result"
    }
   ],
   "source": [
    "X_train[\"Lead Source\"].value_counts(normalize=True).cumsum()"
   ]
  },
  {
   "cell_type": "markdown",
   "id": "9c6c8700",
   "metadata": {},
   "source": [
    "**Four first sources are 91% of all values, let's keep this four sources as separate categories and let's put other values to \"Other\" category.**"
   ]
  },
  {
   "cell_type": "code",
   "execution_count": 55,
   "id": "677253ef",
   "metadata": {},
   "outputs": [],
   "source": [
    "lead_source = [\"Google\",\"Direct Traffic\",\"Olark Chat\",\"Organic Search\"]\n",
    "\n",
    "def map_lead_source(x):\n",
    "    if x in lead_source:\n",
    "        return x\n",
    "    else:\n",
    "        return \"Other\"\n",
    "\n",
    "X_train[\"Lead Source\"]=X_train[\"Lead Source\"].apply(map_lead_source)"
   ]
  },
  {
   "cell_type": "markdown",
   "id": "0305e4ee",
   "metadata": {},
   "source": [
    "#### Do Not Email Column"
   ]
  },
  {
   "cell_type": "code",
   "execution_count": 56,
   "id": "325c3d59",
   "metadata": {},
   "outputs": [
    {
     "data": {
      "image/png": "[encoded data removed]",
      "text/plain": [
       "<Figure size 1080x360 with 1 Axes>"
      ]
     },
     "metadata": {
      "needs_background": "light"
     },
     "output_type": "display_data"
    }
   ],
   "source": [
    "visualize_column(\"Do Not Email\",X_train)"
   ]
  },
  {
   "cell_type": "code",
   "execution_count": 57,
   "id": "6f966c40",
   "metadata": {},
   "outputs": [
    {
     "data": {
      "text/plain": [
       "No     0.923381\n",
       "Yes    0.076619\n",
       "Name: Do Not Email, dtype: float64"
      ]
     },
     "execution_count": 57,
     "metadata": {},
     "output_type": "execute_result"
    }
   ],
   "source": [
    "X_train[\"Do Not Email\"].value_counts(normalize=True)"
   ]
  },
  {
   "cell_type": "markdown",
   "id": "1ce4aeef",
   "metadata": {},
   "source": [
    "**92% of leads are ok with receiving emails.\n",
    "Let's bring no change in this column**"
   ]
  },
  {
   "cell_type": "markdown",
   "id": "9838cd5e",
   "metadata": {},
   "source": [
    "#### Do Not Call column"
   ]
  },
  {
   "cell_type": "code",
   "execution_count": 58,
   "id": "69a0a813",
   "metadata": {},
   "outputs": [
    {
     "data": {
      "image/png": "[encoded data removed]",
      "text/plain": [
       "<Figure size 1080x360 with 1 Axes>"
      ]
     },
     "metadata": {
      "needs_background": "light"
     },
     "output_type": "display_data"
    }
   ],
   "source": [
    "visualize_column(\"Do Not Call\",X_train)"
   ]
  },
  {
   "cell_type": "code",
   "execution_count": 59,
   "id": "7fde22a6",
   "metadata": {},
   "outputs": [
    {
     "data": {
      "text/plain": [
       "No     0.99967\n",
       "Yes    0.00033\n",
       "Name: Do Not Call, dtype: float64"
      ]
     },
     "execution_count": 59,
     "metadata": {},
     "output_type": "execute_result"
    }
   ],
   "source": [
    "X_train[\"Do Not Call\"].value_counts(normalize=True)"
   ]
  },
  {
   "cell_type": "markdown",
   "id": "01a34e2d",
   "metadata": {},
   "source": [
    "**Less than 1% of leads have \"Yes\" value in this column. To avoid bias let's delete this column.**"
   ]
  },
  {
   "cell_type": "code",
   "execution_count": 60,
   "id": "3cdae5f4",
   "metadata": {},
   "outputs": [],
   "source": [
    "X_train.drop(\"Do Not Call\",axis=1,inplace=True)"
   ]
  },
  {
   "cell_type": "code",
   "execution_count": 61,
   "id": "c0e14b28",
   "metadata": {},
   "outputs": [],
   "source": [
    "cat_columns.remove(\"Do Not Call\")"
   ]
  },
  {
   "cell_type": "markdown",
   "id": "59bf29aa",
   "metadata": {},
   "source": [
    "#### Last Activity column"
   ]
  },
  {
   "cell_type": "code",
   "execution_count": 62,
   "id": "2be2a657",
   "metadata": {},
   "outputs": [
    {
     "data": {
      "image/png": "[encoded data removed]",
      "text/plain": [
       "<Figure size 1080x360 with 1 Axes>"
      ]
     },
     "metadata": {
      "needs_background": "light"
     },
     "output_type": "display_data"
    }
   ],
   "source": [
    "visualize_column(\"Last Activity\",X_train)"
   ]
  },
  {
   "cell_type": "code",
   "execution_count": 63,
   "id": "1961fc69",
   "metadata": {},
   "outputs": [
    {
     "data": {
      "text/plain": [
       "Email Opened                    0.383424\n",
       "SMS Sent                        0.684462\n",
       "Olark Chat Conversation         0.789257\n",
       "Page Visited on Website         0.858791\n",
       "Converted to Lead               0.903444\n",
       "Email Bounced                   0.936233\n",
       "Email Link Clicked              0.965068\n",
       "Form Submitted on Website       0.978909\n",
       "Unreachable                     0.988960\n",
       "Unsubscribed                    0.995551\n",
       "Had a Phone Conversation        0.998682\n",
       "View in browser link Clicked    0.999176\n",
       "Approached upfront              0.999341\n",
       "Email Marked Spam               0.999506\n",
       "Resubscribed to emails          0.999670\n",
       "Email Received                  0.999835\n",
       "Visited Booth in Tradeshow      1.000000\n",
       "Name: Last Activity, dtype: float64"
      ]
     },
     "execution_count": 63,
     "metadata": {},
     "output_type": "execute_result"
    }
   ],
   "source": [
    "X_train[\"Last Activity\"].value_counts(normalize=True).cumsum()"
   ]
  },
  {
   "cell_type": "markdown",
   "id": "962be95d",
   "metadata": {},
   "source": [
    "**Four first activities are 85% of all values, let's keep this four activities as separate categories and let's put other values to \"Other\" category.**"
   ]
  },
  {
   "cell_type": "code",
   "execution_count": 64,
   "id": "ebdb7006",
   "metadata": {},
   "outputs": [],
   "source": [
    "lead_last_activity = [\"Email Opened\",\"SMS Sent\",\"Olark Chat Conversation\",\"Page Visited on Website\"]\n",
    "\n",
    "def map_lead_activity(x):\n",
    "    if x in lead_last_activity:\n",
    "        return x\n",
    "    else:\n",
    "        return \"Other\""
   ]
  },
  {
   "cell_type": "code",
   "execution_count": 65,
   "id": "39810aaf",
   "metadata": {},
   "outputs": [],
   "source": [
    "X_train[\"Last Activity\"]=X_train[\"Last Activity\"].apply(map_lead_activity)"
   ]
  },
  {
   "cell_type": "markdown",
   "id": "67390c69",
   "metadata": {},
   "source": [
    "#### Country column"
   ]
  },
  {
   "cell_type": "code",
   "execution_count": 66,
   "id": "741e4b9e",
   "metadata": {},
   "outputs": [
    {
     "data": {
      "image/png": "[encoded data removed]",
      "text/plain": [
       "<Figure size 1080x360 with 1 Axes>"
      ]
     },
     "metadata": {
      "needs_background": "light"
     },
     "output_type": "display_data"
    }
   ],
   "source": [
    "visualize_column(\"Country\",X_train)"
   ]
  },
  {
   "cell_type": "code",
   "execution_count": 67,
   "id": "c4557ee2",
   "metadata": {},
   "outputs": [
    {
     "data": {
      "text/plain": [
       "India                   0.966716\n",
       "United States           0.974625\n",
       "United Arab Emirates    0.981710\n",
       "Saudi Arabia            0.984676\n",
       "Singapore               0.987148\n",
       "Australia               0.988796\n",
       "United Kingdom          0.990278\n",
       "Hong Kong               0.991267\n",
       "unknown                 0.992091\n",
       "Qatar                   0.992915\n",
       "Oman                    0.993739\n",
       "Bahrain                 0.994563\n",
       "France                  0.995222\n",
       "Nigeria                 0.995881\n",
       "South Africa            0.996375\n",
       "Sweden                  0.996705\n",
       "Netherlands             0.997034\n",
       "Belgium                 0.997364\n",
       "Ghana                   0.997693\n",
       "Italy                   0.998023\n",
       "Kuwait                  0.998352\n",
       "Denmark                 0.998517\n",
       "Vietnam                 0.998682\n",
       "Sri Lanka               0.998847\n",
       "Tanzania                0.999011\n",
       "Germany                 0.999176\n",
       "Canada                  0.999341\n",
       "Switzerland             0.999506\n",
       "Philippines             0.999670\n",
       "Bangladesh              0.999835\n",
       "Liberia                 1.000000\n",
       "Name: Country, dtype: float64"
      ]
     },
     "execution_count": 67,
     "metadata": {},
     "output_type": "execute_result"
    }
   ],
   "source": [
    "X_train[\"Country\"].value_counts(normalize=True).cumsum()"
   ]
  },
  {
   "cell_type": "markdown",
   "id": "25ff8084",
   "metadata": {},
   "source": [
    "**Over 95% leads are from India.To avoid bias let's delete this column.**"
   ]
  },
  {
   "cell_type": "code",
   "execution_count": 68,
   "id": "3cd3e050",
   "metadata": {},
   "outputs": [],
   "source": [
    "X_train.drop(\"Country\",axis=1,inplace=True)\n",
    "cat_columns.remove(\"Country\")"
   ]
  },
  {
   "cell_type": "markdown",
   "id": "51b42cd0",
   "metadata": {},
   "source": [
    "#### Specialization column"
   ]
  },
  {
   "cell_type": "code",
   "execution_count": 69,
   "id": "146c9687",
   "metadata": {},
   "outputs": [
    {
     "data": {
      "image/png": "[encoded data removed]",
      "text/plain": [
       "<Figure size 1080x360 with 1 Axes>"
      ]
     },
     "metadata": {
      "needs_background": "light"
     },
     "output_type": "display_data"
    }
   ],
   "source": [
    "visualize_column(\"Specialization\",X_train)"
   ]
  },
  {
   "cell_type": "code",
   "execution_count": 70,
   "id": "869daea6",
   "metadata": {
    "scrolled": true
   },
   "outputs": [
    {
     "data": {
      "text/plain": [
       "Finance Management                   0.465810\n",
       "Human Resource Management            0.558082\n",
       "Marketing Management                 0.648542\n",
       "Operations Management                0.702422\n",
       "Business Administration              0.748229\n",
       "Supply Chain Management              0.788103\n",
       "IT Projects Management               0.827649\n",
       "Banking, Investment And Insurance    0.865711\n",
       "Media and Advertising                0.888944\n",
       "Travel and Tourism                   0.909705\n",
       "International Business               0.930137\n",
       "Healthcare Management                0.947273\n",
       "E-COMMERCE                           0.959137\n",
       "Hospitality Management               0.970671\n",
       "Retail Management                    0.981216\n",
       "Rural and Agribusiness               0.989290\n",
       "E-Business                           0.995222\n",
       "Services Excellence                  1.000000\n",
       "Name: Specialization, dtype: float64"
      ]
     },
     "execution_count": 70,
     "metadata": {},
     "output_type": "execute_result"
    }
   ],
   "source": [
    "X_train[\"Specialization\"].value_counts(normalize=True).cumsum()"
   ]
  },
  {
   "cell_type": "markdown",
   "id": "2ba45321",
   "metadata": {},
   "source": [
    "**Four first specializations are 70% of all values, let's keep this four specializations as separate categories and let's put other values to \"Other\" category.**"
   ]
  },
  {
   "cell_type": "code",
   "execution_count": 71,
   "id": "6a318614",
   "metadata": {},
   "outputs": [],
   "source": [
    "lead_specialization = [\"Finance Management\",\"Human Resource Management\",\"Marketing Management\",\"Operations Management\"]\n",
    "\n",
    "def map_lead_specialization(x):\n",
    "    if x in lead_specialization:\n",
    "        return x\n",
    "    else:\n",
    "        return \"Other\""
   ]
  },
  {
   "cell_type": "code",
   "execution_count": 72,
   "id": "acd66f74",
   "metadata": {},
   "outputs": [],
   "source": [
    "X_train[\"Specialization\"]=X_train[\"Specialization\"].apply(map_lead_specialization)"
   ]
  },
  {
   "cell_type": "markdown",
   "id": "71d8b652",
   "metadata": {},
   "source": [
    "#### What is your current occupation column"
   ]
  },
  {
   "cell_type": "code",
   "execution_count": 73,
   "id": "7c0a19e2",
   "metadata": {},
   "outputs": [
    {
     "data": {
      "image/png": "[encoded data removed]",
      "text/plain": [
       "<Figure size 1080x360 with 1 Axes>"
      ]
     },
     "metadata": {
      "needs_background": "light"
     },
     "output_type": "display_data"
    }
   ],
   "source": [
    "visualize_column(\"What is your current occupation\",X_train)"
   ]
  },
  {
   "cell_type": "code",
   "execution_count": 74,
   "id": "984ab892",
   "metadata": {},
   "outputs": [
    {
     "data": {
      "text/plain": [
       "Unemployed              0.900807\n",
       "Working Professional    0.974131\n",
       "Student                 0.996210\n",
       "Other                   0.998023\n",
       "Housewife               0.999011\n",
       "Businessman             1.000000\n",
       "Name: What is your current occupation, dtype: float64"
      ]
     },
     "execution_count": 74,
     "metadata": {},
     "output_type": "execute_result"
    }
   ],
   "source": [
    "X_train[\"What is your current occupation\"].value_counts(normalize=True).cumsum()"
   ]
  },
  {
   "cell_type": "markdown",
   "id": "cb35e62c",
   "metadata": {},
   "source": [
    "**Over 90% leads are Unemployed. To avoid bias let's delete this column.**"
   ]
  },
  {
   "cell_type": "code",
   "execution_count": 75,
   "id": "3ba47dfe",
   "metadata": {},
   "outputs": [],
   "source": [
    "X_train.drop(\"What is your current occupation\",axis=1,inplace=True)\n",
    "cat_columns.remove(\"What is your current occupation\")"
   ]
  },
  {
   "cell_type": "markdown",
   "id": "de243af2",
   "metadata": {},
   "source": [
    "#### What matters most to you in choosing a course column"
   ]
  },
  {
   "cell_type": "code",
   "execution_count": 76,
   "id": "12c3145d",
   "metadata": {},
   "outputs": [
    {
     "data": {
      "image/png": "[encoded data removed]",
      "text/plain": [
       "<Figure size 1080x360 with 1 Axes>"
      ]
     },
     "metadata": {
      "needs_background": "light"
     },
     "output_type": "display_data"
    }
   ],
   "source": [
    "visualize_column(\"What matters most to you in choosing a course\",X_train)"
   ]
  },
  {
   "cell_type": "code",
   "execution_count": 77,
   "id": "a51d6cf2",
   "metadata": {
    "scrolled": true
   },
   "outputs": [
    {
     "data": {
      "text/plain": [
       "Better Career Prospects      0.999835\n",
       "Flexibility & Convenience    1.000000\n",
       "Name: What matters most to you in choosing a course, dtype: float64"
      ]
     },
     "execution_count": 77,
     "metadata": {},
     "output_type": "execute_result"
    }
   ],
   "source": [
    "X_train[\"What matters most to you in choosing a course\"].value_counts(normalize=True).cumsum()"
   ]
  },
  {
   "cell_type": "markdown",
   "id": "1307be1a",
   "metadata": {},
   "source": [
    "**Over 99% leads choosed \"Better Career Prospects. If we fill the missing data with the most frequent value, the data in this column will became even more inbalanced.To avoid bias let's delete this column.**"
   ]
  },
  {
   "cell_type": "code",
   "execution_count": 78,
   "id": "65b63f74",
   "metadata": {},
   "outputs": [],
   "source": [
    "X_train.drop(\"What matters most to you in choosing a course\",axis=1,inplace=True)\n",
    "cat_columns.remove(\"What matters most to you in choosing a course\")"
   ]
  },
  {
   "cell_type": "markdown",
   "id": "fab96857",
   "metadata": {},
   "source": [
    "#### Search column"
   ]
  },
  {
   "cell_type": "code",
   "execution_count": 79,
   "id": "a645d526",
   "metadata": {},
   "outputs": [
    {
     "data": {
      "image/png": "[encoded data removed]",
      "text/plain": [
       "<Figure size 1080x360 with 1 Axes>"
      ]
     },
     "metadata": {
      "needs_background": "light"
     },
     "output_type": "display_data"
    }
   ],
   "source": [
    "visualize_column(\"Search\",X_train)"
   ]
  },
  {
   "cell_type": "code",
   "execution_count": 80,
   "id": "94f90a05",
   "metadata": {},
   "outputs": [
    {
     "data": {
      "text/plain": [
       "No     0.998188\n",
       "Yes    1.000000\n",
       "Name: Search, dtype: float64"
      ]
     },
     "execution_count": 80,
     "metadata": {},
     "output_type": "execute_result"
    }
   ],
   "source": [
    "X_train[\"Search\"].value_counts(normalize=True).cumsum()"
   ]
  },
  {
   "cell_type": "markdown",
   "id": "01446018",
   "metadata": {},
   "source": [
    "**Over 99% leads have \"No\" value in Search column.The data in this column is very inbalanced. To avoid bias let's delete this column.**"
   ]
  },
  {
   "cell_type": "code",
   "execution_count": 81,
   "id": "563cb765",
   "metadata": {},
   "outputs": [],
   "source": [
    "X_train.drop(\"Search\",axis=1,inplace=True)\n",
    "cat_columns.remove(\"Search\")"
   ]
  },
  {
   "cell_type": "markdown",
   "id": "1ba5dd2c",
   "metadata": {},
   "source": [
    "#### Newspaper Article column"
   ]
  },
  {
   "cell_type": "code",
   "execution_count": 82,
   "id": "3fc8c6eb",
   "metadata": {},
   "outputs": [
    {
     "data": {
      "image/png": "[encoded data removed]",
      "text/plain": [
       "<Figure size 1080x360 with 1 Axes>"
      ]
     },
     "metadata": {
      "needs_background": "light"
     },
     "output_type": "display_data"
    }
   ],
   "source": [
    "visualize_column(\"Newspaper Article\",X_train)"
   ]
  },
  {
   "cell_type": "code",
   "execution_count": 83,
   "id": "083da68e",
   "metadata": {},
   "outputs": [
    {
     "data": {
      "text/plain": [
       "No     0.99967\n",
       "Yes    1.00000\n",
       "Name: Newspaper Article, dtype: float64"
      ]
     },
     "execution_count": 83,
     "metadata": {},
     "output_type": "execute_result"
    }
   ],
   "source": [
    "X_train[\"Newspaper Article\"].value_counts(normalize=True).cumsum()"
   ]
  },
  {
   "cell_type": "markdown",
   "id": "addab9ee",
   "metadata": {},
   "source": [
    "**Over 99% leads have \"No\" value in Newspaper Article column.The data in this column is very inbalanced. To avoid bias let's delete this column.**"
   ]
  },
  {
   "cell_type": "code",
   "execution_count": 84,
   "id": "7d8b6fac",
   "metadata": {},
   "outputs": [],
   "source": [
    "X_train.drop(\"Newspaper Article\",axis=1,inplace=True)\n",
    "cat_columns.remove(\"Newspaper Article\")"
   ]
  },
  {
   "cell_type": "markdown",
   "id": "2d20b338",
   "metadata": {},
   "source": [
    "#### X Education Forums column"
   ]
  },
  {
   "cell_type": "code",
   "execution_count": 85,
   "id": "5353496f",
   "metadata": {},
   "outputs": [
    {
     "data": {
      "image/png": "[encoded data removed]",
      "text/plain": [
       "<Figure size 1080x360 with 1 Axes>"
      ]
     },
     "metadata": {
      "needs_background": "light"
     },
     "output_type": "display_data"
    }
   ],
   "source": [
    "visualize_column(\"X Education Forums\",X_train)"
   ]
  },
  {
   "cell_type": "code",
   "execution_count": 86,
   "id": "740acfd1",
   "metadata": {},
   "outputs": [
    {
     "data": {
      "text/plain": [
       "No     0.999835\n",
       "Yes    1.000000\n",
       "Name: X Education Forums, dtype: float64"
      ]
     },
     "execution_count": 86,
     "metadata": {},
     "output_type": "execute_result"
    }
   ],
   "source": [
    "X_train[\"X Education Forums\"].value_counts(normalize=True).cumsum()"
   ]
  },
  {
   "cell_type": "markdown",
   "id": "eb4f1900",
   "metadata": {},
   "source": [
    "**Over 99% leads have \"No\" value in X Education Forums column.The data in this column is very inbalanced. To avoid bias let's delete this column.**"
   ]
  },
  {
   "cell_type": "code",
   "execution_count": 87,
   "id": "ef701243",
   "metadata": {},
   "outputs": [],
   "source": [
    "X_train.drop(\"X Education Forums\",axis=1,inplace=True)\n",
    "cat_columns.remove(\"X Education Forums\")"
   ]
  },
  {
   "cell_type": "markdown",
   "id": "6d202e8c",
   "metadata": {},
   "source": [
    "#### Newspaper column"
   ]
  },
  {
   "cell_type": "code",
   "execution_count": 88,
   "id": "fb6c100e",
   "metadata": {},
   "outputs": [
    {
     "data": {
      "image/png": "[encoded data removed]",
      "text/plain": [
       "<Figure size 1080x360 with 1 Axes>"
      ]
     },
     "metadata": {
      "needs_background": "light"
     },
     "output_type": "display_data"
    }
   ],
   "source": [
    "visualize_column(\"Newspaper\",X_train)"
   ]
  },
  {
   "cell_type": "code",
   "execution_count": 89,
   "id": "deaa0933",
   "metadata": {},
   "outputs": [
    {
     "data": {
      "text/plain": [
       "No     0.999835\n",
       "Yes    1.000000\n",
       "Name: Newspaper, dtype: float64"
      ]
     },
     "execution_count": 89,
     "metadata": {},
     "output_type": "execute_result"
    }
   ],
   "source": [
    "X_train[\"Newspaper\"].value_counts(normalize=True).cumsum()"
   ]
  },
  {
   "cell_type": "markdown",
   "id": "2fc8f756",
   "metadata": {},
   "source": [
    "**Over 99% leads have \"No\" value in Newspaper column.The data in this column is very inbalanced. To avoid bias let's delete this column.**"
   ]
  },
  {
   "cell_type": "code",
   "execution_count": 90,
   "id": "127c7f8e",
   "metadata": {},
   "outputs": [],
   "source": [
    "X_train.drop(\"Newspaper\",axis=1,inplace=True)\n",
    "cat_columns.remove(\"Newspaper\")"
   ]
  },
  {
   "cell_type": "markdown",
   "id": "bed90e9f",
   "metadata": {},
   "source": [
    "#### Digital Advertisement column"
   ]
  },
  {
   "cell_type": "code",
   "execution_count": 91,
   "id": "4d2599f3",
   "metadata": {},
   "outputs": [
    {
     "data": {
      "image/png": "[encoded data removed]",
      "text/plain": [
       "<Figure size 1080x360 with 1 Axes>"
      ]
     },
     "metadata": {
      "needs_background": "light"
     },
     "output_type": "display_data"
    }
   ],
   "source": [
    "visualize_column(\"Digital Advertisement\",X_train)"
   ]
  },
  {
   "cell_type": "code",
   "execution_count": 92,
   "id": "388678a8",
   "metadata": {},
   "outputs": [
    {
     "data": {
      "text/plain": [
       "No     0.999341\n",
       "Yes    1.000000\n",
       "Name: Digital Advertisement, dtype: float64"
      ]
     },
     "execution_count": 92,
     "metadata": {},
     "output_type": "execute_result"
    }
   ],
   "source": [
    "X_train[\"Digital Advertisement\"].value_counts(normalize=True).cumsum()"
   ]
  },
  {
   "cell_type": "markdown",
   "id": "a3cc519b",
   "metadata": {},
   "source": [
    "**Over 99% leads have \"No\" value in Digital Advertisement column.The data in this column is very inbalanced. To avoid bias let's delete this column.**"
   ]
  },
  {
   "cell_type": "code",
   "execution_count": 93,
   "id": "57e1a15e",
   "metadata": {},
   "outputs": [],
   "source": [
    "X_train.drop(\"Digital Advertisement\",axis=1,inplace=True)\n",
    "cat_columns.remove(\"Digital Advertisement\")"
   ]
  },
  {
   "cell_type": "markdown",
   "id": "fda2c7a4",
   "metadata": {},
   "source": [
    "#### Through Recommendations column"
   ]
  },
  {
   "cell_type": "code",
   "execution_count": 94,
   "id": "00f49993",
   "metadata": {},
   "outputs": [
    {
     "data": {
      "image/png": "[encoded data removed]",
      "text/plain": [
       "<Figure size 1080x360 with 1 Axes>"
      ]
     },
     "metadata": {
      "needs_background": "light"
     },
     "output_type": "display_data"
    }
   ],
   "source": [
    "visualize_column(\"Through Recommendations\",X_train)"
   ]
  },
  {
   "cell_type": "code",
   "execution_count": 95,
   "id": "8143a7d4",
   "metadata": {},
   "outputs": [
    {
     "data": {
      "text/plain": [
       "No     0.999011\n",
       "Yes    1.000000\n",
       "Name: Through Recommendations, dtype: float64"
      ]
     },
     "execution_count": 95,
     "metadata": {},
     "output_type": "execute_result"
    }
   ],
   "source": [
    "X_train[\"Through Recommendations\"].value_counts(normalize=True).cumsum()"
   ]
  },
  {
   "cell_type": "markdown",
   "id": "54f0c777",
   "metadata": {},
   "source": [
    "**Over 99% leads have \"No\" value in Through Recommendations column.The data in this column is very inbalanced. To avoid bias let's delete this column.**"
   ]
  },
  {
   "cell_type": "code",
   "execution_count": 96,
   "id": "1db17890",
   "metadata": {},
   "outputs": [],
   "source": [
    "X_train.drop(\"Through Recommendations\",axis=1,inplace=True)\n",
    "cat_columns.remove(\"Through Recommendations\")"
   ]
  },
  {
   "cell_type": "markdown",
   "id": "0ee461ae",
   "metadata": {},
   "source": [
    "#### City column"
   ]
  },
  {
   "cell_type": "code",
   "execution_count": 97,
   "id": "ae1fc341",
   "metadata": {},
   "outputs": [
    {
     "data": {
      "image/png": "[encoded data removed]",
      "text/plain": [
       "<Figure size 1080x360 with 1 Axes>"
      ]
     },
     "metadata": {
      "needs_background": "light"
     },
     "output_type": "display_data"
    }
   ],
   "source": [
    "visualize_column(\"City\",X_train)"
   ]
  },
  {
   "cell_type": "code",
   "execution_count": 98,
   "id": "2ca334c8",
   "metadata": {},
   "outputs": [
    {
     "data": {
      "text/plain": [
       "Mumbai                         0.744109\n",
       "Thane & Outskirts              0.825012\n",
       "Other Cities                   0.898665\n",
       "Other Cities of Maharashtra    0.949415\n",
       "Other Metro Cities             0.991926\n",
       "Tier II Cities                 1.000000\n",
       "Name: City, dtype: float64"
      ]
     },
     "execution_count": 98,
     "metadata": {},
     "output_type": "execute_result"
    }
   ],
   "source": [
    "X_train[\"City\"].value_counts(normalize=True).cumsum()"
   ]
  },
  {
   "cell_type": "markdown",
   "id": "4e675db9",
   "metadata": {},
   "source": [
    "**Two first cities are over 82% of all values, let's keep this two cities as separate categories and let's put other values to \"Other\" category.**"
   ]
  },
  {
   "cell_type": "code",
   "execution_count": 99,
   "id": "a08c6f72",
   "metadata": {},
   "outputs": [],
   "source": [
    "list_of_cities=[\"Mumbai\",\"Thane & Outskirts\"]\n",
    "def map_lead_cities(x):\n",
    "    if x in list_of_cities:\n",
    "        return x\n",
    "    else:\n",
    "        return \"Other\""
   ]
  },
  {
   "cell_type": "code",
   "execution_count": 100,
   "id": "8f521044",
   "metadata": {},
   "outputs": [],
   "source": [
    "X_train[\"City\"]=X_train[\"City\"].apply(map_lead_cities)"
   ]
  },
  {
   "cell_type": "markdown",
   "id": "2b9bbbfc",
   "metadata": {},
   "source": [
    "#### A free copy of Mastering The Interview column"
   ]
  },
  {
   "cell_type": "code",
   "execution_count": 101,
   "id": "eb7a8951",
   "metadata": {},
   "outputs": [
    {
     "data": {
      "image/png": "[encoded data removed]",
      "text/plain": [
       "<Figure size 1080x360 with 1 Axes>"
      ]
     },
     "metadata": {
      "needs_background": "light"
     },
     "output_type": "display_data"
    }
   ],
   "source": [
    "visualize_column(\"A free copy of Mastering The Interview\",X_train)"
   ]
  },
  {
   "cell_type": "code",
   "execution_count": 102,
   "id": "0d450bb5",
   "metadata": {},
   "outputs": [
    {
     "data": {
      "text/plain": [
       "No     0.681496\n",
       "Yes    1.000000\n",
       "Name: A free copy of Mastering The Interview, dtype: float64"
      ]
     },
     "execution_count": 102,
     "metadata": {},
     "output_type": "execute_result"
    }
   ],
   "source": [
    "X_train[\"A free copy of Mastering The Interview\"].value_counts(normalize=True).cumsum()"
   ]
  },
  {
   "cell_type": "markdown",
   "id": "9a3df538",
   "metadata": {},
   "source": [
    "**This column looks fine, let's keep it like this.**"
   ]
  },
  {
   "cell_type": "markdown",
   "id": "9164b1ce",
   "metadata": {},
   "source": [
    "#### Last Notable Activity column"
   ]
  },
  {
   "cell_type": "code",
   "execution_count": 103,
   "id": "8a5e904f",
   "metadata": {
    "scrolled": true
   },
   "outputs": [
    {
     "data": {
      "image/png": "[encoded data removed]",
      "text/plain": [
       "<Figure size 1080x360 with 1 Axes>"
      ]
     },
     "metadata": {
      "needs_background": "light"
     },
     "output_type": "display_data"
    }
   ],
   "source": [
    "visualize_column(\"Last Notable Activity\",X_train)"
   ]
  },
  {
   "cell_type": "code",
   "execution_count": 104,
   "id": "6ff63074",
   "metadata": {
    "scrolled": true
   },
   "outputs": [
    {
     "data": {
      "text/plain": [
       "Modified                     0.352612\n",
       "Email Opened                 0.666008\n",
       "SMS Sent                     0.909046\n",
       "Page Visited on Website      0.942989\n",
       "Olark Chat Conversation      0.963091\n",
       "Email Link Clicked           0.981546\n",
       "Email Bounced                0.988136\n",
       "Unsubscribed                 0.993244\n",
       "Unreachable                  0.997693\n",
       "Had a Phone Conversation     0.999341\n",
       "Approached upfront           0.999506\n",
       "Email Marked Spam            0.999670\n",
       "Resubscribed to emails       0.999835\n",
       "Form Submitted on Website    1.000000\n",
       "Name: Last Notable Activity, dtype: float64"
      ]
     },
     "execution_count": 104,
     "metadata": {},
     "output_type": "execute_result"
    }
   ],
   "source": [
    "X_train[\"Last Notable Activity\"].value_counts(normalize=True).cumsum()"
   ]
  },
  {
   "cell_type": "markdown",
   "id": "c2bd053b",
   "metadata": {},
   "source": [
    "**Three first Last Notable Activities are 90% of all values, let's keep this three categories as separate categories and let's put other values to \"Other\" category.**"
   ]
  },
  {
   "cell_type": "code",
   "execution_count": 105,
   "id": "d642800e",
   "metadata": {},
   "outputs": [],
   "source": [
    "list_of_last_activity=[\"Modified\",\"Email Opened\",\"SMS Sent\"]\n",
    "def map_lead_last_activity(x):\n",
    "    if x in list_of_last_activity:\n",
    "        return x\n",
    "    else:\n",
    "        return \"Other\""
   ]
  },
  {
   "cell_type": "code",
   "execution_count": 106,
   "id": "6de1cba4",
   "metadata": {},
   "outputs": [],
   "source": [
    "X_train[\"Last Notable Activity\"]=X_train[\"Last Notable Activity\"].apply(map_lead_last_activity)"
   ]
  },
  {
   "cell_type": "markdown",
   "id": "803be4ab",
   "metadata": {},
   "source": [
    "## Data Cleaning in numerical columns"
   ]
  },
  {
   "cell_type": "markdown",
   "id": "ab71e39f",
   "metadata": {},
   "source": [
    "**There is no missing data in numerical columns and also all the needed outliers were deleted in earlier.**"
   ]
  },
  {
   "cell_type": "markdown",
   "id": "70113b96",
   "metadata": {},
   "source": [
    "## Binary and Dummy variables"
   ]
  },
  {
   "cell_type": "code",
   "execution_count": 107,
   "id": "b4c95721",
   "metadata": {},
   "outputs": [
    {
     "name": "stdout",
     "output_type": "stream",
     "text": [
      "Lead Origin, object\n",
      "3\n",
      "\n",
      "Lead Source, object\n",
      "5\n",
      "\n",
      "Do Not Email, object\n",
      "2\n",
      "\n",
      "Last Activity, object\n",
      "5\n",
      "\n",
      "Specialization, object\n",
      "5\n",
      "\n",
      "City, object\n",
      "3\n",
      "\n",
      "A free copy of Mastering The Interview, object\n",
      "2\n",
      "\n",
      "Last Notable Activity, object\n",
      "4\n",
      "\n"
     ]
    }
   ],
   "source": [
    "for col in cat_columns:\n",
    "    print(f'{col}, {X_train[col].dtype}')\n",
    "    print(X_train[col].nunique())\n",
    "    print()"
   ]
  },
  {
   "cell_type": "markdown",
   "id": "18fe5bfc",
   "metadata": {},
   "source": [
    "### Binary Variables"
   ]
  },
  {
   "cell_type": "markdown",
   "id": "22d9e410",
   "metadata": {},
   "source": [
    "**Let's change columns with two unique values to binary variables and for columns with more than two unique values let's use one-hot encoding**"
   ]
  },
  {
   "cell_type": "code",
   "execution_count": 108,
   "id": "22ef8e25",
   "metadata": {},
   "outputs": [],
   "source": [
    "binary_maps = {\"Do Not Email\": {\"Yes\": 0, \"No\": 1}, \n",
    "              'A free copy of Mastering The Interview': {'Yes': 1, 'No': 0}, \n",
    "              }\n",
    "               \n",
    "for col in binary_maps.keys():\n",
    "    map_to_use = binary_maps[col]\n",
    "    X_train[col] = X_train[col].map(map_to_use)"
   ]
  },
  {
   "cell_type": "markdown",
   "id": "87c3bbda",
   "metadata": {},
   "source": [
    "### Dummy Variables"
   ]
  },
  {
   "cell_type": "markdown",
   "id": "c99e8aa6",
   "metadata": {},
   "source": [
    "**Let's use one-hot encoding in case of the rest of columns with categorical values.The common approach when converting categorical data into numerical data is dropping first category.**"
   ]
  },
  {
   "cell_type": "code",
   "execution_count": 109,
   "id": "5bff80fd",
   "metadata": {},
   "outputs": [],
   "source": [
    "dummy_var=[\"Lead Origin\",\"Lead Source\",\"Last Activity\",\"Specialization\",\"City\",\"Last Notable Activity\"]"
   ]
  },
  {
   "cell_type": "code",
   "execution_count": 110,
   "id": "15159bbb",
   "metadata": {},
   "outputs": [],
   "source": [
    "dummy_col=pd.get_dummies(X_train[dummy_var])"
   ]
  },
  {
   "cell_type": "code",
   "execution_count": 111,
   "id": "72116441",
   "metadata": {},
   "outputs": [],
   "source": [
    "X_train.drop(dummy_var,axis=1,inplace=True)"
   ]
  },
  {
   "cell_type": "code",
   "execution_count": 112,
   "id": "6a16f7e0",
   "metadata": {},
   "outputs": [],
   "source": [
    "for i in dummy_col:\n",
    "    X_train[i]=dummy_col[i]"
   ]
  },
  {
   "cell_type": "code",
   "execution_count": 113,
   "id": "ee0ff8eb",
   "metadata": {},
   "outputs": [
    {
     "data": {
      "text/html": [
       "<div>\n",
       "<style scoped>\n",
       "    .dataframe tbody tr th:only-of-type {\n",
       "        vertical-align: middle;\n",
       "    }\n",
       "\n",
       "    .dataframe tbody tr th {\n",
       "        vertical-align: top;\n",
       "    }\n",
       "\n",
       "    .dataframe thead th {\n",
       "        text-align: right;\n",
       "    }\n",
       "</style>\n",
       "<table border=\"1\" class=\"dataframe\">\n",
       "  <thead>\n",
       "    <tr style=\"text-align: right;\">\n",
       "      <th></th>\n",
       "      <th>Do Not Email</th>\n",
       "      <th>TotalVisits</th>\n",
       "      <th>Total Time Spent on Website</th>\n",
       "      <th>Page Views Per Visit</th>\n",
       "      <th>A free copy of Mastering The Interview</th>\n",
       "      <th>Lead Origin_API</th>\n",
       "      <th>Lead Origin_Landing Page Submission</th>\n",
       "      <th>Lead Origin_Other</th>\n",
       "      <th>Lead Source_Direct Traffic</th>\n",
       "      <th>Lead Source_Google</th>\n",
       "      <th>Lead Source_Olark Chat</th>\n",
       "      <th>Lead Source_Organic Search</th>\n",
       "      <th>Lead Source_Other</th>\n",
       "      <th>Last Activity_Email Opened</th>\n",
       "      <th>Last Activity_Olark Chat Conversation</th>\n",
       "      <th>Last Activity_Other</th>\n",
       "      <th>Last Activity_Page Visited on Website</th>\n",
       "      <th>Last Activity_SMS Sent</th>\n",
       "      <th>Specialization_Finance Management</th>\n",
       "      <th>Specialization_Human Resource Management</th>\n",
       "      <th>Specialization_Marketing Management</th>\n",
       "      <th>Specialization_Operations Management</th>\n",
       "      <th>Specialization_Other</th>\n",
       "      <th>City_Mumbai</th>\n",
       "      <th>City_Other</th>\n",
       "      <th>City_Thane &amp; Outskirts</th>\n",
       "      <th>Last Notable Activity_Email Opened</th>\n",
       "      <th>Last Notable Activity_Modified</th>\n",
       "      <th>Last Notable Activity_Other</th>\n",
       "      <th>Last Notable Activity_SMS Sent</th>\n",
       "    </tr>\n",
       "  </thead>\n",
       "  <tbody>\n",
       "    <tr>\n",
       "      <th>0</th>\n",
       "      <td>1</td>\n",
       "      <td>2.0</td>\n",
       "      <td>900</td>\n",
       "      <td>2.0</td>\n",
       "      <td>0</td>\n",
       "      <td>1</td>\n",
       "      <td>0</td>\n",
       "      <td>0</td>\n",
       "      <td>0</td>\n",
       "      <td>1</td>\n",
       "      <td>0</td>\n",
       "      <td>0</td>\n",
       "      <td>0</td>\n",
       "      <td>0</td>\n",
       "      <td>0</td>\n",
       "      <td>0</td>\n",
       "      <td>0</td>\n",
       "      <td>1</td>\n",
       "      <td>0</td>\n",
       "      <td>1</td>\n",
       "      <td>0</td>\n",
       "      <td>0</td>\n",
       "      <td>0</td>\n",
       "      <td>0</td>\n",
       "      <td>0</td>\n",
       "      <td>1</td>\n",
       "      <td>0</td>\n",
       "      <td>0</td>\n",
       "      <td>0</td>\n",
       "      <td>1</td>\n",
       "    </tr>\n",
       "    <tr>\n",
       "      <th>1</th>\n",
       "      <td>1</td>\n",
       "      <td>3.0</td>\n",
       "      <td>1292</td>\n",
       "      <td>3.0</td>\n",
       "      <td>1</td>\n",
       "      <td>0</td>\n",
       "      <td>1</td>\n",
       "      <td>0</td>\n",
       "      <td>1</td>\n",
       "      <td>0</td>\n",
       "      <td>0</td>\n",
       "      <td>0</td>\n",
       "      <td>0</td>\n",
       "      <td>0</td>\n",
       "      <td>0</td>\n",
       "      <td>0</td>\n",
       "      <td>0</td>\n",
       "      <td>1</td>\n",
       "      <td>0</td>\n",
       "      <td>0</td>\n",
       "      <td>0</td>\n",
       "      <td>0</td>\n",
       "      <td>1</td>\n",
       "      <td>0</td>\n",
       "      <td>1</td>\n",
       "      <td>0</td>\n",
       "      <td>0</td>\n",
       "      <td>0</td>\n",
       "      <td>0</td>\n",
       "      <td>1</td>\n",
       "    </tr>\n",
       "    <tr>\n",
       "      <th>2</th>\n",
       "      <td>1</td>\n",
       "      <td>4.0</td>\n",
       "      <td>27</td>\n",
       "      <td>4.0</td>\n",
       "      <td>0</td>\n",
       "      <td>0</td>\n",
       "      <td>1</td>\n",
       "      <td>0</td>\n",
       "      <td>0</td>\n",
       "      <td>1</td>\n",
       "      <td>0</td>\n",
       "      <td>0</td>\n",
       "      <td>0</td>\n",
       "      <td>0</td>\n",
       "      <td>0</td>\n",
       "      <td>0</td>\n",
       "      <td>0</td>\n",
       "      <td>1</td>\n",
       "      <td>1</td>\n",
       "      <td>0</td>\n",
       "      <td>0</td>\n",
       "      <td>0</td>\n",
       "      <td>0</td>\n",
       "      <td>1</td>\n",
       "      <td>0</td>\n",
       "      <td>0</td>\n",
       "      <td>0</td>\n",
       "      <td>0</td>\n",
       "      <td>0</td>\n",
       "      <td>1</td>\n",
       "    </tr>\n",
       "    <tr>\n",
       "      <th>3</th>\n",
       "      <td>1</td>\n",
       "      <td>5.0</td>\n",
       "      <td>294</td>\n",
       "      <td>2.5</td>\n",
       "      <td>0</td>\n",
       "      <td>0</td>\n",
       "      <td>1</td>\n",
       "      <td>0</td>\n",
       "      <td>0</td>\n",
       "      <td>1</td>\n",
       "      <td>0</td>\n",
       "      <td>0</td>\n",
       "      <td>0</td>\n",
       "      <td>1</td>\n",
       "      <td>0</td>\n",
       "      <td>0</td>\n",
       "      <td>0</td>\n",
       "      <td>0</td>\n",
       "      <td>0</td>\n",
       "      <td>0</td>\n",
       "      <td>0</td>\n",
       "      <td>0</td>\n",
       "      <td>1</td>\n",
       "      <td>1</td>\n",
       "      <td>0</td>\n",
       "      <td>0</td>\n",
       "      <td>1</td>\n",
       "      <td>0</td>\n",
       "      <td>0</td>\n",
       "      <td>0</td>\n",
       "    </tr>\n",
       "    <tr>\n",
       "      <th>4</th>\n",
       "      <td>1</td>\n",
       "      <td>2.0</td>\n",
       "      <td>130</td>\n",
       "      <td>2.0</td>\n",
       "      <td>1</td>\n",
       "      <td>0</td>\n",
       "      <td>1</td>\n",
       "      <td>0</td>\n",
       "      <td>1</td>\n",
       "      <td>0</td>\n",
       "      <td>0</td>\n",
       "      <td>0</td>\n",
       "      <td>0</td>\n",
       "      <td>0</td>\n",
       "      <td>0</td>\n",
       "      <td>1</td>\n",
       "      <td>0</td>\n",
       "      <td>0</td>\n",
       "      <td>0</td>\n",
       "      <td>0</td>\n",
       "      <td>0</td>\n",
       "      <td>0</td>\n",
       "      <td>1</td>\n",
       "      <td>1</td>\n",
       "      <td>0</td>\n",
       "      <td>0</td>\n",
       "      <td>0</td>\n",
       "      <td>1</td>\n",
       "      <td>0</td>\n",
       "      <td>0</td>\n",
       "    </tr>\n",
       "    <tr>\n",
       "      <th>...</th>\n",
       "      <td>...</td>\n",
       "      <td>...</td>\n",
       "      <td>...</td>\n",
       "      <td>...</td>\n",
       "      <td>...</td>\n",
       "      <td>...</td>\n",
       "      <td>...</td>\n",
       "      <td>...</td>\n",
       "      <td>...</td>\n",
       "      <td>...</td>\n",
       "      <td>...</td>\n",
       "      <td>...</td>\n",
       "      <td>...</td>\n",
       "      <td>...</td>\n",
       "      <td>...</td>\n",
       "      <td>...</td>\n",
       "      <td>...</td>\n",
       "      <td>...</td>\n",
       "      <td>...</td>\n",
       "      <td>...</td>\n",
       "      <td>...</td>\n",
       "      <td>...</td>\n",
       "      <td>...</td>\n",
       "      <td>...</td>\n",
       "      <td>...</td>\n",
       "      <td>...</td>\n",
       "      <td>...</td>\n",
       "      <td>...</td>\n",
       "      <td>...</td>\n",
       "      <td>...</td>\n",
       "    </tr>\n",
       "    <tr>\n",
       "      <th>6064</th>\n",
       "      <td>1</td>\n",
       "      <td>3.0</td>\n",
       "      <td>62</td>\n",
       "      <td>3.0</td>\n",
       "      <td>1</td>\n",
       "      <td>0</td>\n",
       "      <td>1</td>\n",
       "      <td>0</td>\n",
       "      <td>1</td>\n",
       "      <td>0</td>\n",
       "      <td>0</td>\n",
       "      <td>0</td>\n",
       "      <td>0</td>\n",
       "      <td>1</td>\n",
       "      <td>0</td>\n",
       "      <td>0</td>\n",
       "      <td>0</td>\n",
       "      <td>0</td>\n",
       "      <td>0</td>\n",
       "      <td>0</td>\n",
       "      <td>0</td>\n",
       "      <td>0</td>\n",
       "      <td>1</td>\n",
       "      <td>0</td>\n",
       "      <td>1</td>\n",
       "      <td>0</td>\n",
       "      <td>1</td>\n",
       "      <td>0</td>\n",
       "      <td>0</td>\n",
       "      <td>0</td>\n",
       "    </tr>\n",
       "    <tr>\n",
       "      <th>6065</th>\n",
       "      <td>1</td>\n",
       "      <td>12.0</td>\n",
       "      <td>142</td>\n",
       "      <td>4.0</td>\n",
       "      <td>1</td>\n",
       "      <td>0</td>\n",
       "      <td>1</td>\n",
       "      <td>0</td>\n",
       "      <td>1</td>\n",
       "      <td>0</td>\n",
       "      <td>0</td>\n",
       "      <td>0</td>\n",
       "      <td>0</td>\n",
       "      <td>1</td>\n",
       "      <td>0</td>\n",
       "      <td>0</td>\n",
       "      <td>0</td>\n",
       "      <td>0</td>\n",
       "      <td>0</td>\n",
       "      <td>0</td>\n",
       "      <td>0</td>\n",
       "      <td>0</td>\n",
       "      <td>1</td>\n",
       "      <td>0</td>\n",
       "      <td>1</td>\n",
       "      <td>0</td>\n",
       "      <td>1</td>\n",
       "      <td>0</td>\n",
       "      <td>0</td>\n",
       "      <td>0</td>\n",
       "    </tr>\n",
       "    <tr>\n",
       "      <th>6066</th>\n",
       "      <td>1</td>\n",
       "      <td>9.0</td>\n",
       "      <td>1390</td>\n",
       "      <td>4.5</td>\n",
       "      <td>1</td>\n",
       "      <td>0</td>\n",
       "      <td>1</td>\n",
       "      <td>0</td>\n",
       "      <td>1</td>\n",
       "      <td>0</td>\n",
       "      <td>0</td>\n",
       "      <td>0</td>\n",
       "      <td>0</td>\n",
       "      <td>0</td>\n",
       "      <td>0</td>\n",
       "      <td>0</td>\n",
       "      <td>0</td>\n",
       "      <td>1</td>\n",
       "      <td>0</td>\n",
       "      <td>0</td>\n",
       "      <td>1</td>\n",
       "      <td>0</td>\n",
       "      <td>0</td>\n",
       "      <td>1</td>\n",
       "      <td>0</td>\n",
       "      <td>0</td>\n",
       "      <td>0</td>\n",
       "      <td>0</td>\n",
       "      <td>0</td>\n",
       "      <td>1</td>\n",
       "    </tr>\n",
       "    <tr>\n",
       "      <th>6067</th>\n",
       "      <td>1</td>\n",
       "      <td>5.0</td>\n",
       "      <td>331</td>\n",
       "      <td>1.67</td>\n",
       "      <td>1</td>\n",
       "      <td>0</td>\n",
       "      <td>1</td>\n",
       "      <td>0</td>\n",
       "      <td>0</td>\n",
       "      <td>0</td>\n",
       "      <td>0</td>\n",
       "      <td>0</td>\n",
       "      <td>1</td>\n",
       "      <td>1</td>\n",
       "      <td>0</td>\n",
       "      <td>0</td>\n",
       "      <td>0</td>\n",
       "      <td>0</td>\n",
       "      <td>0</td>\n",
       "      <td>0</td>\n",
       "      <td>0</td>\n",
       "      <td>0</td>\n",
       "      <td>1</td>\n",
       "      <td>0</td>\n",
       "      <td>1</td>\n",
       "      <td>0</td>\n",
       "      <td>1</td>\n",
       "      <td>0</td>\n",
       "      <td>0</td>\n",
       "      <td>0</td>\n",
       "    </tr>\n",
       "    <tr>\n",
       "      <th>6068</th>\n",
       "      <td>0</td>\n",
       "      <td>2.0</td>\n",
       "      <td>30</td>\n",
       "      <td>2.0</td>\n",
       "      <td>0</td>\n",
       "      <td>1</td>\n",
       "      <td>0</td>\n",
       "      <td>0</td>\n",
       "      <td>0</td>\n",
       "      <td>1</td>\n",
       "      <td>0</td>\n",
       "      <td>0</td>\n",
       "      <td>0</td>\n",
       "      <td>0</td>\n",
       "      <td>0</td>\n",
       "      <td>1</td>\n",
       "      <td>0</td>\n",
       "      <td>0</td>\n",
       "      <td>1</td>\n",
       "      <td>0</td>\n",
       "      <td>0</td>\n",
       "      <td>0</td>\n",
       "      <td>0</td>\n",
       "      <td>1</td>\n",
       "      <td>0</td>\n",
       "      <td>0</td>\n",
       "      <td>0</td>\n",
       "      <td>1</td>\n",
       "      <td>0</td>\n",
       "      <td>0</td>\n",
       "    </tr>\n",
       "  </tbody>\n",
       "</table>\n",
       "<p>6069 rows × 30 columns</p>\n",
       "</div>"
      ],
      "text/plain": [
       "      Do Not Email TotalVisits Total Time Spent on Website  \\\n",
       "0                1         2.0                         900   \n",
       "1                1         3.0                        1292   \n",
       "2                1         4.0                          27   \n",
       "3                1         5.0                         294   \n",
       "4                1         2.0                         130   \n",
       "...            ...         ...                         ...   \n",
       "6064             1         3.0                          62   \n",
       "6065             1        12.0                         142   \n",
       "6066             1         9.0                        1390   \n",
       "6067             1         5.0                         331   \n",
       "6068             0         2.0                          30   \n",
       "\n",
       "     Page Views Per Visit  A free copy of Mastering The Interview  \\\n",
       "0                     2.0                                       0   \n",
       "1                     3.0                                       1   \n",
       "2                     4.0                                       0   \n",
       "3                     2.5                                       0   \n",
       "4                     2.0                                       1   \n",
       "...                   ...                                     ...   \n",
       "6064                  3.0                                       1   \n",
       "6065                  4.0                                       1   \n",
       "6066                  4.5                                       1   \n",
       "6067                 1.67                                       1   \n",
       "6068                  2.0                                       0   \n",
       "\n",
       "      Lead Origin_API  Lead Origin_Landing Page Submission  Lead Origin_Other  \\\n",
       "0                   1                                    0                  0   \n",
       "1                   0                                    1                  0   \n",
       "2                   0                                    1                  0   \n",
       "3                   0                                    1                  0   \n",
       "4                   0                                    1                  0   \n",
       "...               ...                                  ...                ...   \n",
       "6064                0                                    1                  0   \n",
       "6065                0                                    1                  0   \n",
       "6066                0                                    1                  0   \n",
       "6067                0                                    1                  0   \n",
       "6068                1                                    0                  0   \n",
       "\n",
       "      Lead Source_Direct Traffic  Lead Source_Google  Lead Source_Olark Chat  \\\n",
       "0                              0                   1                       0   \n",
       "1                              1                   0                       0   \n",
       "2                              0                   1                       0   \n",
       "3                              0                   1                       0   \n",
       "4                              1                   0                       0   \n",
       "...                          ...                 ...                     ...   \n",
       "6064                           1                   0                       0   \n",
       "6065                           1                   0                       0   \n",
       "6066                           1                   0                       0   \n",
       "6067                           0                   0                       0   \n",
       "6068                           0                   1                       0   \n",
       "\n",
       "      Lead Source_Organic Search  Lead Source_Other  \\\n",
       "0                              0                  0   \n",
       "1                              0                  0   \n",
       "2                              0                  0   \n",
       "3                              0                  0   \n",
       "4                              0                  0   \n",
       "...                          ...                ...   \n",
       "6064                           0                  0   \n",
       "6065                           0                  0   \n",
       "6066                           0                  0   \n",
       "6067                           0                  1   \n",
       "6068                           0                  0   \n",
       "\n",
       "      Last Activity_Email Opened  Last Activity_Olark Chat Conversation  \\\n",
       "0                              0                                      0   \n",
       "1                              0                                      0   \n",
       "2                              0                                      0   \n",
       "3                              1                                      0   \n",
       "4                              0                                      0   \n",
       "...                          ...                                    ...   \n",
       "6064                           1                                      0   \n",
       "6065                           1                                      0   \n",
       "6066                           0                                      0   \n",
       "6067                           1                                      0   \n",
       "6068                           0                                      0   \n",
       "\n",
       "      Last Activity_Other  Last Activity_Page Visited on Website  \\\n",
       "0                       0                                      0   \n",
       "1                       0                                      0   \n",
       "2                       0                                      0   \n",
       "3                       0                                      0   \n",
       "4                       1                                      0   \n",
       "...                   ...                                    ...   \n",
       "6064                    0                                      0   \n",
       "6065                    0                                      0   \n",
       "6066                    0                                      0   \n",
       "6067                    0                                      0   \n",
       "6068                    1                                      0   \n",
       "\n",
       "      Last Activity_SMS Sent  Specialization_Finance Management  \\\n",
       "0                          1                                  0   \n",
       "1                          1                                  0   \n",
       "2                          1                                  1   \n",
       "3                          0                                  0   \n",
       "4                          0                                  0   \n",
       "...                      ...                                ...   \n",
       "6064                       0                                  0   \n",
       "6065                       0                                  0   \n",
       "6066                       1                                  0   \n",
       "6067                       0                                  0   \n",
       "6068                       0                                  1   \n",
       "\n",
       "      Specialization_Human Resource Management  \\\n",
       "0                                            1   \n",
       "1                                            0   \n",
       "2                                            0   \n",
       "3                                            0   \n",
       "4                                            0   \n",
       "...                                        ...   \n",
       "6064                                         0   \n",
       "6065                                         0   \n",
       "6066                                         0   \n",
       "6067                                         0   \n",
       "6068                                         0   \n",
       "\n",
       "      Specialization_Marketing Management  \\\n",
       "0                                       0   \n",
       "1                                       0   \n",
       "2                                       0   \n",
       "3                                       0   \n",
       "4                                       0   \n",
       "...                                   ...   \n",
       "6064                                    0   \n",
       "6065                                    0   \n",
       "6066                                    1   \n",
       "6067                                    0   \n",
       "6068                                    0   \n",
       "\n",
       "      Specialization_Operations Management  Specialization_Other  City_Mumbai  \\\n",
       "0                                        0                     0            0   \n",
       "1                                        0                     1            0   \n",
       "2                                        0                     0            1   \n",
       "3                                        0                     1            1   \n",
       "4                                        0                     1            1   \n",
       "...                                    ...                   ...          ...   \n",
       "6064                                     0                     1            0   \n",
       "6065                                     0                     1            0   \n",
       "6066                                     0                     0            1   \n",
       "6067                                     0                     1            0   \n",
       "6068                                     0                     0            1   \n",
       "\n",
       "      City_Other  City_Thane & Outskirts  Last Notable Activity_Email Opened  \\\n",
       "0              0                       1                                   0   \n",
       "1              1                       0                                   0   \n",
       "2              0                       0                                   0   \n",
       "3              0                       0                                   1   \n",
       "4              0                       0                                   0   \n",
       "...          ...                     ...                                 ...   \n",
       "6064           1                       0                                   1   \n",
       "6065           1                       0                                   1   \n",
       "6066           0                       0                                   0   \n",
       "6067           1                       0                                   1   \n",
       "6068           0                       0                                   0   \n",
       "\n",
       "      Last Notable Activity_Modified  Last Notable Activity_Other  \\\n",
       "0                                  0                            0   \n",
       "1                                  0                            0   \n",
       "2                                  0                            0   \n",
       "3                                  0                            0   \n",
       "4                                  1                            0   \n",
       "...                              ...                          ...   \n",
       "6064                               0                            0   \n",
       "6065                               0                            0   \n",
       "6066                               0                            0   \n",
       "6067                               0                            0   \n",
       "6068                               1                            0   \n",
       "\n",
       "      Last Notable Activity_SMS Sent  \n",
       "0                                  1  \n",
       "1                                  1  \n",
       "2                                  1  \n",
       "3                                  0  \n",
       "4                                  0  \n",
       "...                              ...  \n",
       "6064                               0  \n",
       "6065                               0  \n",
       "6066                               1  \n",
       "6067                               0  \n",
       "6068                               0  \n",
       "\n",
       "[6069 rows x 30 columns]"
      ]
     },
     "execution_count": 113,
     "metadata": {},
     "output_type": "execute_result"
    }
   ],
   "source": [
    "X_train"
   ]
  },
  {
   "cell_type": "markdown",
   "id": "63f1ab77",
   "metadata": {},
   "source": [
    "## Preparing test dataset"
   ]
  },
  {
   "cell_type": "markdown",
   "id": "38a42a8d",
   "metadata": {},
   "source": [
    "**Let's prepare test dataset by taking the same steps as with train dataset:**<br>-droping columns with no meaningful data,</br></br><br>-dealing with highly cardinal columns,</br><br>-dealing with missing values,</br><br>-encoding categorical data,</br>"
   ]
  },
  {
   "cell_type": "markdown",
   "id": "c3e351f0",
   "metadata": {},
   "source": [
    "**Dropping the same columns as in train dataset.**"
   ]
  },
  {
   "cell_type": "markdown",
   "id": "e09074c2",
   "metadata": {},
   "source": [
    "**Filling missing values with the most frequent value.**"
   ]
  },
  {
   "cell_type": "code",
   "execution_count": 114,
   "id": "707f9b6b",
   "metadata": {},
   "outputs": [],
   "source": [
    "X_test_imputer=imputer.transform(X_test)"
   ]
  },
  {
   "cell_type": "code",
   "execution_count": 115,
   "id": "e7ed83d1",
   "metadata": {},
   "outputs": [],
   "source": [
    "df_temp_test = pd.DataFrame(X_test_imputer)"
   ]
  },
  {
   "cell_type": "code",
   "execution_count": 116,
   "id": "6b0a40f7",
   "metadata": {},
   "outputs": [],
   "source": [
    "df_temp_test.columns = X_test.columns"
   ]
  },
  {
   "cell_type": "code",
   "execution_count": 117,
   "id": "5d049ebe",
   "metadata": {},
   "outputs": [],
   "source": [
    "X_test=df_temp_test"
   ]
  },
  {
   "cell_type": "markdown",
   "id": "c5a89b72",
   "metadata": {},
   "source": [
    "**Dropping the same columns as in train dataset.**"
   ]
  },
  {
   "cell_type": "code",
   "execution_count": 118,
   "id": "da576883",
   "metadata": {
    "scrolled": true
   },
   "outputs": [],
   "source": [
    "cat_num_columns=cat_columns + num_columns"
   ]
  },
  {
   "cell_type": "code",
   "execution_count": 119,
   "id": "3d6688b5",
   "metadata": {},
   "outputs": [
    {
     "data": {
      "text/plain": [
       "['Lead Origin',\n",
       " 'Lead Source',\n",
       " 'Do Not Email',\n",
       " 'Last Activity',\n",
       " 'Specialization',\n",
       " 'City',\n",
       " 'A free copy of Mastering The Interview',\n",
       " 'Last Notable Activity',\n",
       " 'Converted',\n",
       " 'TotalVisits',\n",
       " 'Total Time Spent on Website',\n",
       " 'Page Views Per Visit']"
      ]
     },
     "execution_count": 119,
     "metadata": {},
     "output_type": "execute_result"
    }
   ],
   "source": [
    "cat_num_columns"
   ]
  },
  {
   "cell_type": "code",
   "execution_count": 120,
   "id": "d4bb495f",
   "metadata": {},
   "outputs": [],
   "source": [
    "for i in X_test.columns:\n",
    "    if i not in cat_num_columns:\n",
    "        X_test.drop(i,axis=1,inplace=True)"
   ]
  },
  {
   "cell_type": "markdown",
   "id": "c7cda825",
   "metadata": {},
   "source": [
    "**Dealing with highly cardinal columns.**"
   ]
  },
  {
   "cell_type": "code",
   "execution_count": 121,
   "id": "f3598491",
   "metadata": {},
   "outputs": [],
   "source": [
    "X_test[\"Lead Origin\"]=X_test[\"Lead Origin\"].apply(map_lead_orgins)\n",
    "X_test[\"Lead Source\"]=X_test[\"Lead Source\"].apply(map_lead_source)\n",
    "X_test[\"Last Activity\"]=X_test[\"Last Activity\"].apply(map_lead_activity)\n",
    "X_test[\"Specialization\"]=X_test[\"Specialization\"].apply(map_lead_specialization)\n",
    "X_test[\"City\"]=X_test[\"City\"].apply(map_lead_cities)\n",
    "X_test[\"Last Notable Activity\"]=X_test[\"Last Notable Activity\"].apply(map_lead_last_activity)"
   ]
  },
  {
   "cell_type": "markdown",
   "id": "866beed5",
   "metadata": {},
   "source": [
    "**Encoding Binary Variables**"
   ]
  },
  {
   "cell_type": "code",
   "execution_count": 122,
   "id": "83a0f7f5",
   "metadata": {},
   "outputs": [],
   "source": [
    "binary_maps = {\"Do Not Email\": {\"Yes\": 0, \"No\": 1}, \n",
    "              'A free copy of Mastering The Interview': {'Yes': 1, 'No': 0}, \n",
    "              }\n",
    "               \n",
    "for col in binary_maps.keys():\n",
    "    map_to_use = binary_maps[col]\n",
    "    X_test[col] = X_test[col].map(map_to_use)"
   ]
  },
  {
   "cell_type": "markdown",
   "id": "5cc0811a",
   "metadata": {},
   "source": [
    "**Encoding Dummy Variables**"
   ]
  },
  {
   "cell_type": "code",
   "execution_count": 123,
   "id": "83120c26",
   "metadata": {},
   "outputs": [],
   "source": [
    "dummy_col=pd.get_dummies(X_test[dummy_var])"
   ]
  },
  {
   "cell_type": "code",
   "execution_count": 124,
   "id": "4f03a163",
   "metadata": {},
   "outputs": [],
   "source": [
    "X_test.drop(dummy_var,axis=1,inplace=True)"
   ]
  },
  {
   "cell_type": "code",
   "execution_count": 125,
   "id": "d6ab6d53",
   "metadata": {},
   "outputs": [],
   "source": [
    "for i in dummy_col:\n",
    "    X_test[i]=dummy_col[i]"
   ]
  },
  {
   "cell_type": "code",
   "execution_count": 126,
   "id": "19ca9955",
   "metadata": {},
   "outputs": [
    {
     "data": {
      "text/plain": [
       "(2990, 30)"
      ]
     },
     "execution_count": 126,
     "metadata": {},
     "output_type": "execute_result"
    }
   ],
   "source": [
    "X_test.shape"
   ]
  },
  {
   "cell_type": "code",
   "execution_count": 127,
   "id": "418caa27",
   "metadata": {},
   "outputs": [
    {
     "data": {
      "text/plain": [
       "(6069, 30)"
      ]
     },
     "execution_count": 127,
     "metadata": {},
     "output_type": "execute_result"
    }
   ],
   "source": [
    "X_train.shape"
   ]
  },
  {
   "cell_type": "markdown",
   "id": "a66592c4",
   "metadata": {},
   "source": [
    "# Baseline Model"
   ]
  },
  {
   "cell_type": "markdown",
   "id": "73cb0164",
   "metadata": {},
   "source": [
    "**Let's build Dummy Classifier before building classification models to have an overview what would be the performance of the model if we were simply just guessing the result and not trying to find any pattern in the data.**"
   ]
  },
  {
   "cell_type": "code",
   "execution_count": 128,
   "id": "d9079ad2",
   "metadata": {},
   "outputs": [],
   "source": [
    "dummy_classifier=DummyClassifier(strategy=\"most_frequent\").fit(X_train,y_train)"
   ]
  },
  {
   "cell_type": "code",
   "execution_count": 129,
   "id": "da9c3335",
   "metadata": {},
   "outputs": [],
   "source": [
    "y_pred=dummy_classifier.predict(X_test)"
   ]
  },
  {
   "cell_type": "markdown",
   "id": "b22fd0a1",
   "metadata": {},
   "source": [
    "**All of the scores are going to be calculated using crossvalidation**"
   ]
  },
  {
   "cell_type": "code",
   "execution_count": 130,
   "id": "66fc72c1",
   "metadata": {},
   "outputs": [],
   "source": [
    "def classification_model_scores(y_test,y_pred):\n",
    "    scores={}\n",
    "    scores[\"Accuracy Score\"]= round(accuracy_score(y_test,y_pred),4)\n",
    "    scores[\"Recall Score\"]= round(recall_score(y_test,y_pred),4)\n",
    "    scores[\"Precision Score\"]=round(precision_score(y_test,y_pred),4)\n",
    "    scores[\"F1 Score\"] = round(f1_score(y_test,y_pred),4)\n",
    "    return scores"
   ]
  },
  {
   "cell_type": "code",
   "execution_count": 131,
   "id": "bb25e4bd",
   "metadata": {
    "scrolled": true
   },
   "outputs": [
    {
     "name": "stderr",
     "output_type": "stream",
     "text": [
      "C:\\Users\\Adrianna\\anaconda3\\lib\\site-packages\\sklearn\\metrics\\_classification.py:1327: UndefinedMetricWarning: Precision is ill-defined and being set to 0.0 due to no predicted samples. Use `zero_division` parameter to control this behavior.\n",
      "  _warn_prf(average, modifier, msg_start, len(result))\n"
     ]
    },
    {
     "data": {
      "text/plain": [
       "{'Accuracy Score': 0.6244,\n",
       " 'Recall Score': 0.0,\n",
       " 'Precision Score': 0.0,\n",
       " 'F1 Score': 0.0}"
      ]
     },
     "execution_count": 131,
     "metadata": {},
     "output_type": "execute_result"
    }
   ],
   "source": [
    "classification_model_scores(y_test,y_pred)"
   ]
  },
  {
   "cell_type": "code",
   "execution_count": 132,
   "id": "fad8a8de",
   "metadata": {},
   "outputs": [
    {
     "data": {
      "text/plain": [
       "array([[1867,    0],\n",
       "       [1123,    0]], dtype=int64)"
      ]
     },
     "execution_count": 132,
     "metadata": {},
     "output_type": "execute_result"
    }
   ],
   "source": [
    "confusion_matrix(y_test,y_pred)"
   ]
  },
  {
   "cell_type": "markdown",
   "id": "c7877b9c",
   "metadata": {},
   "source": [
    "**Accurancy for Dummy Classifier is 62,44%. As we can see in the confusion matrix, the Dummy Classifier is not working at all. There is a lot of False Positive values and no True nor False Negative values.**"
   ]
  },
  {
   "cell_type": "markdown",
   "id": "e4b45553",
   "metadata": {},
   "source": [
    "# Logistic Regression"
   ]
  },
  {
   "cell_type": "markdown",
   "id": "019b3b7b",
   "metadata": {},
   "source": [
    "## Feature Selection"
   ]
  },
  {
   "cell_type": "markdown",
   "id": "2da59c92",
   "metadata": {},
   "source": [
    "**There are various methods for selecting features: l1 regularization, selection based on coefficients magnitude, selection using feature importance, RFE, RFECV and others. For feature selection let's use RFECV method. Let's use the Logistic Regression as the estimator, as it is better to use the same type of algorithm for feature selection as for model training**"
   ]
  },
  {
   "cell_type": "markdown",
   "id": "38359f12",
   "metadata": {},
   "source": [
    "### RFECV "
   ]
  },
  {
   "cell_type": "code",
   "execution_count": 133,
   "id": "dee3f2de",
   "metadata": {},
   "outputs": [],
   "source": [
    "selector=RFECV(LogisticRegression(max_iter=10000),cv=3,step=1)"
   ]
  },
  {
   "cell_type": "code",
   "execution_count": 134,
   "id": "7812a3d0",
   "metadata": {},
   "outputs": [
    {
     "data": {
      "text/html": [
       "<style>#sk-container-id-2 {color: black;background-color: white;}#sk-container-id-2 pre{padding: 0;}#sk-container-id-2 div.sk-toggleable {background-color: white;}#sk-container-id-2 label.sk-toggleable__label {cursor: pointer;display: block;width: 100%;margin-bottom: 0;padding: 0.3em;box-sizing: border-box;text-align: center;}#sk-container-id-2 label.sk-toggleable__label-arrow:before {content: \"▸\";float: left;margin-right: 0.25em;color: #696969;}#sk-container-id-2 label.sk-toggleable__label-arrow:hover:before {color: black;}#sk-container-id-2 div.sk-estimator:hover label.sk-toggleable__label-arrow:before {color: black;}#sk-container-id-2 div.sk-toggleable__content {max-height: 0;max-width: 0;overflow: hidden;text-align: left;background-color: #f0f8ff;}#sk-container-id-2 div.sk-toggleable__content pre {margin: 0.2em;color: black;border-radius: 0.25em;background-color: #f0f8ff;}#sk-container-id-2 input.sk-toggleable__control:checked~div.sk-toggleable__content {max-height: 200px;max-width: 100%;overflow: auto;}#sk-container-id-2 input.sk-toggleable__control:checked~label.sk-toggleable__label-arrow:before {content: \"▾\";}#sk-container-id-2 div.sk-estimator input.sk-toggleable__control:checked~label.sk-toggleable__label {background-color: #d4ebff;}#sk-container-id-2 div.sk-label input.sk-toggleable__control:checked~label.sk-toggleable__label {background-color: #d4ebff;}#sk-container-id-2 input.sk-hidden--visually {border: 0;clip: rect(1px 1px 1px 1px);clip: rect(1px, 1px, 1px, 1px);height: 1px;margin: -1px;overflow: hidden;padding: 0;position: absolute;width: 1px;}#sk-container-id-2 div.sk-estimator {font-family: monospace;background-color: #f0f8ff;border: 1px dotted black;border-radius: 0.25em;box-sizing: border-box;margin-bottom: 0.5em;}#sk-container-id-2 div.sk-estimator:hover {background-color: #d4ebff;}#sk-container-id-2 div.sk-parallel-item::after {content: \"\";width: 100%;border-bottom: 1px solid gray;flex-grow: 1;}#sk-container-id-2 div.sk-label:hover label.sk-toggleable__label {background-color: #d4ebff;}#sk-container-id-2 div.sk-serial::before {content: \"\";position: absolute;border-left: 1px solid gray;box-sizing: border-box;top: 0;bottom: 0;left: 50%;z-index: 0;}#sk-container-id-2 div.sk-serial {display: flex;flex-direction: column;align-items: center;background-color: white;padding-right: 0.2em;padding-left: 0.2em;position: relative;}#sk-container-id-2 div.sk-item {position: relative;z-index: 1;}#sk-container-id-2 div.sk-parallel {display: flex;align-items: stretch;justify-content: center;background-color: white;position: relative;}#sk-container-id-2 div.sk-item::before, #sk-container-id-2 div.sk-parallel-item::before {content: \"\";position: absolute;border-left: 1px solid gray;box-sizing: border-box;top: 0;bottom: 0;left: 50%;z-index: -1;}#sk-container-id-2 div.sk-parallel-item {display: flex;flex-direction: column;z-index: 1;position: relative;background-color: white;}#sk-container-id-2 div.sk-parallel-item:first-child::after {align-self: flex-end;width: 50%;}#sk-container-id-2 div.sk-parallel-item:last-child::after {align-self: flex-start;width: 50%;}#sk-container-id-2 div.sk-parallel-item:only-child::after {width: 0;}#sk-container-id-2 div.sk-dashed-wrapped {border: 1px dashed gray;margin: 0 0.4em 0.5em 0.4em;box-sizing: border-box;padding-bottom: 0.4em;background-color: white;}#sk-container-id-2 div.sk-label label {font-family: monospace;font-weight: bold;display: inline-block;line-height: 1.2em;}#sk-container-id-2 div.sk-label-container {text-align: center;}#sk-container-id-2 div.sk-container {/* jupyter's `normalize.less` sets `[hidden] { display: none; }` but bootstrap.min.css set `[hidden] { display: none !important; }` so we also need the `!important` here to be able to override the default hidden behavior on the sphinx rendered scikit-learn.org. See: https://github.com/scikit-learn/scikit-learn/issues/21755 */display: inline-block !important;position: relative;}#sk-container-id-2 div.sk-text-repr-fallback {display: none;}</style><div id=\"sk-container-id-2\" class=\"sk-top-container\"><div class=\"sk-text-repr-fallback\"><pre>RFECV(cv=3, estimator=LogisticRegression(max_iter=10000))</pre><b>In a Jupyter environment, please rerun this cell to show the HTML representation or trust the notebook. <br />On GitHub, the HTML representation is unable to render, please try loading this page with nbviewer.org.</b></div><div class=\"sk-container\" hidden><div class=\"sk-item sk-dashed-wrapped\"><div class=\"sk-label-container\"><div class=\"sk-label sk-toggleable\"><input class=\"sk-toggleable__control sk-hidden--visually\" id=\"sk-estimator-id-2\" type=\"checkbox\" ><label for=\"sk-estimator-id-2\" class=\"sk-toggleable__label sk-toggleable__label-arrow\">RFECV</label><div class=\"sk-toggleable__content\"><pre>RFECV(cv=3, estimator=LogisticRegression(max_iter=10000))</pre></div></div></div><div class=\"sk-parallel\"><div class=\"sk-parallel-item\"><div class=\"sk-item\"><div class=\"sk-label-container\"><div class=\"sk-label sk-toggleable\"><input class=\"sk-toggleable__control sk-hidden--visually\" id=\"sk-estimator-id-3\" type=\"checkbox\" ><label for=\"sk-estimator-id-3\" class=\"sk-toggleable__label sk-toggleable__label-arrow\">estimator: LogisticRegression</label><div class=\"sk-toggleable__content\"><pre>LogisticRegression(max_iter=10000)</pre></div></div></div><div class=\"sk-serial\"><div class=\"sk-item\"><div class=\"sk-estimator sk-toggleable\"><input class=\"sk-toggleable__control sk-hidden--visually\" id=\"sk-estimator-id-4\" type=\"checkbox\" ><label for=\"sk-estimator-id-4\" class=\"sk-toggleable__label sk-toggleable__label-arrow\">LogisticRegression</label><div class=\"sk-toggleable__content\"><pre>LogisticRegression(max_iter=10000)</pre></div></div></div></div></div></div></div></div></div></div>"
      ],
      "text/plain": [
       "RFECV(cv=3, estimator=LogisticRegression(max_iter=10000))"
      ]
     },
     "execution_count": 134,
     "metadata": {},
     "output_type": "execute_result"
    }
   ],
   "source": [
    "selector.fit(X_train,y_train)"
   ]
  },
  {
   "cell_type": "code",
   "execution_count": 135,
   "id": "084bb207",
   "metadata": {
    "scrolled": true
   },
   "outputs": [
    {
     "data": {
      "text/plain": [
       "30"
      ]
     },
     "execution_count": 135,
     "metadata": {},
     "output_type": "execute_result"
    }
   ],
   "source": [
    "selector.n_features_"
   ]
  },
  {
   "cell_type": "markdown",
   "id": "17f0652e",
   "metadata": {},
   "source": [
    "**The outcome of the Feature Selection procedure shows that we should keep all of the columns in the model.**"
   ]
  },
  {
   "cell_type": "markdown",
   "id": "283418ed",
   "metadata": {},
   "source": [
    "## Logistic Regression "
   ]
  },
  {
   "cell_type": "markdown",
   "id": "c59a8b52",
   "metadata": {},
   "source": [
    "### Basic Logistic Regression"
   ]
  },
  {
   "cell_type": "markdown",
   "id": "afdc190a",
   "metadata": {},
   "source": [
    "**Let's build Logistic Regression classifier without optimizing penalty or C parameters and withoud scalling the data.**"
   ]
  },
  {
   "cell_type": "code",
   "execution_count": 136,
   "id": "ef9ffdd8",
   "metadata": {},
   "outputs": [],
   "source": [
    "clf = LogisticRegression(max_iter=10000).fit(X_train,y_train)\n",
    "y_predclf = clf.predict(X_test)"
   ]
  },
  {
   "cell_type": "code",
   "execution_count": 137,
   "id": "7d741fcc",
   "metadata": {
    "scrolled": false
   },
   "outputs": [
    {
     "data": {
      "text/plain": [
       "{'Accuracy Score': 0.7983,\n",
       " 'Recall Score': 0.6705,\n",
       " 'Precision Score': 0.7637,\n",
       " 'F1 Score': 0.7141}"
      ]
     },
     "execution_count": 137,
     "metadata": {},
     "output_type": "execute_result"
    }
   ],
   "source": [
    "classification_model_scores(y_test,y_predclf)"
   ]
  },
  {
   "cell_type": "code",
   "execution_count": 138,
   "id": "05d86236",
   "metadata": {},
   "outputs": [],
   "source": [
    "models_scores={\"Logistic Regression\":classification_model_scores(y_test,y_predclf)}"
   ]
  },
  {
   "cell_type": "code",
   "execution_count": 139,
   "id": "16708a72",
   "metadata": {},
   "outputs": [
    {
     "data": {
      "text/plain": [
       "array([[1634,  233],\n",
       "       [ 370,  753]], dtype=int64)"
      ]
     },
     "execution_count": 139,
     "metadata": {},
     "output_type": "execute_result"
    }
   ],
   "source": [
    "confusion_matrix(y_test,y_predclf)"
   ]
  },
  {
   "cell_type": "markdown",
   "id": "d1eb38b4",
   "metadata": {},
   "source": [
    "**The precision score and confusion matrix looks much more better than in case of Dummy Classifier, but let's try to increase the F1 score by using Grid Search**"
   ]
  },
  {
   "cell_type": "markdown",
   "id": "b88364fa",
   "metadata": {},
   "source": [
    "### Scaling the data"
   ]
  },
  {
   "cell_type": "markdown",
   "id": "901c82d8",
   "metadata": {},
   "source": [
    "**Before doing Grid Search for finding the best parameters there is a need to scale the data.**"
   ]
  },
  {
   "cell_type": "code",
   "execution_count": 140,
   "id": "7635657a",
   "metadata": {},
   "outputs": [],
   "source": [
    "sc = StandardScaler()\n",
    "\n",
    "X_train_scaled = sc.fit_transform(X_train)\n",
    "\n",
    "X_test_scaled = sc.transform (X_test)"
   ]
  },
  {
   "cell_type": "markdown",
   "id": "3d860436",
   "metadata": {},
   "source": [
    "### Grid Search "
   ]
  },
  {
   "cell_type": "markdown",
   "id": "d759f90a",
   "metadata": {},
   "source": [
    "**Let's use Grid Search to find the best parameters for the Logistic Regression model.**"
   ]
  },
  {
   "cell_type": "code",
   "execution_count": 141,
   "id": "1dc5f07a",
   "metadata": {},
   "outputs": [],
   "source": [
    "param_grid = {\n",
    "    \"penalty\": [\"l1\", \"l2\"],\n",
    "    \"C\":[1000,100,10,1,0.1,0.01]}\n",
    "gs = GridSearchCV(LogisticRegression(max_iter=10000,solver=\"saga\"),param_grid,cv=3)"
   ]
  },
  {
   "cell_type": "code",
   "execution_count": 142,
   "id": "f368bd12",
   "metadata": {},
   "outputs": [
    {
     "name": "stdout",
     "output_type": "stream",
     "text": [
      "Wall time: 12.5 s\n"
     ]
    },
    {
     "data": {
      "text/html": [
       "<style>#sk-container-id-3 {color: black;background-color: white;}#sk-container-id-3 pre{padding: 0;}#sk-container-id-3 div.sk-toggleable {background-color: white;}#sk-container-id-3 label.sk-toggleable__label {cursor: pointer;display: block;width: 100%;margin-bottom: 0;padding: 0.3em;box-sizing: border-box;text-align: center;}#sk-container-id-3 label.sk-toggleable__label-arrow:before {content: \"▸\";float: left;margin-right: 0.25em;color: #696969;}#sk-container-id-3 label.sk-toggleable__label-arrow:hover:before {color: black;}#sk-container-id-3 div.sk-estimator:hover label.sk-toggleable__label-arrow:before {color: black;}#sk-container-id-3 div.sk-toggleable__content {max-height: 0;max-width: 0;overflow: hidden;text-align: left;background-color: #f0f8ff;}#sk-container-id-3 div.sk-toggleable__content pre {margin: 0.2em;color: black;border-radius: 0.25em;background-color: #f0f8ff;}#sk-container-id-3 input.sk-toggleable__control:checked~div.sk-toggleable__content {max-height: 200px;max-width: 100%;overflow: auto;}#sk-container-id-3 input.sk-toggleable__control:checked~label.sk-toggleable__label-arrow:before {content: \"▾\";}#sk-container-id-3 div.sk-estimator input.sk-toggleable__control:checked~label.sk-toggleable__label {background-color: #d4ebff;}#sk-container-id-3 div.sk-label input.sk-toggleable__control:checked~label.sk-toggleable__label {background-color: #d4ebff;}#sk-container-id-3 input.sk-hidden--visually {border: 0;clip: rect(1px 1px 1px 1px);clip: rect(1px, 1px, 1px, 1px);height: 1px;margin: -1px;overflow: hidden;padding: 0;position: absolute;width: 1px;}#sk-container-id-3 div.sk-estimator {font-family: monospace;background-color: #f0f8ff;border: 1px dotted black;border-radius: 0.25em;box-sizing: border-box;margin-bottom: 0.5em;}#sk-container-id-3 div.sk-estimator:hover {background-color: #d4ebff;}#sk-container-id-3 div.sk-parallel-item::after {content: \"\";width: 100%;border-bottom: 1px solid gray;flex-grow: 1;}#sk-container-id-3 div.sk-label:hover label.sk-toggleable__label {background-color: #d4ebff;}#sk-container-id-3 div.sk-serial::before {content: \"\";position: absolute;border-left: 1px solid gray;box-sizing: border-box;top: 0;bottom: 0;left: 50%;z-index: 0;}#sk-container-id-3 div.sk-serial {display: flex;flex-direction: column;align-items: center;background-color: white;padding-right: 0.2em;padding-left: 0.2em;position: relative;}#sk-container-id-3 div.sk-item {position: relative;z-index: 1;}#sk-container-id-3 div.sk-parallel {display: flex;align-items: stretch;justify-content: center;background-color: white;position: relative;}#sk-container-id-3 div.sk-item::before, #sk-container-id-3 div.sk-parallel-item::before {content: \"\";position: absolute;border-left: 1px solid gray;box-sizing: border-box;top: 0;bottom: 0;left: 50%;z-index: -1;}#sk-container-id-3 div.sk-parallel-item {display: flex;flex-direction: column;z-index: 1;position: relative;background-color: white;}#sk-container-id-3 div.sk-parallel-item:first-child::after {align-self: flex-end;width: 50%;}#sk-container-id-3 div.sk-parallel-item:last-child::after {align-self: flex-start;width: 50%;}#sk-container-id-3 div.sk-parallel-item:only-child::after {width: 0;}#sk-container-id-3 div.sk-dashed-wrapped {border: 1px dashed gray;margin: 0 0.4em 0.5em 0.4em;box-sizing: border-box;padding-bottom: 0.4em;background-color: white;}#sk-container-id-3 div.sk-label label {font-family: monospace;font-weight: bold;display: inline-block;line-height: 1.2em;}#sk-container-id-3 div.sk-label-container {text-align: center;}#sk-container-id-3 div.sk-container {/* jupyter's `normalize.less` sets `[hidden] { display: none; }` but bootstrap.min.css set `[hidden] { display: none !important; }` so we also need the `!important` here to be able to override the default hidden behavior on the sphinx rendered scikit-learn.org. See: https://github.com/scikit-learn/scikit-learn/issues/21755 */display: inline-block !important;position: relative;}#sk-container-id-3 div.sk-text-repr-fallback {display: none;}</style><div id=\"sk-container-id-3\" class=\"sk-top-container\"><div class=\"sk-text-repr-fallback\"><pre>GridSearchCV(cv=3, estimator=LogisticRegression(max_iter=10000, solver=&#x27;saga&#x27;),\n",
       "             param_grid={&#x27;C&#x27;: [1000, 100, 10, 1, 0.1, 0.01],\n",
       "                         &#x27;penalty&#x27;: [&#x27;l1&#x27;, &#x27;l2&#x27;]})</pre><b>In a Jupyter environment, please rerun this cell to show the HTML representation or trust the notebook. <br />On GitHub, the HTML representation is unable to render, please try loading this page with nbviewer.org.</b></div><div class=\"sk-container\" hidden><div class=\"sk-item sk-dashed-wrapped\"><div class=\"sk-label-container\"><div class=\"sk-label sk-toggleable\"><input class=\"sk-toggleable__control sk-hidden--visually\" id=\"sk-estimator-id-5\" type=\"checkbox\" ><label for=\"sk-estimator-id-5\" class=\"sk-toggleable__label sk-toggleable__label-arrow\">GridSearchCV</label><div class=\"sk-toggleable__content\"><pre>GridSearchCV(cv=3, estimator=LogisticRegression(max_iter=10000, solver=&#x27;saga&#x27;),\n",
       "             param_grid={&#x27;C&#x27;: [1000, 100, 10, 1, 0.1, 0.01],\n",
       "                         &#x27;penalty&#x27;: [&#x27;l1&#x27;, &#x27;l2&#x27;]})</pre></div></div></div><div class=\"sk-parallel\"><div class=\"sk-parallel-item\"><div class=\"sk-item\"><div class=\"sk-label-container\"><div class=\"sk-label sk-toggleable\"><input class=\"sk-toggleable__control sk-hidden--visually\" id=\"sk-estimator-id-6\" type=\"checkbox\" ><label for=\"sk-estimator-id-6\" class=\"sk-toggleable__label sk-toggleable__label-arrow\">estimator: LogisticRegression</label><div class=\"sk-toggleable__content\"><pre>LogisticRegression(max_iter=10000, solver=&#x27;saga&#x27;)</pre></div></div></div><div class=\"sk-serial\"><div class=\"sk-item\"><div class=\"sk-estimator sk-toggleable\"><input class=\"sk-toggleable__control sk-hidden--visually\" id=\"sk-estimator-id-7\" type=\"checkbox\" ><label for=\"sk-estimator-id-7\" class=\"sk-toggleable__label sk-toggleable__label-arrow\">LogisticRegression</label><div class=\"sk-toggleable__content\"><pre>LogisticRegression(max_iter=10000, solver=&#x27;saga&#x27;)</pre></div></div></div></div></div></div></div></div></div></div>"
      ],
      "text/plain": [
       "GridSearchCV(cv=3, estimator=LogisticRegression(max_iter=10000, solver='saga'),\n",
       "             param_grid={'C': [1000, 100, 10, 1, 0.1, 0.01],\n",
       "                         'penalty': ['l1', 'l2']})"
      ]
     },
     "execution_count": 142,
     "metadata": {},
     "output_type": "execute_result"
    }
   ],
   "source": [
    "%%time\n",
    "gs.fit(X_train_scaled,y_train)"
   ]
  },
  {
   "cell_type": "code",
   "execution_count": 143,
   "id": "8ee3e60f",
   "metadata": {},
   "outputs": [
    {
     "data": {
      "text/plain": [
       "{'C': 1000, 'penalty': 'l1'}"
      ]
     },
     "execution_count": 143,
     "metadata": {},
     "output_type": "execute_result"
    }
   ],
   "source": [
    "gs.best_params_"
   ]
  },
  {
   "cell_type": "markdown",
   "id": "7a019c74",
   "metadata": {},
   "source": [
    "### Logistic Regression after GridSearchCV"
   ]
  },
  {
   "cell_type": "code",
   "execution_count": 144,
   "id": "b0f1573f",
   "metadata": {},
   "outputs": [],
   "source": [
    "clf_grid = LogisticRegression(max_iter=10000,penalty=\"l1\",C=1000,solver=\"saga\").fit(X_train_scaled,y_train)\n",
    "y_pred_clfgrid = clf_grid.predict(X_test_scaled)"
   ]
  },
  {
   "cell_type": "code",
   "execution_count": 145,
   "id": "5b53b4ad",
   "metadata": {
    "scrolled": true
   },
   "outputs": [
    {
     "data": {
      "text/plain": [
       "{'Accuracy Score': 0.797,\n",
       " 'Recall Score': 0.6723,\n",
       " 'Precision Score': 0.7596,\n",
       " 'F1 Score': 0.7133}"
      ]
     },
     "execution_count": 145,
     "metadata": {},
     "output_type": "execute_result"
    }
   ],
   "source": [
    "classification_model_scores(y_test,y_pred_clfgrid)"
   ]
  },
  {
   "cell_type": "code",
   "execution_count": 146,
   "id": "f943e281",
   "metadata": {},
   "outputs": [],
   "source": [
    "models_scores[\"Logistic Regression Grid Search\"]=classification_model_scores(y_test,y_pred_clfgrid)"
   ]
  },
  {
   "cell_type": "code",
   "execution_count": 147,
   "id": "f9dfbb96",
   "metadata": {
    "scrolled": false
   },
   "outputs": [
    {
     "data": {
      "text/plain": [
       "array([[1628,  239],\n",
       "       [ 368,  755]], dtype=int64)"
      ]
     },
     "execution_count": 147,
     "metadata": {},
     "output_type": "execute_result"
    }
   ],
   "source": [
    "confusion_matrix(y_test,y_pred_clfgrid)"
   ]
  },
  {
   "cell_type": "markdown",
   "id": "ea5f082f",
   "metadata": {},
   "source": [
    "# Decision Tree Classifier"
   ]
  },
  {
   "cell_type": "markdown",
   "id": "31c37e08",
   "metadata": {},
   "source": [
    "**For feature selection let's use RFECV method. Let's use the Decision Three Classifier as the estimator, as it is better to use the same type of algorithm for feature selection as for model training.**"
   ]
  },
  {
   "cell_type": "markdown",
   "id": "96fd7fd7",
   "metadata": {},
   "source": [
    "### RFECV "
   ]
  },
  {
   "cell_type": "code",
   "execution_count": 148,
   "id": "f3759a27",
   "metadata": {},
   "outputs": [],
   "source": [
    "selector1=RFECV(DecisionTreeClassifier(),cv=3,step=1)"
   ]
  },
  {
   "cell_type": "code",
   "execution_count": 149,
   "id": "08b136c7",
   "metadata": {},
   "outputs": [
    {
     "data": {
      "text/html": [
       "<style>#sk-container-id-4 {color: black;background-color: white;}#sk-container-id-4 pre{padding: 0;}#sk-container-id-4 div.sk-toggleable {background-color: white;}#sk-container-id-4 label.sk-toggleable__label {cursor: pointer;display: block;width: 100%;margin-bottom: 0;padding: 0.3em;box-sizing: border-box;text-align: center;}#sk-container-id-4 label.sk-toggleable__label-arrow:before {content: \"▸\";float: left;margin-right: 0.25em;color: #696969;}#sk-container-id-4 label.sk-toggleable__label-arrow:hover:before {color: black;}#sk-container-id-4 div.sk-estimator:hover label.sk-toggleable__label-arrow:before {color: black;}#sk-container-id-4 div.sk-toggleable__content {max-height: 0;max-width: 0;overflow: hidden;text-align: left;background-color: #f0f8ff;}#sk-container-id-4 div.sk-toggleable__content pre {margin: 0.2em;color: black;border-radius: 0.25em;background-color: #f0f8ff;}#sk-container-id-4 input.sk-toggleable__control:checked~div.sk-toggleable__content {max-height: 200px;max-width: 100%;overflow: auto;}#sk-container-id-4 input.sk-toggleable__control:checked~label.sk-toggleable__label-arrow:before {content: \"▾\";}#sk-container-id-4 div.sk-estimator input.sk-toggleable__control:checked~label.sk-toggleable__label {background-color: #d4ebff;}#sk-container-id-4 div.sk-label input.sk-toggleable__control:checked~label.sk-toggleable__label {background-color: #d4ebff;}#sk-container-id-4 input.sk-hidden--visually {border: 0;clip: rect(1px 1px 1px 1px);clip: rect(1px, 1px, 1px, 1px);height: 1px;margin: -1px;overflow: hidden;padding: 0;position: absolute;width: 1px;}#sk-container-id-4 div.sk-estimator {font-family: monospace;background-color: #f0f8ff;border: 1px dotted black;border-radius: 0.25em;box-sizing: border-box;margin-bottom: 0.5em;}#sk-container-id-4 div.sk-estimator:hover {background-color: #d4ebff;}#sk-container-id-4 div.sk-parallel-item::after {content: \"\";width: 100%;border-bottom: 1px solid gray;flex-grow: 1;}#sk-container-id-4 div.sk-label:hover label.sk-toggleable__label {background-color: #d4ebff;}#sk-container-id-4 div.sk-serial::before {content: \"\";position: absolute;border-left: 1px solid gray;box-sizing: border-box;top: 0;bottom: 0;left: 50%;z-index: 0;}#sk-container-id-4 div.sk-serial {display: flex;flex-direction: column;align-items: center;background-color: white;padding-right: 0.2em;padding-left: 0.2em;position: relative;}#sk-container-id-4 div.sk-item {position: relative;z-index: 1;}#sk-container-id-4 div.sk-parallel {display: flex;align-items: stretch;justify-content: center;background-color: white;position: relative;}#sk-container-id-4 div.sk-item::before, #sk-container-id-4 div.sk-parallel-item::before {content: \"\";position: absolute;border-left: 1px solid gray;box-sizing: border-box;top: 0;bottom: 0;left: 50%;z-index: -1;}#sk-container-id-4 div.sk-parallel-item {display: flex;flex-direction: column;z-index: 1;position: relative;background-color: white;}#sk-container-id-4 div.sk-parallel-item:first-child::after {align-self: flex-end;width: 50%;}#sk-container-id-4 div.sk-parallel-item:last-child::after {align-self: flex-start;width: 50%;}#sk-container-id-4 div.sk-parallel-item:only-child::after {width: 0;}#sk-container-id-4 div.sk-dashed-wrapped {border: 1px dashed gray;margin: 0 0.4em 0.5em 0.4em;box-sizing: border-box;padding-bottom: 0.4em;background-color: white;}#sk-container-id-4 div.sk-label label {font-family: monospace;font-weight: bold;display: inline-block;line-height: 1.2em;}#sk-container-id-4 div.sk-label-container {text-align: center;}#sk-container-id-4 div.sk-container {/* jupyter's `normalize.less` sets `[hidden] { display: none; }` but bootstrap.min.css set `[hidden] { display: none !important; }` so we also need the `!important` here to be able to override the default hidden behavior on the sphinx rendered scikit-learn.org. See: https://github.com/scikit-learn/scikit-learn/issues/21755 */display: inline-block !important;position: relative;}#sk-container-id-4 div.sk-text-repr-fallback {display: none;}</style><div id=\"sk-container-id-4\" class=\"sk-top-container\"><div class=\"sk-text-repr-fallback\"><pre>RFECV(cv=3, estimator=DecisionTreeClassifier())</pre><b>In a Jupyter environment, please rerun this cell to show the HTML representation or trust the notebook. <br />On GitHub, the HTML representation is unable to render, please try loading this page with nbviewer.org.</b></div><div class=\"sk-container\" hidden><div class=\"sk-item sk-dashed-wrapped\"><div class=\"sk-label-container\"><div class=\"sk-label sk-toggleable\"><input class=\"sk-toggleable__control sk-hidden--visually\" id=\"sk-estimator-id-8\" type=\"checkbox\" ><label for=\"sk-estimator-id-8\" class=\"sk-toggleable__label sk-toggleable__label-arrow\">RFECV</label><div class=\"sk-toggleable__content\"><pre>RFECV(cv=3, estimator=DecisionTreeClassifier())</pre></div></div></div><div class=\"sk-parallel\"><div class=\"sk-parallel-item\"><div class=\"sk-item\"><div class=\"sk-label-container\"><div class=\"sk-label sk-toggleable\"><input class=\"sk-toggleable__control sk-hidden--visually\" id=\"sk-estimator-id-9\" type=\"checkbox\" ><label for=\"sk-estimator-id-9\" class=\"sk-toggleable__label sk-toggleable__label-arrow\">estimator: DecisionTreeClassifier</label><div class=\"sk-toggleable__content\"><pre>DecisionTreeClassifier()</pre></div></div></div><div class=\"sk-serial\"><div class=\"sk-item\"><div class=\"sk-estimator sk-toggleable\"><input class=\"sk-toggleable__control sk-hidden--visually\" id=\"sk-estimator-id-10\" type=\"checkbox\" ><label for=\"sk-estimator-id-10\" class=\"sk-toggleable__label sk-toggleable__label-arrow\">DecisionTreeClassifier</label><div class=\"sk-toggleable__content\"><pre>DecisionTreeClassifier()</pre></div></div></div></div></div></div></div></div></div></div>"
      ],
      "text/plain": [
       "RFECV(cv=3, estimator=DecisionTreeClassifier())"
      ]
     },
     "execution_count": 149,
     "metadata": {},
     "output_type": "execute_result"
    }
   ],
   "source": [
    "selector1.fit(X_train,y_train)"
   ]
  },
  {
   "cell_type": "code",
   "execution_count": 150,
   "id": "427528b3",
   "metadata": {
    "scrolled": true
   },
   "outputs": [
    {
     "data": {
      "text/plain": [
       "17"
      ]
     },
     "execution_count": 150,
     "metadata": {},
     "output_type": "execute_result"
    }
   ],
   "source": [
    "selector1.n_features_"
   ]
  },
  {
   "cell_type": "markdown",
   "id": "01862d32",
   "metadata": {},
   "source": [
    "**The outcome of the Feature Selection procedure shows that we should leave 17 features, let's drop the ones that were not choosen.**"
   ]
  },
  {
   "cell_type": "code",
   "execution_count": 151,
   "id": "f569427e",
   "metadata": {},
   "outputs": [
    {
     "data": {
      "text/plain": [
       "array([ True,  True,  True,  True,  True, False,  True,  True, False,\n",
       "        True, False,  True, False,  True, False, False, False, False,\n",
       "        True,  True, False, False,  True,  True,  True, False, False,\n",
       "        True, False,  True])"
      ]
     },
     "execution_count": 151,
     "metadata": {},
     "output_type": "execute_result"
    }
   ],
   "source": [
    "selector1.get_support()"
   ]
  },
  {
   "cell_type": "code",
   "execution_count": 152,
   "id": "b856bfa6",
   "metadata": {},
   "outputs": [],
   "source": [
    "features_names = X_train.columns\n",
    "features_flags = selector1.get_support()\n",
    "\n",
    "chosen_features=[feat for feat, flag in zip(features_names, features_flags) if flag]"
   ]
  },
  {
   "cell_type": "code",
   "execution_count": 153,
   "id": "1ca842e6",
   "metadata": {},
   "outputs": [
    {
     "data": {
      "text/plain": [
       "['Do Not Email',\n",
       " 'TotalVisits',\n",
       " 'Total Time Spent on Website',\n",
       " 'Page Views Per Visit',\n",
       " 'A free copy of Mastering The Interview',\n",
       " 'Lead Origin_Landing Page Submission',\n",
       " 'Lead Origin_Other',\n",
       " 'Lead Source_Google',\n",
       " 'Lead Source_Organic Search',\n",
       " 'Last Activity_Email Opened',\n",
       " 'Specialization_Finance Management',\n",
       " 'Specialization_Human Resource Management',\n",
       " 'Specialization_Other',\n",
       " 'City_Mumbai',\n",
       " 'City_Other',\n",
       " 'Last Notable Activity_Modified',\n",
       " 'Last Notable Activity_SMS Sent']"
      ]
     },
     "execution_count": 153,
     "metadata": {},
     "output_type": "execute_result"
    }
   ],
   "source": [
    "chosen_features"
   ]
  },
  {
   "cell_type": "markdown",
   "id": "69636925",
   "metadata": {},
   "source": [
    "**Let's leave only columns that were selected by RFECV.**"
   ]
  },
  {
   "cell_type": "code",
   "execution_count": 154,
   "id": "f6703014",
   "metadata": {},
   "outputs": [],
   "source": [
    "features_to_delete=[i for i in X_train.columns if i not in chosen_features]"
   ]
  },
  {
   "cell_type": "code",
   "execution_count": 155,
   "id": "aa8ef5a4",
   "metadata": {
    "scrolled": true
   },
   "outputs": [
    {
     "data": {
      "text/plain": [
       "['Lead Origin_API',\n",
       " 'Lead Source_Direct Traffic',\n",
       " 'Lead Source_Olark Chat',\n",
       " 'Lead Source_Other',\n",
       " 'Last Activity_Olark Chat Conversation',\n",
       " 'Last Activity_Other',\n",
       " 'Last Activity_Page Visited on Website',\n",
       " 'Last Activity_SMS Sent',\n",
       " 'Specialization_Marketing Management',\n",
       " 'Specialization_Operations Management',\n",
       " 'City_Thane & Outskirts',\n",
       " 'Last Notable Activity_Email Opened',\n",
       " 'Last Notable Activity_Other']"
      ]
     },
     "execution_count": 155,
     "metadata": {},
     "output_type": "execute_result"
    }
   ],
   "source": [
    "features_to_delete"
   ]
  },
  {
   "cell_type": "code",
   "execution_count": 156,
   "id": "a938c255",
   "metadata": {},
   "outputs": [],
   "source": [
    "X_train_dtc=X_train.copy()\n",
    "X_test_dtc=X_test.copy()"
   ]
  },
  {
   "cell_type": "code",
   "execution_count": 157,
   "id": "ffc755eb",
   "metadata": {},
   "outputs": [],
   "source": [
    "X_train_dtc.drop(features_to_delete,axis=1,inplace=True)\n",
    "X_test_dtc.drop(features_to_delete,axis=1,inplace=True)"
   ]
  },
  {
   "cell_type": "markdown",
   "id": "37bf5a9b",
   "metadata": {},
   "source": [
    "### Basic Decision Tree Classifier"
   ]
  },
  {
   "cell_type": "markdown",
   "id": "f803cecb",
   "metadata": {},
   "source": [
    "**Let's build basic Decision Tree Classifier without params optimization**"
   ]
  },
  {
   "cell_type": "code",
   "execution_count": 158,
   "id": "bd13e592",
   "metadata": {},
   "outputs": [],
   "source": [
    "dtc=DecisionTreeClassifier()"
   ]
  },
  {
   "cell_type": "code",
   "execution_count": 159,
   "id": "df545a24",
   "metadata": {},
   "outputs": [
    {
     "data": {
      "text/html": [
       "<style>#sk-container-id-5 {color: black;background-color: white;}#sk-container-id-5 pre{padding: 0;}#sk-container-id-5 div.sk-toggleable {background-color: white;}#sk-container-id-5 label.sk-toggleable__label {cursor: pointer;display: block;width: 100%;margin-bottom: 0;padding: 0.3em;box-sizing: border-box;text-align: center;}#sk-container-id-5 label.sk-toggleable__label-arrow:before {content: \"▸\";float: left;margin-right: 0.25em;color: #696969;}#sk-container-id-5 label.sk-toggleable__label-arrow:hover:before {color: black;}#sk-container-id-5 div.sk-estimator:hover label.sk-toggleable__label-arrow:before {color: black;}#sk-container-id-5 div.sk-toggleable__content {max-height: 0;max-width: 0;overflow: hidden;text-align: left;background-color: #f0f8ff;}#sk-container-id-5 div.sk-toggleable__content pre {margin: 0.2em;color: black;border-radius: 0.25em;background-color: #f0f8ff;}#sk-container-id-5 input.sk-toggleable__control:checked~div.sk-toggleable__content {max-height: 200px;max-width: 100%;overflow: auto;}#sk-container-id-5 input.sk-toggleable__control:checked~label.sk-toggleable__label-arrow:before {content: \"▾\";}#sk-container-id-5 div.sk-estimator input.sk-toggleable__control:checked~label.sk-toggleable__label {background-color: #d4ebff;}#sk-container-id-5 div.sk-label input.sk-toggleable__control:checked~label.sk-toggleable__label {background-color: #d4ebff;}#sk-container-id-5 input.sk-hidden--visually {border: 0;clip: rect(1px 1px 1px 1px);clip: rect(1px, 1px, 1px, 1px);height: 1px;margin: -1px;overflow: hidden;padding: 0;position: absolute;width: 1px;}#sk-container-id-5 div.sk-estimator {font-family: monospace;background-color: #f0f8ff;border: 1px dotted black;border-radius: 0.25em;box-sizing: border-box;margin-bottom: 0.5em;}#sk-container-id-5 div.sk-estimator:hover {background-color: #d4ebff;}#sk-container-id-5 div.sk-parallel-item::after {content: \"\";width: 100%;border-bottom: 1px solid gray;flex-grow: 1;}#sk-container-id-5 div.sk-label:hover label.sk-toggleable__label {background-color: #d4ebff;}#sk-container-id-5 div.sk-serial::before {content: \"\";position: absolute;border-left: 1px solid gray;box-sizing: border-box;top: 0;bottom: 0;left: 50%;z-index: 0;}#sk-container-id-5 div.sk-serial {display: flex;flex-direction: column;align-items: center;background-color: white;padding-right: 0.2em;padding-left: 0.2em;position: relative;}#sk-container-id-5 div.sk-item {position: relative;z-index: 1;}#sk-container-id-5 div.sk-parallel {display: flex;align-items: stretch;justify-content: center;background-color: white;position: relative;}#sk-container-id-5 div.sk-item::before, #sk-container-id-5 div.sk-parallel-item::before {content: \"\";position: absolute;border-left: 1px solid gray;box-sizing: border-box;top: 0;bottom: 0;left: 50%;z-index: -1;}#sk-container-id-5 div.sk-parallel-item {display: flex;flex-direction: column;z-index: 1;position: relative;background-color: white;}#sk-container-id-5 div.sk-parallel-item:first-child::after {align-self: flex-end;width: 50%;}#sk-container-id-5 div.sk-parallel-item:last-child::after {align-self: flex-start;width: 50%;}#sk-container-id-5 div.sk-parallel-item:only-child::after {width: 0;}#sk-container-id-5 div.sk-dashed-wrapped {border: 1px dashed gray;margin: 0 0.4em 0.5em 0.4em;box-sizing: border-box;padding-bottom: 0.4em;background-color: white;}#sk-container-id-5 div.sk-label label {font-family: monospace;font-weight: bold;display: inline-block;line-height: 1.2em;}#sk-container-id-5 div.sk-label-container {text-align: center;}#sk-container-id-5 div.sk-container {/* jupyter's `normalize.less` sets `[hidden] { display: none; }` but bootstrap.min.css set `[hidden] { display: none !important; }` so we also need the `!important` here to be able to override the default hidden behavior on the sphinx rendered scikit-learn.org. See: https://github.com/scikit-learn/scikit-learn/issues/21755 */display: inline-block !important;position: relative;}#sk-container-id-5 div.sk-text-repr-fallback {display: none;}</style><div id=\"sk-container-id-5\" class=\"sk-top-container\"><div class=\"sk-text-repr-fallback\"><pre>DecisionTreeClassifier()</pre><b>In a Jupyter environment, please rerun this cell to show the HTML representation or trust the notebook. <br />On GitHub, the HTML representation is unable to render, please try loading this page with nbviewer.org.</b></div><div class=\"sk-container\" hidden><div class=\"sk-item\"><div class=\"sk-estimator sk-toggleable\"><input class=\"sk-toggleable__control sk-hidden--visually\" id=\"sk-estimator-id-11\" type=\"checkbox\" checked><label for=\"sk-estimator-id-11\" class=\"sk-toggleable__label sk-toggleable__label-arrow\">DecisionTreeClassifier</label><div class=\"sk-toggleable__content\"><pre>DecisionTreeClassifier()</pre></div></div></div></div></div>"
      ],
      "text/plain": [
       "DecisionTreeClassifier()"
      ]
     },
     "execution_count": 159,
     "metadata": {},
     "output_type": "execute_result"
    }
   ],
   "source": [
    "dtc.fit(X_train_dtc,y_train)"
   ]
  },
  {
   "cell_type": "code",
   "execution_count": 160,
   "id": "c99f542d",
   "metadata": {},
   "outputs": [],
   "source": [
    "y_dtc = dtc.predict(X_test_dtc)"
   ]
  },
  {
   "cell_type": "code",
   "execution_count": 161,
   "id": "4ed6e307",
   "metadata": {
    "scrolled": false
   },
   "outputs": [
    {
     "data": {
      "text/plain": [
       "{'Accuracy Score': 0.7615,\n",
       " 'Recall Score': 0.6616,\n",
       " 'Precision Score': 0.6905,\n",
       " 'F1 Score': 0.6758}"
      ]
     },
     "execution_count": 161,
     "metadata": {},
     "output_type": "execute_result"
    }
   ],
   "source": [
    "classification_model_scores(y_test,y_dtc)"
   ]
  },
  {
   "cell_type": "code",
   "execution_count": 162,
   "id": "a3cb5576",
   "metadata": {},
   "outputs": [],
   "source": [
    "models_scores[\"Decition Tree Classifier\"]=classification_model_scores(y_test,y_dtc)"
   ]
  },
  {
   "cell_type": "code",
   "execution_count": 163,
   "id": "3bd5cc63",
   "metadata": {},
   "outputs": [
    {
     "data": {
      "text/plain": [
       "array([[1534,  333],\n",
       "       [ 380,  743]], dtype=int64)"
      ]
     },
     "execution_count": 163,
     "metadata": {},
     "output_type": "execute_result"
    }
   ],
   "source": [
    "confusion_matrix(y_test,y_dtc)"
   ]
  },
  {
   "cell_type": "markdown",
   "id": "91234b5d",
   "metadata": {},
   "source": [
    "### Grid Search "
   ]
  },
  {
   "cell_type": "code",
   "execution_count": 164,
   "id": "8afd5216",
   "metadata": {},
   "outputs": [],
   "source": [
    "param_grid2 = {\n",
    "    \"max_depth\":range(1,10),\n",
    "    \"min_samples_split\":range(3,10)}\n"
   ]
  },
  {
   "cell_type": "code",
   "execution_count": 165,
   "id": "bce7afd4",
   "metadata": {},
   "outputs": [],
   "source": [
    "gs2 = GridSearchCV(DecisionTreeClassifier(),param_grid2,cv=3)"
   ]
  },
  {
   "cell_type": "code",
   "execution_count": 166,
   "id": "b0ecbaf4",
   "metadata": {
    "scrolled": true
   },
   "outputs": [
    {
     "name": "stdout",
     "output_type": "stream",
     "text": [
      "Wall time: 2.45 s\n"
     ]
    },
    {
     "data": {
      "text/html": [
       "<style>#sk-container-id-6 {color: black;background-color: white;}#sk-container-id-6 pre{padding: 0;}#sk-container-id-6 div.sk-toggleable {background-color: white;}#sk-container-id-6 label.sk-toggleable__label {cursor: pointer;display: block;width: 100%;margin-bottom: 0;padding: 0.3em;box-sizing: border-box;text-align: center;}#sk-container-id-6 label.sk-toggleable__label-arrow:before {content: \"▸\";float: left;margin-right: 0.25em;color: #696969;}#sk-container-id-6 label.sk-toggleable__label-arrow:hover:before {color: black;}#sk-container-id-6 div.sk-estimator:hover label.sk-toggleable__label-arrow:before {color: black;}#sk-container-id-6 div.sk-toggleable__content {max-height: 0;max-width: 0;overflow: hidden;text-align: left;background-color: #f0f8ff;}#sk-container-id-6 div.sk-toggleable__content pre {margin: 0.2em;color: black;border-radius: 0.25em;background-color: #f0f8ff;}#sk-container-id-6 input.sk-toggleable__control:checked~div.sk-toggleable__content {max-height: 200px;max-width: 100%;overflow: auto;}#sk-container-id-6 input.sk-toggleable__control:checked~label.sk-toggleable__label-arrow:before {content: \"▾\";}#sk-container-id-6 div.sk-estimator input.sk-toggleable__control:checked~label.sk-toggleable__label {background-color: #d4ebff;}#sk-container-id-6 div.sk-label input.sk-toggleable__control:checked~label.sk-toggleable__label {background-color: #d4ebff;}#sk-container-id-6 input.sk-hidden--visually {border: 0;clip: rect(1px 1px 1px 1px);clip: rect(1px, 1px, 1px, 1px);height: 1px;margin: -1px;overflow: hidden;padding: 0;position: absolute;width: 1px;}#sk-container-id-6 div.sk-estimator {font-family: monospace;background-color: #f0f8ff;border: 1px dotted black;border-radius: 0.25em;box-sizing: border-box;margin-bottom: 0.5em;}#sk-container-id-6 div.sk-estimator:hover {background-color: #d4ebff;}#sk-container-id-6 div.sk-parallel-item::after {content: \"\";width: 100%;border-bottom: 1px solid gray;flex-grow: 1;}#sk-container-id-6 div.sk-label:hover label.sk-toggleable__label {background-color: #d4ebff;}#sk-container-id-6 div.sk-serial::before {content: \"\";position: absolute;border-left: 1px solid gray;box-sizing: border-box;top: 0;bottom: 0;left: 50%;z-index: 0;}#sk-container-id-6 div.sk-serial {display: flex;flex-direction: column;align-items: center;background-color: white;padding-right: 0.2em;padding-left: 0.2em;position: relative;}#sk-container-id-6 div.sk-item {position: relative;z-index: 1;}#sk-container-id-6 div.sk-parallel {display: flex;align-items: stretch;justify-content: center;background-color: white;position: relative;}#sk-container-id-6 div.sk-item::before, #sk-container-id-6 div.sk-parallel-item::before {content: \"\";position: absolute;border-left: 1px solid gray;box-sizing: border-box;top: 0;bottom: 0;left: 50%;z-index: -1;}#sk-container-id-6 div.sk-parallel-item {display: flex;flex-direction: column;z-index: 1;position: relative;background-color: white;}#sk-container-id-6 div.sk-parallel-item:first-child::after {align-self: flex-end;width: 50%;}#sk-container-id-6 div.sk-parallel-item:last-child::after {align-self: flex-start;width: 50%;}#sk-container-id-6 div.sk-parallel-item:only-child::after {width: 0;}#sk-container-id-6 div.sk-dashed-wrapped {border: 1px dashed gray;margin: 0 0.4em 0.5em 0.4em;box-sizing: border-box;padding-bottom: 0.4em;background-color: white;}#sk-container-id-6 div.sk-label label {font-family: monospace;font-weight: bold;display: inline-block;line-height: 1.2em;}#sk-container-id-6 div.sk-label-container {text-align: center;}#sk-container-id-6 div.sk-container {/* jupyter's `normalize.less` sets `[hidden] { display: none; }` but bootstrap.min.css set `[hidden] { display: none !important; }` so we also need the `!important` here to be able to override the default hidden behavior on the sphinx rendered scikit-learn.org. See: https://github.com/scikit-learn/scikit-learn/issues/21755 */display: inline-block !important;position: relative;}#sk-container-id-6 div.sk-text-repr-fallback {display: none;}</style><div id=\"sk-container-id-6\" class=\"sk-top-container\"><div class=\"sk-text-repr-fallback\"><pre>GridSearchCV(cv=3, estimator=DecisionTreeClassifier(),\n",
       "             param_grid={&#x27;max_depth&#x27;: range(1, 10),\n",
       "                         &#x27;min_samples_split&#x27;: range(3, 10)})</pre><b>In a Jupyter environment, please rerun this cell to show the HTML representation or trust the notebook. <br />On GitHub, the HTML representation is unable to render, please try loading this page with nbviewer.org.</b></div><div class=\"sk-container\" hidden><div class=\"sk-item sk-dashed-wrapped\"><div class=\"sk-label-container\"><div class=\"sk-label sk-toggleable\"><input class=\"sk-toggleable__control sk-hidden--visually\" id=\"sk-estimator-id-12\" type=\"checkbox\" ><label for=\"sk-estimator-id-12\" class=\"sk-toggleable__label sk-toggleable__label-arrow\">GridSearchCV</label><div class=\"sk-toggleable__content\"><pre>GridSearchCV(cv=3, estimator=DecisionTreeClassifier(),\n",
       "             param_grid={&#x27;max_depth&#x27;: range(1, 10),\n",
       "                         &#x27;min_samples_split&#x27;: range(3, 10)})</pre></div></div></div><div class=\"sk-parallel\"><div class=\"sk-parallel-item\"><div class=\"sk-item\"><div class=\"sk-label-container\"><div class=\"sk-label sk-toggleable\"><input class=\"sk-toggleable__control sk-hidden--visually\" id=\"sk-estimator-id-13\" type=\"checkbox\" ><label for=\"sk-estimator-id-13\" class=\"sk-toggleable__label sk-toggleable__label-arrow\">estimator: DecisionTreeClassifier</label><div class=\"sk-toggleable__content\"><pre>DecisionTreeClassifier()</pre></div></div></div><div class=\"sk-serial\"><div class=\"sk-item\"><div class=\"sk-estimator sk-toggleable\"><input class=\"sk-toggleable__control sk-hidden--visually\" id=\"sk-estimator-id-14\" type=\"checkbox\" ><label for=\"sk-estimator-id-14\" class=\"sk-toggleable__label sk-toggleable__label-arrow\">DecisionTreeClassifier</label><div class=\"sk-toggleable__content\"><pre>DecisionTreeClassifier()</pre></div></div></div></div></div></div></div></div></div></div>"
      ],
      "text/plain": [
       "GridSearchCV(cv=3, estimator=DecisionTreeClassifier(),\n",
       "             param_grid={'max_depth': range(1, 10),\n",
       "                         'min_samples_split': range(3, 10)})"
      ]
     },
     "execution_count": 166,
     "metadata": {},
     "output_type": "execute_result"
    }
   ],
   "source": [
    "%%time\n",
    "gs2.fit(X_train_dtc,y_train)"
   ]
  },
  {
   "cell_type": "code",
   "execution_count": 167,
   "id": "86266dc2",
   "metadata": {
    "scrolled": true
   },
   "outputs": [
    {
     "data": {
      "text/plain": [
       "{'max_depth': 7, 'min_samples_split': 5}"
      ]
     },
     "execution_count": 167,
     "metadata": {},
     "output_type": "execute_result"
    }
   ],
   "source": [
    "gs2.best_params_"
   ]
  },
  {
   "cell_type": "markdown",
   "id": "048aa91c",
   "metadata": {},
   "source": [
    "### Decition Tree Classifier after Grid Search"
   ]
  },
  {
   "cell_type": "code",
   "execution_count": 168,
   "id": "1c658f3c",
   "metadata": {},
   "outputs": [],
   "source": [
    "dtc_grid=DecisionTreeClassifier(max_depth=7,min_samples_split=5)"
   ]
  },
  {
   "cell_type": "code",
   "execution_count": 169,
   "id": "28aff032",
   "metadata": {
    "scrolled": true
   },
   "outputs": [
    {
     "data": {
      "text/html": [
       "<style>#sk-container-id-7 {color: black;background-color: white;}#sk-container-id-7 pre{padding: 0;}#sk-container-id-7 div.sk-toggleable {background-color: white;}#sk-container-id-7 label.sk-toggleable__label {cursor: pointer;display: block;width: 100%;margin-bottom: 0;padding: 0.3em;box-sizing: border-box;text-align: center;}#sk-container-id-7 label.sk-toggleable__label-arrow:before {content: \"▸\";float: left;margin-right: 0.25em;color: #696969;}#sk-container-id-7 label.sk-toggleable__label-arrow:hover:before {color: black;}#sk-container-id-7 div.sk-estimator:hover label.sk-toggleable__label-arrow:before {color: black;}#sk-container-id-7 div.sk-toggleable__content {max-height: 0;max-width: 0;overflow: hidden;text-align: left;background-color: #f0f8ff;}#sk-container-id-7 div.sk-toggleable__content pre {margin: 0.2em;color: black;border-radius: 0.25em;background-color: #f0f8ff;}#sk-container-id-7 input.sk-toggleable__control:checked~div.sk-toggleable__content {max-height: 200px;max-width: 100%;overflow: auto;}#sk-container-id-7 input.sk-toggleable__control:checked~label.sk-toggleable__label-arrow:before {content: \"▾\";}#sk-container-id-7 div.sk-estimator input.sk-toggleable__control:checked~label.sk-toggleable__label {background-color: #d4ebff;}#sk-container-id-7 div.sk-label input.sk-toggleable__control:checked~label.sk-toggleable__label {background-color: #d4ebff;}#sk-container-id-7 input.sk-hidden--visually {border: 0;clip: rect(1px 1px 1px 1px);clip: rect(1px, 1px, 1px, 1px);height: 1px;margin: -1px;overflow: hidden;padding: 0;position: absolute;width: 1px;}#sk-container-id-7 div.sk-estimator {font-family: monospace;background-color: #f0f8ff;border: 1px dotted black;border-radius: 0.25em;box-sizing: border-box;margin-bottom: 0.5em;}#sk-container-id-7 div.sk-estimator:hover {background-color: #d4ebff;}#sk-container-id-7 div.sk-parallel-item::after {content: \"\";width: 100%;border-bottom: 1px solid gray;flex-grow: 1;}#sk-container-id-7 div.sk-label:hover label.sk-toggleable__label {background-color: #d4ebff;}#sk-container-id-7 div.sk-serial::before {content: \"\";position: absolute;border-left: 1px solid gray;box-sizing: border-box;top: 0;bottom: 0;left: 50%;z-index: 0;}#sk-container-id-7 div.sk-serial {display: flex;flex-direction: column;align-items: center;background-color: white;padding-right: 0.2em;padding-left: 0.2em;position: relative;}#sk-container-id-7 div.sk-item {position: relative;z-index: 1;}#sk-container-id-7 div.sk-parallel {display: flex;align-items: stretch;justify-content: center;background-color: white;position: relative;}#sk-container-id-7 div.sk-item::before, #sk-container-id-7 div.sk-parallel-item::before {content: \"\";position: absolute;border-left: 1px solid gray;box-sizing: border-box;top: 0;bottom: 0;left: 50%;z-index: -1;}#sk-container-id-7 div.sk-parallel-item {display: flex;flex-direction: column;z-index: 1;position: relative;background-color: white;}#sk-container-id-7 div.sk-parallel-item:first-child::after {align-self: flex-end;width: 50%;}#sk-container-id-7 div.sk-parallel-item:last-child::after {align-self: flex-start;width: 50%;}#sk-container-id-7 div.sk-parallel-item:only-child::after {width: 0;}#sk-container-id-7 div.sk-dashed-wrapped {border: 1px dashed gray;margin: 0 0.4em 0.5em 0.4em;box-sizing: border-box;padding-bottom: 0.4em;background-color: white;}#sk-container-id-7 div.sk-label label {font-family: monospace;font-weight: bold;display: inline-block;line-height: 1.2em;}#sk-container-id-7 div.sk-label-container {text-align: center;}#sk-container-id-7 div.sk-container {/* jupyter's `normalize.less` sets `[hidden] { display: none; }` but bootstrap.min.css set `[hidden] { display: none !important; }` so we also need the `!important` here to be able to override the default hidden behavior on the sphinx rendered scikit-learn.org. See: https://github.com/scikit-learn/scikit-learn/issues/21755 */display: inline-block !important;position: relative;}#sk-container-id-7 div.sk-text-repr-fallback {display: none;}</style><div id=\"sk-container-id-7\" class=\"sk-top-container\"><div class=\"sk-text-repr-fallback\"><pre>DecisionTreeClassifier(max_depth=7, min_samples_split=5)</pre><b>In a Jupyter environment, please rerun this cell to show the HTML representation or trust the notebook. <br />On GitHub, the HTML representation is unable to render, please try loading this page with nbviewer.org.</b></div><div class=\"sk-container\" hidden><div class=\"sk-item\"><div class=\"sk-estimator sk-toggleable\"><input class=\"sk-toggleable__control sk-hidden--visually\" id=\"sk-estimator-id-15\" type=\"checkbox\" checked><label for=\"sk-estimator-id-15\" class=\"sk-toggleable__label sk-toggleable__label-arrow\">DecisionTreeClassifier</label><div class=\"sk-toggleable__content\"><pre>DecisionTreeClassifier(max_depth=7, min_samples_split=5)</pre></div></div></div></div></div>"
      ],
      "text/plain": [
       "DecisionTreeClassifier(max_depth=7, min_samples_split=5)"
      ]
     },
     "execution_count": 169,
     "metadata": {},
     "output_type": "execute_result"
    }
   ],
   "source": [
    "dtc_grid.fit(X_train_dtc,y_train)"
   ]
  },
  {
   "cell_type": "code",
   "execution_count": 170,
   "id": "fc934cb1",
   "metadata": {},
   "outputs": [],
   "source": [
    "y_stc_grid = dtc_grid.predict(X_test_dtc)"
   ]
  },
  {
   "cell_type": "code",
   "execution_count": 171,
   "id": "0df847de",
   "metadata": {
    "scrolled": true
   },
   "outputs": [
    {
     "data": {
      "text/plain": [
       "{'Accuracy Score': 0.8057,\n",
       " 'Recall Score': 0.7489,\n",
       " 'Precision Score': 0.7377,\n",
       " 'F1 Score': 0.7433}"
      ]
     },
     "execution_count": 171,
     "metadata": {},
     "output_type": "execute_result"
    }
   ],
   "source": [
    "classification_model_scores(y_test,y_stc_grid)"
   ]
  },
  {
   "cell_type": "code",
   "execution_count": 172,
   "id": "a5952d10",
   "metadata": {},
   "outputs": [],
   "source": [
    "models_scores[\"Decition Tree Classifier Grid Search\"]=classification_model_scores(y_test,y_stc_grid)"
   ]
  },
  {
   "cell_type": "code",
   "execution_count": 173,
   "id": "6b31b45f",
   "metadata": {},
   "outputs": [
    {
     "data": {
      "text/plain": [
       "array([[1568,  299],\n",
       "       [ 282,  841]], dtype=int64)"
      ]
     },
     "execution_count": 173,
     "metadata": {},
     "output_type": "execute_result"
    }
   ],
   "source": [
    "confusion_matrix(y_test,y_stc_grid)"
   ]
  },
  {
   "cell_type": "markdown",
   "id": "dce29a1a",
   "metadata": {},
   "source": [
    "# Random Forest Classifier"
   ]
  },
  {
   "cell_type": "markdown",
   "id": "7ca9af9a",
   "metadata": {},
   "source": [
    "## Feature Selection"
   ]
  },
  {
   "cell_type": "markdown",
   "id": "fa07ad95",
   "metadata": {},
   "source": [
    "**For feature selection let's use RFECV method. Let's use the Random Forest Classifier as the estimator, as it is better to use the same type of algorithm for feature selection as for model training.**"
   ]
  },
  {
   "cell_type": "markdown",
   "id": "b744c092",
   "metadata": {},
   "source": [
    "### RFECV "
   ]
  },
  {
   "cell_type": "code",
   "execution_count": 174,
   "id": "9617c0f9",
   "metadata": {},
   "outputs": [],
   "source": [
    "selector2=RFECV(RandomForestClassifier(),cv=3,step=1)"
   ]
  },
  {
   "cell_type": "code",
   "execution_count": 175,
   "id": "ac82ff6a",
   "metadata": {},
   "outputs": [
    {
     "data": {
      "text/html": [
       "<style>#sk-container-id-8 {color: black;background-color: white;}#sk-container-id-8 pre{padding: 0;}#sk-container-id-8 div.sk-toggleable {background-color: white;}#sk-container-id-8 label.sk-toggleable__label {cursor: pointer;display: block;width: 100%;margin-bottom: 0;padding: 0.3em;box-sizing: border-box;text-align: center;}#sk-container-id-8 label.sk-toggleable__label-arrow:before {content: \"▸\";float: left;margin-right: 0.25em;color: #696969;}#sk-container-id-8 label.sk-toggleable__label-arrow:hover:before {color: black;}#sk-container-id-8 div.sk-estimator:hover label.sk-toggleable__label-arrow:before {color: black;}#sk-container-id-8 div.sk-toggleable__content {max-height: 0;max-width: 0;overflow: hidden;text-align: left;background-color: #f0f8ff;}#sk-container-id-8 div.sk-toggleable__content pre {margin: 0.2em;color: black;border-radius: 0.25em;background-color: #f0f8ff;}#sk-container-id-8 input.sk-toggleable__control:checked~div.sk-toggleable__content {max-height: 200px;max-width: 100%;overflow: auto;}#sk-container-id-8 input.sk-toggleable__control:checked~label.sk-toggleable__label-arrow:before {content: \"▾\";}#sk-container-id-8 div.sk-estimator input.sk-toggleable__control:checked~label.sk-toggleable__label {background-color: #d4ebff;}#sk-container-id-8 div.sk-label input.sk-toggleable__control:checked~label.sk-toggleable__label {background-color: #d4ebff;}#sk-container-id-8 input.sk-hidden--visually {border: 0;clip: rect(1px 1px 1px 1px);clip: rect(1px, 1px, 1px, 1px);height: 1px;margin: -1px;overflow: hidden;padding: 0;position: absolute;width: 1px;}#sk-container-id-8 div.sk-estimator {font-family: monospace;background-color: #f0f8ff;border: 1px dotted black;border-radius: 0.25em;box-sizing: border-box;margin-bottom: 0.5em;}#sk-container-id-8 div.sk-estimator:hover {background-color: #d4ebff;}#sk-container-id-8 div.sk-parallel-item::after {content: \"\";width: 100%;border-bottom: 1px solid gray;flex-grow: 1;}#sk-container-id-8 div.sk-label:hover label.sk-toggleable__label {background-color: #d4ebff;}#sk-container-id-8 div.sk-serial::before {content: \"\";position: absolute;border-left: 1px solid gray;box-sizing: border-box;top: 0;bottom: 0;left: 50%;z-index: 0;}#sk-container-id-8 div.sk-serial {display: flex;flex-direction: column;align-items: center;background-color: white;padding-right: 0.2em;padding-left: 0.2em;position: relative;}#sk-container-id-8 div.sk-item {position: relative;z-index: 1;}#sk-container-id-8 div.sk-parallel {display: flex;align-items: stretch;justify-content: center;background-color: white;position: relative;}#sk-container-id-8 div.sk-item::before, #sk-container-id-8 div.sk-parallel-item::before {content: \"\";position: absolute;border-left: 1px solid gray;box-sizing: border-box;top: 0;bottom: 0;left: 50%;z-index: -1;}#sk-container-id-8 div.sk-parallel-item {display: flex;flex-direction: column;z-index: 1;position: relative;background-color: white;}#sk-container-id-8 div.sk-parallel-item:first-child::after {align-self: flex-end;width: 50%;}#sk-container-id-8 div.sk-parallel-item:last-child::after {align-self: flex-start;width: 50%;}#sk-container-id-8 div.sk-parallel-item:only-child::after {width: 0;}#sk-container-id-8 div.sk-dashed-wrapped {border: 1px dashed gray;margin: 0 0.4em 0.5em 0.4em;box-sizing: border-box;padding-bottom: 0.4em;background-color: white;}#sk-container-id-8 div.sk-label label {font-family: monospace;font-weight: bold;display: inline-block;line-height: 1.2em;}#sk-container-id-8 div.sk-label-container {text-align: center;}#sk-container-id-8 div.sk-container {/* jupyter's `normalize.less` sets `[hidden] { display: none; }` but bootstrap.min.css set `[hidden] { display: none !important; }` so we also need the `!important` here to be able to override the default hidden behavior on the sphinx rendered scikit-learn.org. See: https://github.com/scikit-learn/scikit-learn/issues/21755 */display: inline-block !important;position: relative;}#sk-container-id-8 div.sk-text-repr-fallback {display: none;}</style><div id=\"sk-container-id-8\" class=\"sk-top-container\"><div class=\"sk-text-repr-fallback\"><pre>RFECV(cv=3, estimator=RandomForestClassifier())</pre><b>In a Jupyter environment, please rerun this cell to show the HTML representation or trust the notebook. <br />On GitHub, the HTML representation is unable to render, please try loading this page with nbviewer.org.</b></div><div class=\"sk-container\" hidden><div class=\"sk-item sk-dashed-wrapped\"><div class=\"sk-label-container\"><div class=\"sk-label sk-toggleable\"><input class=\"sk-toggleable__control sk-hidden--visually\" id=\"sk-estimator-id-16\" type=\"checkbox\" ><label for=\"sk-estimator-id-16\" class=\"sk-toggleable__label sk-toggleable__label-arrow\">RFECV</label><div class=\"sk-toggleable__content\"><pre>RFECV(cv=3, estimator=RandomForestClassifier())</pre></div></div></div><div class=\"sk-parallel\"><div class=\"sk-parallel-item\"><div class=\"sk-item\"><div class=\"sk-label-container\"><div class=\"sk-label sk-toggleable\"><input class=\"sk-toggleable__control sk-hidden--visually\" id=\"sk-estimator-id-17\" type=\"checkbox\" ><label for=\"sk-estimator-id-17\" class=\"sk-toggleable__label sk-toggleable__label-arrow\">estimator: RandomForestClassifier</label><div class=\"sk-toggleable__content\"><pre>RandomForestClassifier()</pre></div></div></div><div class=\"sk-serial\"><div class=\"sk-item\"><div class=\"sk-estimator sk-toggleable\"><input class=\"sk-toggleable__control sk-hidden--visually\" id=\"sk-estimator-id-18\" type=\"checkbox\" ><label for=\"sk-estimator-id-18\" class=\"sk-toggleable__label sk-toggleable__label-arrow\">RandomForestClassifier</label><div class=\"sk-toggleable__content\"><pre>RandomForestClassifier()</pre></div></div></div></div></div></div></div></div></div></div>"
      ],
      "text/plain": [
       "RFECV(cv=3, estimator=RandomForestClassifier())"
      ]
     },
     "execution_count": 175,
     "metadata": {},
     "output_type": "execute_result"
    }
   ],
   "source": [
    "selector2.fit(X_train,y_train)"
   ]
  },
  {
   "cell_type": "code",
   "execution_count": 176,
   "id": "c102401a",
   "metadata": {},
   "outputs": [
    {
     "data": {
      "text/plain": [
       "27"
      ]
     },
     "execution_count": 176,
     "metadata": {},
     "output_type": "execute_result"
    }
   ],
   "source": [
    "selector2.n_features_"
   ]
  },
  {
   "cell_type": "code",
   "execution_count": 177,
   "id": "6125c458",
   "metadata": {},
   "outputs": [
    {
     "data": {
      "text/plain": [
       "array([ True,  True,  True,  True,  True,  True,  True,  True,  True,\n",
       "        True, False,  True,  True,  True,  True,  True, False,  True,\n",
       "        True,  True,  True,  True,  True,  True,  True,  True,  True,\n",
       "        True, False,  True])"
      ]
     },
     "execution_count": 177,
     "metadata": {},
     "output_type": "execute_result"
    }
   ],
   "source": [
    "selector2.get_support()"
   ]
  },
  {
   "cell_type": "code",
   "execution_count": 178,
   "id": "bfa03884",
   "metadata": {},
   "outputs": [],
   "source": [
    "features_names1 = X_train.columns\n",
    "features_flags1 = selector2.get_support()\n",
    "\n",
    "chosen_features1=[feat for feat, flag in zip(features_names1, features_flags1) if flag]"
   ]
  },
  {
   "cell_type": "code",
   "execution_count": 179,
   "id": "5d9309f7",
   "metadata": {},
   "outputs": [
    {
     "data": {
      "text/plain": [
       "['Do Not Email',\n",
       " 'TotalVisits',\n",
       " 'Total Time Spent on Website',\n",
       " 'Page Views Per Visit',\n",
       " 'A free copy of Mastering The Interview',\n",
       " 'Lead Origin_API',\n",
       " 'Lead Origin_Landing Page Submission',\n",
       " 'Lead Origin_Other',\n",
       " 'Lead Source_Direct Traffic',\n",
       " 'Lead Source_Google',\n",
       " 'Lead Source_Organic Search',\n",
       " 'Lead Source_Other',\n",
       " 'Last Activity_Email Opened',\n",
       " 'Last Activity_Olark Chat Conversation',\n",
       " 'Last Activity_Other',\n",
       " 'Last Activity_SMS Sent',\n",
       " 'Specialization_Finance Management',\n",
       " 'Specialization_Human Resource Management',\n",
       " 'Specialization_Marketing Management',\n",
       " 'Specialization_Operations Management',\n",
       " 'Specialization_Other',\n",
       " 'City_Mumbai',\n",
       " 'City_Other',\n",
       " 'City_Thane & Outskirts',\n",
       " 'Last Notable Activity_Email Opened',\n",
       " 'Last Notable Activity_Modified',\n",
       " 'Last Notable Activity_SMS Sent']"
      ]
     },
     "execution_count": 179,
     "metadata": {},
     "output_type": "execute_result"
    }
   ],
   "source": [
    "chosen_features1"
   ]
  },
  {
   "cell_type": "markdown",
   "id": "a0eb9e5c",
   "metadata": {},
   "source": [
    "**Let's leave only columns that were selected by RFECV.**"
   ]
  },
  {
   "cell_type": "code",
   "execution_count": 180,
   "id": "401a02e7",
   "metadata": {},
   "outputs": [],
   "source": [
    "features_to_delete1=[i for i in X_train.columns if i not in chosen_features1]"
   ]
  },
  {
   "cell_type": "code",
   "execution_count": 181,
   "id": "ea5d5a37",
   "metadata": {},
   "outputs": [
    {
     "data": {
      "text/plain": [
       "['Lead Source_Olark Chat',\n",
       " 'Last Activity_Page Visited on Website',\n",
       " 'Last Notable Activity_Other']"
      ]
     },
     "execution_count": 181,
     "metadata": {},
     "output_type": "execute_result"
    }
   ],
   "source": [
    "features_to_delete1"
   ]
  },
  {
   "cell_type": "code",
   "execution_count": 182,
   "id": "9f50d59f",
   "metadata": {},
   "outputs": [],
   "source": [
    "X_train_rfc=X_train.copy()\n",
    "X_test_rfc=X_test.copy()"
   ]
  },
  {
   "cell_type": "code",
   "execution_count": 183,
   "id": "3c356b57",
   "metadata": {},
   "outputs": [],
   "source": [
    "X_train_rfc.drop(features_to_delete,axis=1,inplace=True)\n",
    "X_test_rfc.drop(features_to_delete,axis=1,inplace=True)"
   ]
  },
  {
   "cell_type": "markdown",
   "id": "2eaeca54",
   "metadata": {},
   "source": [
    "### Basic Random Forest Classifier"
   ]
  },
  {
   "cell_type": "markdown",
   "id": "ae31c1b5",
   "metadata": {},
   "source": [
    "**Let's build basic Random Forest Classifier without params optimization**"
   ]
  },
  {
   "cell_type": "code",
   "execution_count": 184,
   "id": "304a5bcc",
   "metadata": {},
   "outputs": [],
   "source": [
    "rfc=DecisionTreeClassifier()"
   ]
  },
  {
   "cell_type": "code",
   "execution_count": 185,
   "id": "d61d141c",
   "metadata": {},
   "outputs": [
    {
     "data": {
      "text/html": [
       "<style>#sk-container-id-9 {color: black;background-color: white;}#sk-container-id-9 pre{padding: 0;}#sk-container-id-9 div.sk-toggleable {background-color: white;}#sk-container-id-9 label.sk-toggleable__label {cursor: pointer;display: block;width: 100%;margin-bottom: 0;padding: 0.3em;box-sizing: border-box;text-align: center;}#sk-container-id-9 label.sk-toggleable__label-arrow:before {content: \"▸\";float: left;margin-right: 0.25em;color: #696969;}#sk-container-id-9 label.sk-toggleable__label-arrow:hover:before {color: black;}#sk-container-id-9 div.sk-estimator:hover label.sk-toggleable__label-arrow:before {color: black;}#sk-container-id-9 div.sk-toggleable__content {max-height: 0;max-width: 0;overflow: hidden;text-align: left;background-color: #f0f8ff;}#sk-container-id-9 div.sk-toggleable__content pre {margin: 0.2em;color: black;border-radius: 0.25em;background-color: #f0f8ff;}#sk-container-id-9 input.sk-toggleable__control:checked~div.sk-toggleable__content {max-height: 200px;max-width: 100%;overflow: auto;}#sk-container-id-9 input.sk-toggleable__control:checked~label.sk-toggleable__label-arrow:before {content: \"▾\";}#sk-container-id-9 div.sk-estimator input.sk-toggleable__control:checked~label.sk-toggleable__label {background-color: #d4ebff;}#sk-container-id-9 div.sk-label input.sk-toggleable__control:checked~label.sk-toggleable__label {background-color: #d4ebff;}#sk-container-id-9 input.sk-hidden--visually {border: 0;clip: rect(1px 1px 1px 1px);clip: rect(1px, 1px, 1px, 1px);height: 1px;margin: -1px;overflow: hidden;padding: 0;position: absolute;width: 1px;}#sk-container-id-9 div.sk-estimator {font-family: monospace;background-color: #f0f8ff;border: 1px dotted black;border-radius: 0.25em;box-sizing: border-box;margin-bottom: 0.5em;}#sk-container-id-9 div.sk-estimator:hover {background-color: #d4ebff;}#sk-container-id-9 div.sk-parallel-item::after {content: \"\";width: 100%;border-bottom: 1px solid gray;flex-grow: 1;}#sk-container-id-9 div.sk-label:hover label.sk-toggleable__label {background-color: #d4ebff;}#sk-container-id-9 div.sk-serial::before {content: \"\";position: absolute;border-left: 1px solid gray;box-sizing: border-box;top: 0;bottom: 0;left: 50%;z-index: 0;}#sk-container-id-9 div.sk-serial {display: flex;flex-direction: column;align-items: center;background-color: white;padding-right: 0.2em;padding-left: 0.2em;position: relative;}#sk-container-id-9 div.sk-item {position: relative;z-index: 1;}#sk-container-id-9 div.sk-parallel {display: flex;align-items: stretch;justify-content: center;background-color: white;position: relative;}#sk-container-id-9 div.sk-item::before, #sk-container-id-9 div.sk-parallel-item::before {content: \"\";position: absolute;border-left: 1px solid gray;box-sizing: border-box;top: 0;bottom: 0;left: 50%;z-index: -1;}#sk-container-id-9 div.sk-parallel-item {display: flex;flex-direction: column;z-index: 1;position: relative;background-color: white;}#sk-container-id-9 div.sk-parallel-item:first-child::after {align-self: flex-end;width: 50%;}#sk-container-id-9 div.sk-parallel-item:last-child::after {align-self: flex-start;width: 50%;}#sk-container-id-9 div.sk-parallel-item:only-child::after {width: 0;}#sk-container-id-9 div.sk-dashed-wrapped {border: 1px dashed gray;margin: 0 0.4em 0.5em 0.4em;box-sizing: border-box;padding-bottom: 0.4em;background-color: white;}#sk-container-id-9 div.sk-label label {font-family: monospace;font-weight: bold;display: inline-block;line-height: 1.2em;}#sk-container-id-9 div.sk-label-container {text-align: center;}#sk-container-id-9 div.sk-container {/* jupyter's `normalize.less` sets `[hidden] { display: none; }` but bootstrap.min.css set `[hidden] { display: none !important; }` so we also need the `!important` here to be able to override the default hidden behavior on the sphinx rendered scikit-learn.org. See: https://github.com/scikit-learn/scikit-learn/issues/21755 */display: inline-block !important;position: relative;}#sk-container-id-9 div.sk-text-repr-fallback {display: none;}</style><div id=\"sk-container-id-9\" class=\"sk-top-container\"><div class=\"sk-text-repr-fallback\"><pre>DecisionTreeClassifier()</pre><b>In a Jupyter environment, please rerun this cell to show the HTML representation or trust the notebook. <br />On GitHub, the HTML representation is unable to render, please try loading this page with nbviewer.org.</b></div><div class=\"sk-container\" hidden><div class=\"sk-item\"><div class=\"sk-estimator sk-toggleable\"><input class=\"sk-toggleable__control sk-hidden--visually\" id=\"sk-estimator-id-19\" type=\"checkbox\" checked><label for=\"sk-estimator-id-19\" class=\"sk-toggleable__label sk-toggleable__label-arrow\">DecisionTreeClassifier</label><div class=\"sk-toggleable__content\"><pre>DecisionTreeClassifier()</pre></div></div></div></div></div>"
      ],
      "text/plain": [
       "DecisionTreeClassifier()"
      ]
     },
     "execution_count": 185,
     "metadata": {},
     "output_type": "execute_result"
    }
   ],
   "source": [
    "rfc.fit(X_train_rfc,y_train)"
   ]
  },
  {
   "cell_type": "code",
   "execution_count": 186,
   "id": "6724cf02",
   "metadata": {},
   "outputs": [],
   "source": [
    "y_rfc = rfc.predict(X_test_rfc)"
   ]
  },
  {
   "cell_type": "code",
   "execution_count": 187,
   "id": "33602f9a",
   "metadata": {
    "scrolled": false
   },
   "outputs": [
    {
     "data": {
      "text/plain": [
       "{'Accuracy Score': 0.7595,\n",
       " 'Recall Score': 0.6536,\n",
       " 'Precision Score': 0.6898,\n",
       " 'F1 Score': 0.6712}"
      ]
     },
     "execution_count": 187,
     "metadata": {},
     "output_type": "execute_result"
    }
   ],
   "source": [
    "classification_model_scores(y_test,y_rfc)"
   ]
  },
  {
   "cell_type": "code",
   "execution_count": 188,
   "id": "be2bfec6",
   "metadata": {},
   "outputs": [],
   "source": [
    "models_scores[\"Random Forest Classifier\"]=classification_model_scores(y_test,y_rfc)"
   ]
  },
  {
   "cell_type": "code",
   "execution_count": 189,
   "id": "5402db27",
   "metadata": {},
   "outputs": [
    {
     "data": {
      "text/plain": [
       "array([[1537,  330],\n",
       "       [ 389,  734]], dtype=int64)"
      ]
     },
     "execution_count": 189,
     "metadata": {},
     "output_type": "execute_result"
    }
   ],
   "source": [
    "confusion_matrix(y_test,y_rfc)"
   ]
  },
  {
   "cell_type": "markdown",
   "id": "187cd62d",
   "metadata": {},
   "source": [
    "### Grid Search "
   ]
  },
  {
   "cell_type": "code",
   "execution_count": 190,
   "id": "87530486",
   "metadata": {},
   "outputs": [],
   "source": [
    "param_grid3 = { \n",
    "    \"n_estimators\": [200, 500],\n",
    "    \"max_features\": [\"sqrt\", \"log2\", None],\n",
    "    \"max_depth\" : [4,5,6,7,8],\n",
    "    \"criterion\" :[\"gini\", \"entropy\"]\n",
    "}"
   ]
  },
  {
   "cell_type": "code",
   "execution_count": 191,
   "id": "44730f6a",
   "metadata": {},
   "outputs": [],
   "source": [
    "gs3 = GridSearchCV(RandomForestClassifier(),param_grid3,cv=3)"
   ]
  },
  {
   "cell_type": "code",
   "execution_count": 192,
   "id": "c43a947b",
   "metadata": {
    "scrolled": false
   },
   "outputs": [
    {
     "name": "stdout",
     "output_type": "stream",
     "text": [
      "Wall time: 3min 37s\n"
     ]
    },
    {
     "data": {
      "text/html": [
       "<style>#sk-container-id-10 {color: black;background-color: white;}#sk-container-id-10 pre{padding: 0;}#sk-container-id-10 div.sk-toggleable {background-color: white;}#sk-container-id-10 label.sk-toggleable__label {cursor: pointer;display: block;width: 100%;margin-bottom: 0;padding: 0.3em;box-sizing: border-box;text-align: center;}#sk-container-id-10 label.sk-toggleable__label-arrow:before {content: \"▸\";float: left;margin-right: 0.25em;color: #696969;}#sk-container-id-10 label.sk-toggleable__label-arrow:hover:before {color: black;}#sk-container-id-10 div.sk-estimator:hover label.sk-toggleable__label-arrow:before {color: black;}#sk-container-id-10 div.sk-toggleable__content {max-height: 0;max-width: 0;overflow: hidden;text-align: left;background-color: #f0f8ff;}#sk-container-id-10 div.sk-toggleable__content pre {margin: 0.2em;color: black;border-radius: 0.25em;background-color: #f0f8ff;}#sk-container-id-10 input.sk-toggleable__control:checked~div.sk-toggleable__content {max-height: 200px;max-width: 100%;overflow: auto;}#sk-container-id-10 input.sk-toggleable__control:checked~label.sk-toggleable__label-arrow:before {content: \"▾\";}#sk-container-id-10 div.sk-estimator input.sk-toggleable__control:checked~label.sk-toggleable__label {background-color: #d4ebff;}#sk-container-id-10 div.sk-label input.sk-toggleable__control:checked~label.sk-toggleable__label {background-color: #d4ebff;}#sk-container-id-10 input.sk-hidden--visually {border: 0;clip: rect(1px 1px 1px 1px);clip: rect(1px, 1px, 1px, 1px);height: 1px;margin: -1px;overflow: hidden;padding: 0;position: absolute;width: 1px;}#sk-container-id-10 div.sk-estimator {font-family: monospace;background-color: #f0f8ff;border: 1px dotted black;border-radius: 0.25em;box-sizing: border-box;margin-bottom: 0.5em;}#sk-container-id-10 div.sk-estimator:hover {background-color: #d4ebff;}#sk-container-id-10 div.sk-parallel-item::after {content: \"\";width: 100%;border-bottom: 1px solid gray;flex-grow: 1;}#sk-container-id-10 div.sk-label:hover label.sk-toggleable__label {background-color: #d4ebff;}#sk-container-id-10 div.sk-serial::before {content: \"\";position: absolute;border-left: 1px solid gray;box-sizing: border-box;top: 0;bottom: 0;left: 50%;z-index: 0;}#sk-container-id-10 div.sk-serial {display: flex;flex-direction: column;align-items: center;background-color: white;padding-right: 0.2em;padding-left: 0.2em;position: relative;}#sk-container-id-10 div.sk-item {position: relative;z-index: 1;}#sk-container-id-10 div.sk-parallel {display: flex;align-items: stretch;justify-content: center;background-color: white;position: relative;}#sk-container-id-10 div.sk-item::before, #sk-container-id-10 div.sk-parallel-item::before {content: \"\";position: absolute;border-left: 1px solid gray;box-sizing: border-box;top: 0;bottom: 0;left: 50%;z-index: -1;}#sk-container-id-10 div.sk-parallel-item {display: flex;flex-direction: column;z-index: 1;position: relative;background-color: white;}#sk-container-id-10 div.sk-parallel-item:first-child::after {align-self: flex-end;width: 50%;}#sk-container-id-10 div.sk-parallel-item:last-child::after {align-self: flex-start;width: 50%;}#sk-container-id-10 div.sk-parallel-item:only-child::after {width: 0;}#sk-container-id-10 div.sk-dashed-wrapped {border: 1px dashed gray;margin: 0 0.4em 0.5em 0.4em;box-sizing: border-box;padding-bottom: 0.4em;background-color: white;}#sk-container-id-10 div.sk-label label {font-family: monospace;font-weight: bold;display: inline-block;line-height: 1.2em;}#sk-container-id-10 div.sk-label-container {text-align: center;}#sk-container-id-10 div.sk-container {/* jupyter's `normalize.less` sets `[hidden] { display: none; }` but bootstrap.min.css set `[hidden] { display: none !important; }` so we also need the `!important` here to be able to override the default hidden behavior on the sphinx rendered scikit-learn.org. See: https://github.com/scikit-learn/scikit-learn/issues/21755 */display: inline-block !important;position: relative;}#sk-container-id-10 div.sk-text-repr-fallback {display: none;}</style><div id=\"sk-container-id-10\" class=\"sk-top-container\"><div class=\"sk-text-repr-fallback\"><pre>GridSearchCV(cv=3, estimator=RandomForestClassifier(),\n",
       "             param_grid={&#x27;criterion&#x27;: [&#x27;gini&#x27;, &#x27;entropy&#x27;],\n",
       "                         &#x27;max_depth&#x27;: [4, 5, 6, 7, 8],\n",
       "                         &#x27;max_features&#x27;: [&#x27;sqrt&#x27;, &#x27;log2&#x27;, None],\n",
       "                         &#x27;n_estimators&#x27;: [200, 500]})</pre><b>In a Jupyter environment, please rerun this cell to show the HTML representation or trust the notebook. <br />On GitHub, the HTML representation is unable to render, please try loading this page with nbviewer.org.</b></div><div class=\"sk-container\" hidden><div class=\"sk-item sk-dashed-wrapped\"><div class=\"sk-label-container\"><div class=\"sk-label sk-toggleable\"><input class=\"sk-toggleable__control sk-hidden--visually\" id=\"sk-estimator-id-20\" type=\"checkbox\" ><label for=\"sk-estimator-id-20\" class=\"sk-toggleable__label sk-toggleable__label-arrow\">GridSearchCV</label><div class=\"sk-toggleable__content\"><pre>GridSearchCV(cv=3, estimator=RandomForestClassifier(),\n",
       "             param_grid={&#x27;criterion&#x27;: [&#x27;gini&#x27;, &#x27;entropy&#x27;],\n",
       "                         &#x27;max_depth&#x27;: [4, 5, 6, 7, 8],\n",
       "                         &#x27;max_features&#x27;: [&#x27;sqrt&#x27;, &#x27;log2&#x27;, None],\n",
       "                         &#x27;n_estimators&#x27;: [200, 500]})</pre></div></div></div><div class=\"sk-parallel\"><div class=\"sk-parallel-item\"><div class=\"sk-item\"><div class=\"sk-label-container\"><div class=\"sk-label sk-toggleable\"><input class=\"sk-toggleable__control sk-hidden--visually\" id=\"sk-estimator-id-21\" type=\"checkbox\" ><label for=\"sk-estimator-id-21\" class=\"sk-toggleable__label sk-toggleable__label-arrow\">estimator: RandomForestClassifier</label><div class=\"sk-toggleable__content\"><pre>RandomForestClassifier()</pre></div></div></div><div class=\"sk-serial\"><div class=\"sk-item\"><div class=\"sk-estimator sk-toggleable\"><input class=\"sk-toggleable__control sk-hidden--visually\" id=\"sk-estimator-id-22\" type=\"checkbox\" ><label for=\"sk-estimator-id-22\" class=\"sk-toggleable__label sk-toggleable__label-arrow\">RandomForestClassifier</label><div class=\"sk-toggleable__content\"><pre>RandomForestClassifier()</pre></div></div></div></div></div></div></div></div></div></div>"
      ],
      "text/plain": [
       "GridSearchCV(cv=3, estimator=RandomForestClassifier(),\n",
       "             param_grid={'criterion': ['gini', 'entropy'],\n",
       "                         'max_depth': [4, 5, 6, 7, 8],\n",
       "                         'max_features': ['sqrt', 'log2', None],\n",
       "                         'n_estimators': [200, 500]})"
      ]
     },
     "execution_count": 192,
     "metadata": {},
     "output_type": "execute_result"
    }
   ],
   "source": [
    "%%time\n",
    "gs3.fit(X_train_rfc,y_train)"
   ]
  },
  {
   "cell_type": "code",
   "execution_count": 193,
   "id": "c1540ba8",
   "metadata": {},
   "outputs": [
    {
     "data": {
      "text/plain": [
       "{'criterion': 'gini',\n",
       " 'max_depth': 7,\n",
       " 'max_features': 'log2',\n",
       " 'n_estimators': 500}"
      ]
     },
     "execution_count": 193,
     "metadata": {},
     "output_type": "execute_result"
    }
   ],
   "source": [
    "gs3.best_params_"
   ]
  },
  {
   "cell_type": "markdown",
   "id": "0ab3907e",
   "metadata": {},
   "source": [
    "### Random Forest Classifier after Grid Search"
   ]
  },
  {
   "cell_type": "code",
   "execution_count": 201,
   "id": "4e118ff7",
   "metadata": {},
   "outputs": [],
   "source": [
    "rfc_grid=RandomForestClassifier(criterion=\"gini\",max_depth=7,max_features=\"log2\",n_estimators=500)"
   ]
  },
  {
   "cell_type": "code",
   "execution_count": 202,
   "id": "6fcfd426",
   "metadata": {},
   "outputs": [
    {
     "data": {
      "text/html": [
       "<style>#sk-container-id-12 {color: black;background-color: white;}#sk-container-id-12 pre{padding: 0;}#sk-container-id-12 div.sk-toggleable {background-color: white;}#sk-container-id-12 label.sk-toggleable__label {cursor: pointer;display: block;width: 100%;margin-bottom: 0;padding: 0.3em;box-sizing: border-box;text-align: center;}#sk-container-id-12 label.sk-toggleable__label-arrow:before {content: \"▸\";float: left;margin-right: 0.25em;color: #696969;}#sk-container-id-12 label.sk-toggleable__label-arrow:hover:before {color: black;}#sk-container-id-12 div.sk-estimator:hover label.sk-toggleable__label-arrow:before {color: black;}#sk-container-id-12 div.sk-toggleable__content {max-height: 0;max-width: 0;overflow: hidden;text-align: left;background-color: #f0f8ff;}#sk-container-id-12 div.sk-toggleable__content pre {margin: 0.2em;color: black;border-radius: 0.25em;background-color: #f0f8ff;}#sk-container-id-12 input.sk-toggleable__control:checked~div.sk-toggleable__content {max-height: 200px;max-width: 100%;overflow: auto;}#sk-container-id-12 input.sk-toggleable__control:checked~label.sk-toggleable__label-arrow:before {content: \"▾\";}#sk-container-id-12 div.sk-estimator input.sk-toggleable__control:checked~label.sk-toggleable__label {background-color: #d4ebff;}#sk-container-id-12 div.sk-label input.sk-toggleable__control:checked~label.sk-toggleable__label {background-color: #d4ebff;}#sk-container-id-12 input.sk-hidden--visually {border: 0;clip: rect(1px 1px 1px 1px);clip: rect(1px, 1px, 1px, 1px);height: 1px;margin: -1px;overflow: hidden;padding: 0;position: absolute;width: 1px;}#sk-container-id-12 div.sk-estimator {font-family: monospace;background-color: #f0f8ff;border: 1px dotted black;border-radius: 0.25em;box-sizing: border-box;margin-bottom: 0.5em;}#sk-container-id-12 div.sk-estimator:hover {background-color: #d4ebff;}#sk-container-id-12 div.sk-parallel-item::after {content: \"\";width: 100%;border-bottom: 1px solid gray;flex-grow: 1;}#sk-container-id-12 div.sk-label:hover label.sk-toggleable__label {background-color: #d4ebff;}#sk-container-id-12 div.sk-serial::before {content: \"\";position: absolute;border-left: 1px solid gray;box-sizing: border-box;top: 0;bottom: 0;left: 50%;z-index: 0;}#sk-container-id-12 div.sk-serial {display: flex;flex-direction: column;align-items: center;background-color: white;padding-right: 0.2em;padding-left: 0.2em;position: relative;}#sk-container-id-12 div.sk-item {position: relative;z-index: 1;}#sk-container-id-12 div.sk-parallel {display: flex;align-items: stretch;justify-content: center;background-color: white;position: relative;}#sk-container-id-12 div.sk-item::before, #sk-container-id-12 div.sk-parallel-item::before {content: \"\";position: absolute;border-left: 1px solid gray;box-sizing: border-box;top: 0;bottom: 0;left: 50%;z-index: -1;}#sk-container-id-12 div.sk-parallel-item {display: flex;flex-direction: column;z-index: 1;position: relative;background-color: white;}#sk-container-id-12 div.sk-parallel-item:first-child::after {align-self: flex-end;width: 50%;}#sk-container-id-12 div.sk-parallel-item:last-child::after {align-self: flex-start;width: 50%;}#sk-container-id-12 div.sk-parallel-item:only-child::after {width: 0;}#sk-container-id-12 div.sk-dashed-wrapped {border: 1px dashed gray;margin: 0 0.4em 0.5em 0.4em;box-sizing: border-box;padding-bottom: 0.4em;background-color: white;}#sk-container-id-12 div.sk-label label {font-family: monospace;font-weight: bold;display: inline-block;line-height: 1.2em;}#sk-container-id-12 div.sk-label-container {text-align: center;}#sk-container-id-12 div.sk-container {/* jupyter's `normalize.less` sets `[hidden] { display: none; }` but bootstrap.min.css set `[hidden] { display: none !important; }` so we also need the `!important` here to be able to override the default hidden behavior on the sphinx rendered scikit-learn.org. See: https://github.com/scikit-learn/scikit-learn/issues/21755 */display: inline-block !important;position: relative;}#sk-container-id-12 div.sk-text-repr-fallback {display: none;}</style><div id=\"sk-container-id-12\" class=\"sk-top-container\"><div class=\"sk-text-repr-fallback\"><pre>RandomForestClassifier(max_depth=7, max_features=&#x27;log2&#x27;, n_estimators=500)</pre><b>In a Jupyter environment, please rerun this cell to show the HTML representation or trust the notebook. <br />On GitHub, the HTML representation is unable to render, please try loading this page with nbviewer.org.</b></div><div class=\"sk-container\" hidden><div class=\"sk-item\"><div class=\"sk-estimator sk-toggleable\"><input class=\"sk-toggleable__control sk-hidden--visually\" id=\"sk-estimator-id-24\" type=\"checkbox\" checked><label for=\"sk-estimator-id-24\" class=\"sk-toggleable__label sk-toggleable__label-arrow\">RandomForestClassifier</label><div class=\"sk-toggleable__content\"><pre>RandomForestClassifier(max_depth=7, max_features=&#x27;log2&#x27;, n_estimators=500)</pre></div></div></div></div></div>"
      ],
      "text/plain": [
       "RandomForestClassifier(max_depth=7, max_features='log2', n_estimators=500)"
      ]
     },
     "execution_count": 202,
     "metadata": {},
     "output_type": "execute_result"
    }
   ],
   "source": [
    "rfc_grid.fit(X_train_rfc,y_train)"
   ]
  },
  {
   "cell_type": "code",
   "execution_count": 204,
   "id": "bf140bdf",
   "metadata": {},
   "outputs": [],
   "source": [
    "y_rfcgrid = rfc_grid.predict(X_test_rfc)"
   ]
  },
  {
   "cell_type": "code",
   "execution_count": 205,
   "id": "3191e58f",
   "metadata": {
    "scrolled": true
   },
   "outputs": [
    {
     "data": {
      "text/plain": [
       "{'Accuracy Score': 0.8187,\n",
       " 'Recall Score': 0.732,\n",
       " 'Precision Score': 0.7733,\n",
       " 'F1 Score': 0.7521}"
      ]
     },
     "execution_count": 205,
     "metadata": {},
     "output_type": "execute_result"
    }
   ],
   "source": [
    "classification_model_scores(y_test,y_rfcgrid)"
   ]
  },
  {
   "cell_type": "code",
   "execution_count": 206,
   "id": "4c3bb329",
   "metadata": {
    "scrolled": true
   },
   "outputs": [
    {
     "data": {
      "text/plain": [
       "array([[1626,  241],\n",
       "       [ 301,  822]], dtype=int64)"
      ]
     },
     "execution_count": 206,
     "metadata": {},
     "output_type": "execute_result"
    }
   ],
   "source": [
    "confusion_matrix(y_test,y_rfcgrid)"
   ]
  },
  {
   "cell_type": "code",
   "execution_count": 207,
   "id": "012d4267",
   "metadata": {},
   "outputs": [],
   "source": [
    "models_scores[\"Random Forest Classifier Grid Search\"]=classification_model_scores(y_test,y_rfcgrid)"
   ]
  },
  {
   "cell_type": "markdown",
   "id": "42b111cb",
   "metadata": {},
   "source": [
    "# Summary"
   ]
  },
  {
   "cell_type": "markdown",
   "id": "3de2fd3b",
   "metadata": {},
   "source": [
    "## The best classificator"
   ]
  },
  {
   "cell_type": "code",
   "execution_count": 208,
   "id": "fa57a716",
   "metadata": {
    "scrolled": true
   },
   "outputs": [
    {
     "data": {
      "text/html": [
       "<div>\n",
       "<style scoped>\n",
       "    .dataframe tbody tr th:only-of-type {\n",
       "        vertical-align: middle;\n",
       "    }\n",
       "\n",
       "    .dataframe tbody tr th {\n",
       "        vertical-align: top;\n",
       "    }\n",
       "\n",
       "    .dataframe thead th {\n",
       "        text-align: right;\n",
       "    }\n",
       "</style>\n",
       "<table border=\"1\" class=\"dataframe\">\n",
       "  <thead>\n",
       "    <tr style=\"text-align: right;\">\n",
       "      <th></th>\n",
       "      <th>Logistic Regression</th>\n",
       "      <th>Logistic Regression Grid Search</th>\n",
       "      <th>Decition Tree Classifier</th>\n",
       "      <th>Decition Tree Classifier Grid Search</th>\n",
       "      <th>Random Forest Classifier</th>\n",
       "      <th>Random Forest Classifier Grid Search</th>\n",
       "    </tr>\n",
       "  </thead>\n",
       "  <tbody>\n",
       "    <tr>\n",
       "      <th>Accuracy Score</th>\n",
       "      <td>0.7983</td>\n",
       "      <td>0.7970</td>\n",
       "      <td>0.7615</td>\n",
       "      <td>0.8057</td>\n",
       "      <td>0.7595</td>\n",
       "      <td>0.8187</td>\n",
       "    </tr>\n",
       "    <tr>\n",
       "      <th>Recall Score</th>\n",
       "      <td>0.6705</td>\n",
       "      <td>0.6723</td>\n",
       "      <td>0.6616</td>\n",
       "      <td>0.7489</td>\n",
       "      <td>0.6536</td>\n",
       "      <td>0.7320</td>\n",
       "    </tr>\n",
       "    <tr>\n",
       "      <th>Precision Score</th>\n",
       "      <td>0.7637</td>\n",
       "      <td>0.7596</td>\n",
       "      <td>0.6905</td>\n",
       "      <td>0.7377</td>\n",
       "      <td>0.6898</td>\n",
       "      <td>0.7733</td>\n",
       "    </tr>\n",
       "    <tr>\n",
       "      <th>F1 Score</th>\n",
       "      <td>0.7141</td>\n",
       "      <td>0.7133</td>\n",
       "      <td>0.6758</td>\n",
       "      <td>0.7433</td>\n",
       "      <td>0.6712</td>\n",
       "      <td>0.7521</td>\n",
       "    </tr>\n",
       "  </tbody>\n",
       "</table>\n",
       "</div>"
      ],
      "text/plain": [
       "                 Logistic Regression  Logistic Regression Grid Search  \\\n",
       "Accuracy Score                0.7983                           0.7970   \n",
       "Recall Score                  0.6705                           0.6723   \n",
       "Precision Score               0.7637                           0.7596   \n",
       "F1 Score                      0.7141                           0.7133   \n",
       "\n",
       "                 Decition Tree Classifier  \\\n",
       "Accuracy Score                     0.7615   \n",
       "Recall Score                       0.6616   \n",
       "Precision Score                    0.6905   \n",
       "F1 Score                           0.6758   \n",
       "\n",
       "                 Decition Tree Classifier Grid Search  \\\n",
       "Accuracy Score                                 0.8057   \n",
       "Recall Score                                   0.7489   \n",
       "Precision Score                                0.7377   \n",
       "F1 Score                                       0.7433   \n",
       "\n",
       "                 Random Forest Classifier  \\\n",
       "Accuracy Score                     0.7595   \n",
       "Recall Score                       0.6536   \n",
       "Precision Score                    0.6898   \n",
       "F1 Score                           0.6712   \n",
       "\n",
       "                 Random Forest Classifier Grid Search  \n",
       "Accuracy Score                                 0.8187  \n",
       "Recall Score                                   0.7320  \n",
       "Precision Score                                0.7733  \n",
       "F1 Score                                       0.7521  "
      ]
     },
     "execution_count": 208,
     "metadata": {},
     "output_type": "execute_result"
    }
   ],
   "source": [
    "pd.DataFrame.from_dict(models_scores)"
   ]
  },
  {
   "cell_type": "markdown",
   "id": "2609e39a",
   "metadata": {},
   "source": [
    "**The best classification model in case of F1 score that was managed to be prepared in this work is Random Forest Classifier with following parameters:**\n",
    "\n",
    "'criterion': 'gini',\n",
    "'max_depth': 7,\n",
    "'max_features': 'log2',\n",
    "'n_estimators': 500"
   ]
  },
  {
   "cell_type": "markdown",
   "id": "b91c121c",
   "metadata": {},
   "source": [
    "## What could have been done differently"
   ]
  },
  {
   "cell_type": "markdown",
   "id": "0b6f248e",
   "metadata": {},
   "source": [
    "**The best classification model has 75,21% of F1 Score, this is a good performance, but the performance might be impoved by trying such solutions:** <br>- Try more feature selection methods for e.g. selection based on coefficients magnitude, selection using feature importance, RFE or others<br> - Use different models for e.g. SVM, XGBoost or Naive Bayes, <br> - Use different parameters for Grid Search <br> - Use ensemble learning: bagging, boosting or stacking"
   ]
  }
 ],
 "metadata": {
  "kernelspec": {
   "display_name": "Python 3",
   "language": "python",
   "name": "python3"
  },
  "language_info": {
   "codemirror_mode": {
    "name": "ipython",
    "version": 3
   },
   "file_extension": ".py",
   "mimetype": "text/x-python",
   "name": "python",
   "nbconvert_exporter": "python",
   "pygments_lexer": "ipython3",
   "version": "3.8.8"
  },
  "toc": {
   "base_numbering": 1,
   "nav_menu": {},
   "number_sections": true,
   "sideBar": true,
   "skip_h1_title": false,
   "title_cell": "Table of Contents",
   "title_sidebar": "Contents",
   "toc_cell": true,
   "toc_position": {},
   "toc_section_display": true,
   "toc_window_display": false
  },
  "varInspector": {
   "cols": {
    "lenName": 16,
    "lenType": 16,
    "lenVar": 40
   },
   "kernels_config": {
    "python": {
     "delete_cmd_postfix": "",
     "delete_cmd_prefix": "del ",
     "library": "var_list.py",
     "varRefreshCmd": "print(var_dic_list())"
    },
    "r": {
     "delete_cmd_postfix": ") ",
     "delete_cmd_prefix": "rm(",
     "library": "var_list.r",
     "varRefreshCmd": "cat(var_dic_list()) "
    }
   },
   "types_to_exclude": [
    "module",
    "function",
    "builtin_function_or_method",
    "instance",
    "_Feature"
   ],
   "window_display": false
  }
 },
 "nbformat": 4,
 "nbformat_minor": 5
}
